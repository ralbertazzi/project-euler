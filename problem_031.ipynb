{
 "cells": [
  {
   "cell_type": "markdown",
   "metadata": {},
   "source": [
    "# Problem 31\n",
    "\n",
    "### Coin sums\n",
    "\n",
    "In England the currency is made up of pound, £, and pence, p, and there are eight coins in general circulation:\n",
    "\n",
    "1p, 2p, 5p, 10p, 20p, 50p, £1 (100p) and £2 (200p).\n",
    "It is possible to make £2 in the following way:\n",
    "\n",
    "1×£1 + 1×50p + 2×20p + 1×5p + 1×2p + 3×1p\n",
    "How many different ways can £2 be made using any number of coins?"
   ]
  },
  {
   "cell_type": "markdown",
   "metadata": {},
   "source": [
    "### Solution\n",
    "\n",
    "We will perform a recursive tree search were we at each node we try to insert a coin and we remove the value of the coin from the remaining. A solution is found when the remaining is zero.\n",
    "\n",
    "In order to speed up the computation and avoid for duplicates, it's wise to order the coins from biggest to smallest and allow for the algorithm to insert a coin that is smaller or equal to the last inserted coin."
   ]
  },
  {
   "cell_type": "code",
   "execution_count": 1,
   "metadata": {},
   "outputs": [
    {
     "name": "stdout",
     "output_type": "stream",
     "text": [
      "73682\n"
     ]
    }
   ],
   "source": [
    "count = 0\n",
    "\n",
    "def rec_search(remaining, available_coins):\n",
    "    \n",
    "    if remaining == 0:\n",
    "        global count\n",
    "        count += 1\n",
    "    else:\n",
    "        for idx, coin in enumerate(available_coins):\n",
    "            if remaining >= coin:\n",
    "                rec_search(remaining - coin, available_coins[idx:])\n",
    "                \n",
    "rec_search(200, [200, 100, 50, 20, 10, 5, 2, 1])\n",
    "print count"
   ]
  }
 ],
 "metadata": {
  "kernelspec": {
   "display_name": "Python 2",
   "language": "python",
   "name": "python2"
  },
  "language_info": {
   "codemirror_mode": {
    "name": "ipython",
    "version": 2
   },
   "file_extension": ".py",
   "mimetype": "text/x-python",
   "name": "python",
   "nbconvert_exporter": "python",
   "pygments_lexer": "ipython2",
   "version": "2.7.12"
  }
 },
 "nbformat": 4,
 "nbformat_minor": 2
}
