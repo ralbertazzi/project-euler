{
 "cells": [
  {
   "cell_type": "markdown",
   "metadata": {},
   "source": [
    "# Problem 79\n",
    "\n",
    "### Passcode derivation\n",
    "\n",
    "A common security method used for online banking is to ask the user for three random characters from a passcode. For example, if the passcode was 531278, they may ask for the 2nd, 3rd, and 5th characters; the expected reply would be: 317.\n",
    "\n",
    "The text file, keylog.txt, contains fifty successful login attempts.\n",
    "\n",
    "Given that the three characters are always asked for in order, analyse the file so as to determine the shortest possible secret passcode of unknown length."
   ]
  },
  {
   "cell_type": "markdown",
   "metadata": {},
   "source": [
    "### Solution\n",
    "\n",
    "First we can see that some attempts are repeated, so we can reduce the number of attempts when loading them."
   ]
  },
  {
   "cell_type": "code",
   "execution_count": 1,
   "metadata": {},
   "outputs": [
    {
     "name": "stdout",
     "output_type": "stream",
     "text": [
      "33 unique attempts\n"
     ]
    }
   ],
   "source": [
    "with open('data/p079_keylog.txt') as f:\n",
    "    attempts = f.read().split()\n",
    "    attempts = list(set(attempts))\n",
    "    print len(attempts), 'unique attempts'"
   ]
  },
  {
   "cell_type": "markdown",
   "metadata": {},
   "source": [
    "We are going to convert the 8 digits/characters that are inside the 33 attempts to consecutive indexes of an array."
   ]
  },
  {
   "cell_type": "code",
   "execution_count": 2,
   "metadata": {},
   "outputs": [
    {
     "data": {
      "text/plain": [
       "{'0': 0, '1': 1, '2': 2, '3': 3, '6': 4, '7': 5, '8': 6, '9': 7}"
      ]
     },
     "execution_count": 2,
     "metadata": {},
     "output_type": "execute_result"
    }
   ],
   "source": [
    "problem_digits = '01236789'\n",
    "\n",
    "char_to_idx = {char: idx for idx, char in enumerate(problem_digits)}\n",
    "idx_to_char = {idx: char for idx, char in enumerate(problem_digits)}\n",
    "\n",
    "char_to_idx"
   ]
  },
  {
   "cell_type": "code",
   "execution_count": 3,
   "metadata": {},
   "outputs": [],
   "source": [
    "attempts = [[char_to_idx[char] for char in attempt] for attempt in attempts]"
   ]
  },
  {
   "cell_type": "markdown",
   "metadata": {},
   "source": [
    "We build a dictionary that, for each digit, contains the attempts whose last digit is that digit."
   ]
  },
  {
   "cell_type": "code",
   "execution_count": 4,
   "metadata": {},
   "outputs": [
    {
     "data": {
      "text/plain": [
       "defaultdict(list,\n",
       "            {0: [[4, 2, 0],\n",
       "              [4, 7, 0],\n",
       "              [5, 7, 0],\n",
       "              [1, 6, 0],\n",
       "              [5, 4, 0],\n",
       "              [6, 7, 0],\n",
       "              [5, 1, 0],\n",
       "              [3, 6, 0],\n",
       "              [1, 4, 0],\n",
       "              [5, 2, 0],\n",
       "              [4, 6, 0],\n",
       "              [2, 7, 0]],\n",
       "             1: [[5, 3, 1]],\n",
       "             2: [[5, 4, 2], [3, 4, 2], [1, 4, 2]],\n",
       "             4: [[3, 1, 4], [5, 3, 4], [5, 1, 4]],\n",
       "             6: [[3, 1, 6], [3, 4, 6], [5, 1, 6], [1, 4, 6], [5, 2, 6]],\n",
       "             7: [[3, 1, 7],\n",
       "              [4, 2, 7],\n",
       "              [5, 4, 7],\n",
       "              [3, 6, 7],\n",
       "              [2, 6, 7],\n",
       "              [5, 1, 7],\n",
       "              [1, 2, 7],\n",
       "              [4, 6, 7],\n",
       "              [5, 2, 7]]})"
      ]
     },
     "execution_count": 4,
     "metadata": {},
     "output_type": "execute_result"
    }
   ],
   "source": [
    "from collections import defaultdict\n",
    "\n",
    "last_digit_dictionary = defaultdict(list)\n",
    "for attempt in attempts:\n",
    "    last_digit_dictionary[attempt[2]].append(attempt)\n",
    "    \n",
    "last_digit_dictionary"
   ]
  },
  {
   "cell_type": "markdown",
   "metadata": {},
   "source": [
    "Since we have 8 distinct digits, we can build an array that, for each index *i*, tells how many times we can use that digit inside the passcode. The following code tries recursively to add digits to the final passcode and uses the attempts from the input file to prune the search. In fact, when we have inserted the digit *d* for the maximum number of times allowed, we can verify that all the attempts whose last digit is *d* are valid, by checking the digits that have been included before *d*."
   ]
  },
  {
   "cell_type": "code",
   "execution_count": 5,
   "metadata": {},
   "outputs": [],
   "source": [
    "def constraint_check(passcode, attempt):\n",
    "    if len(passcode) < 3:\n",
    "        return False\n",
    "    else:\n",
    "        try:\n",
    "            i0 = passcode.index(attempt[0])\n",
    "            i1 = passcode.index(attempt[1])\n",
    "            return i0 < i1\n",
    "        except ValueError:\n",
    "            return False\n",
    "        \n",
    "\n",
    "def find_feasible(vector, passcode=[], last_used_digit=-1):\n",
    "    \n",
    "    if sum(vector) == 0:\n",
    "        print 'Solution:', passcode\n",
    "        return passcode\n",
    "        \n",
    "    for digit in [d for d, v in enumerate(vector) if v > 0 and d != last_used_digit]:\n",
    "        vector2 = vector[::]\n",
    "        vector2[digit] -= 1\n",
    "        passcode2 = passcode[::]\n",
    "        passcode2.append(digit)\n",
    "        \n",
    "        still_valid = True\n",
    "        \n",
    "        if vector2[digit] == 0:   # constraints\n",
    "            \n",
    "            for attempt in last_digit_dictionary[digit]:\n",
    "                if not constraint_check(passcode2, attempt):\n",
    "                    still_valid = False\n",
    "                    print passcode2, 'is not feasible because of attempt', attempt\n",
    "                    break\n",
    "                    \n",
    "        if still_valid:\n",
    "            print passcode2\n",
    "            found_solution = find_feasible(vector2, passcode2, digit)\n",
    "            if found_solution is not None:\n",
    "                return found_solution\n",
    "            \n",
    "    return None"
   ]
  },
  {
   "cell_type": "markdown",
   "metadata": {},
   "source": [
    "We can find a solution with the shortest possible solution, made of 8 digits:"
   ]
  },
  {
   "cell_type": "code",
   "execution_count": 6,
   "metadata": {},
   "outputs": [
    {
     "name": "stdout",
     "output_type": "stream",
     "text": [
      "[0] is not feasible because of attempt [4, 2, 0]\n",
      "[1] is not feasible because of attempt [5, 3, 1]\n",
      "[2] is not feasible because of attempt [5, 4, 2]\n",
      "[3]\n",
      "[3, 0] is not feasible because of attempt [4, 2, 0]\n",
      "[3, 1] is not feasible because of attempt [5, 3, 1]\n",
      "[3, 2] is not feasible because of attempt [5, 4, 2]\n",
      "[3, 4] is not feasible because of attempt [3, 1, 4]\n",
      "[3, 5]\n",
      "[3, 5, 0] is not feasible because of attempt [4, 2, 0]\n",
      "[3, 5, 1] is not feasible because of attempt [5, 3, 1]\n",
      "[3, 5, 2] is not feasible because of attempt [5, 4, 2]\n",
      "[3, 5, 4] is not feasible because of attempt [3, 1, 4]\n",
      "[3, 5, 6] is not feasible because of attempt [3, 1, 6]\n",
      "[3, 5, 7] is not feasible because of attempt [3, 1, 7]\n",
      "[3, 6] is not feasible because of attempt [3, 1, 6]\n",
      "[3, 7] is not feasible because of attempt [3, 1, 7]\n",
      "[4] is not feasible because of attempt [3, 1, 4]\n",
      "[5]\n",
      "[5, 0] is not feasible because of attempt [4, 2, 0]\n",
      "[5, 1] is not feasible because of attempt [5, 3, 1]\n",
      "[5, 2] is not feasible because of attempt [5, 4, 2]\n",
      "[5, 3]\n",
      "[5, 3, 0] is not feasible because of attempt [4, 2, 0]\n",
      "[5, 3, 1]\n",
      "[5, 3, 1, 0] is not feasible because of attempt [4, 2, 0]\n",
      "[5, 3, 1, 2] is not feasible because of attempt [5, 4, 2]\n",
      "[5, 3, 1, 4]\n",
      "[5, 3, 1, 4, 0] is not feasible because of attempt [4, 2, 0]\n",
      "[5, 3, 1, 4, 2]\n",
      "[5, 3, 1, 4, 2, 0] is not feasible because of attempt [4, 7, 0]\n",
      "[5, 3, 1, 4, 2, 6]\n",
      "[5, 3, 1, 4, 2, 6, 0] is not feasible because of attempt [4, 7, 0]\n",
      "[5, 3, 1, 4, 2, 6, 7]\n",
      "[5, 3, 1, 4, 2, 6, 7, 0]\n",
      "Solution: [5, 3, 1, 4, 2, 6, 7, 0]\n"
     ]
    }
   ],
   "source": [
    "passcode = find_feasible([1,1,1,1,1,1,1,1])"
   ]
  },
  {
   "cell_type": "markdown",
   "metadata": {},
   "source": [
    "We then convert the solution from indexes of our vectors to the initial numbers:"
   ]
  },
  {
   "cell_type": "code",
   "execution_count": 7,
   "metadata": {},
   "outputs": [
    {
     "name": "stdout",
     "output_type": "stream",
     "text": [
      "73162890\n"
     ]
    }
   ],
   "source": [
    "print ''.join([idx_to_char[idx] for idx in passcode])"
   ]
  }
 ],
 "metadata": {
  "kernelspec": {
   "display_name": "Python 2",
   "language": "python",
   "name": "python2"
  },
  "language_info": {
   "codemirror_mode": {
    "name": "ipython",
    "version": 2
   },
   "file_extension": ".py",
   "mimetype": "text/x-python",
   "name": "python",
   "nbconvert_exporter": "python",
   "pygments_lexer": "ipython2",
   "version": "2.7.12"
  }
 },
 "nbformat": 4,
 "nbformat_minor": 2
}
