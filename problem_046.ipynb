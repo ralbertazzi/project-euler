{
 "cells": [
  {
   "cell_type": "markdown",
   "metadata": {},
   "source": [
    "# Problem 46\n",
    "\n",
    "### Goldbach's other conjecture\n",
    "\n",
    "It was proposed by Christian Goldbach that every odd composite number can be written as the sum of a prime and twice a square.\n",
    "\n",
    "9 = 7 + 2×1^2\n",
    "\n",
    "15 = 7 + 2×2^2\n",
    "\n",
    "21 = 3 + 2×3^2\n",
    "\n",
    "25 = 7 + 2×3^2\n",
    "\n",
    "27 = 19 + 2×2^2\n",
    "\n",
    "33 = 31 + 2×1^2\n",
    "\n",
    "It turns out that the conjecture was false.\n",
    "\n",
    "What is the smallest odd composite that cannot be written as the sum of a prime and twice a square?"
   ]
  },
  {
   "cell_type": "markdown",
   "metadata": {},
   "source": [
    "### Solution\n",
    "\n",
    "First we set a testing interval (TEST_MAX). Then we generate all the primes in that interval."
   ]
  },
  {
   "cell_type": "code",
   "execution_count": 1,
   "metadata": {},
   "outputs": [],
   "source": [
    "from utils.primes import primes_sieve\n",
    "import numpy as np\n",
    "import math\n",
    "\n",
    "TEST_MAX = 100000"
   ]
  },
  {
   "cell_type": "code",
   "execution_count": 2,
   "metadata": {},
   "outputs": [],
   "source": [
    "primes = primes_sieve(TEST_MAX)"
   ]
  },
  {
   "cell_type": "markdown",
   "metadata": {},
   "source": [
    "The idea is that we are going to remove to each composite number *n* a prime number *p* ($p < n$); after doing that, we need to find is the difference can be expressed as s square doubled.\n",
    "\n",
    "We can keep track of the primes that are below *n* in order to avoid testing each time on primes that are greater than *n*. We can also store all the values $2 x^2$ that are below the testing limit."
   ]
  },
  {
   "cell_type": "code",
   "execution_count": 3,
   "metadata": {},
   "outputs": [
    {
     "name": "stdout",
     "output_type": "stream",
     "text": [
      "223  possible double squares\n"
     ]
    }
   ],
   "source": [
    "double_squares = [2*x**2 for x in xrange(int(math.sqrt(TEST_MAX // 2)))]\n",
    "print len(double_squares), ' possible double squares'"
   ]
  },
  {
   "cell_type": "code",
   "execution_count": 4,
   "metadata": {},
   "outputs": [],
   "source": [
    "idx_prime = 4  # index of 11\n",
    "primes_less_then_n = [3, 5, 7]"
   ]
  },
  {
   "cell_type": "code",
   "execution_count": 5,
   "metadata": {},
   "outputs": [
    {
     "name": "stdout",
     "output_type": "stream",
     "text": [
      "5777\n"
     ]
    }
   ],
   "source": [
    "for n in xrange(9, primes.max(), 2):\n",
    "    \n",
    "    if n == primes[idx_prime]: # n is a prime\n",
    "        primes_less_then_n.append(primes[idx_prime])\n",
    "        idx_prime += 1\n",
    "        continue\n",
    "        \n",
    "    # Here we have a composite number n and the list of primes less than n\n",
    "    \n",
    "    conjecture_worked = False\n",
    "    \n",
    "    for prime in primes_less_then_n:\n",
    "        diff = n - prime\n",
    "        if diff in double_squares:\n",
    "            conjecture_worked = True\n",
    "            break\n",
    "            \n",
    "    if not conjecture_worked:\n",
    "        print n\n",
    "        break"
   ]
  }
 ],
 "metadata": {
  "kernelspec": {
   "display_name": "Python 2",
   "language": "python",
   "name": "python2"
  },
  "language_info": {
   "codemirror_mode": {
    "name": "ipython",
    "version": 2
   },
   "file_extension": ".py",
   "mimetype": "text/x-python",
   "name": "python",
   "nbconvert_exporter": "python",
   "pygments_lexer": "ipython2",
   "version": "2.7.12"
  }
 },
 "nbformat": 4,
 "nbformat_minor": 2
}
