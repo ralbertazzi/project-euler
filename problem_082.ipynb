{
 "cells": [
  {
   "cell_type": "markdown",
   "metadata": {},
   "source": [
    "# Problem 82\n",
    "\n",
    "The minimal path sum in the 5 by 5 matrix below, by starting in any cell in the left column and finishing in any cell in the right column, and only moving up, down, and right, is indicated in red and bold; the sum is equal to 994.\n",
    "\n",
    "Find the minimal path sum, in matrix.txt (right click and \"Save Link/Target As...\"), a 31K text file containing a 80 by 80 matrix, from the left column to the right column."
   ]
  },
  {
   "cell_type": "markdown",
   "metadata": {},
   "source": [
    "### Solution\n",
    "\n",
    "grid contains the arry of costs, while visited_coords contains the array of minimum path costs for each coordinate. We are going to visit a node only if the coordinates have never been visited or the new path cost is less than the old path cost stored in visited_coords"
   ]
  },
  {
   "cell_type": "code",
   "execution_count": 1,
   "metadata": {},
   "outputs": [],
   "source": [
    "import numpy as np\n",
    "\n",
    "grid = np.loadtxt('data/p082_matrix.txt', delimiter=',', dtype=np.int)\n",
    "\n",
    "possible_moves = [(0, 1), (-1, 0), (1, 0)]  # Right, Up and Down"
   ]
  },
  {
   "cell_type": "code",
   "execution_count": 2,
   "metadata": {},
   "outputs": [],
   "source": [
    "from collections import namedtuple\n",
    "from sortedcontainers import SortedList\n",
    "\n",
    "Node = namedtuple('Node', 'coords cost')\n",
    "nodes_to_explore = SortedList(key=lambda n: n.cost)\n",
    "\n",
    "visited_coords = np.zeros(grid.shape).astype(np.int)\n",
    "\n",
    "for i in range(len(grid)):\n",
    "    nodes_to_explore.add(Node((i, 0), grid[i, 0]))"
   ]
  },
  {
   "cell_type": "code",
   "execution_count": 3,
   "metadata": {},
   "outputs": [
    {
     "name": "stdout",
     "output_type": "stream",
     "text": [
      "Algorithm terminated\n",
      "260324\n"
     ]
    }
   ],
   "source": [
    "while len(nodes_to_explore) > 0:\n",
    "    \n",
    "    node = nodes_to_explore.pop(0)\n",
    "    visited_coords[node.coords] = node.cost\n",
    "    \n",
    "    if node.coords[1] == len(grid) - 1:\n",
    "        print 'Algorithm terminated'\n",
    "        print node.cost\n",
    "        break\n",
    "        \n",
    "    for move_y, move_x in possible_moves:\n",
    "        new_y, new_x = node.coords[0] + move_y, node.coords[1] + move_x\n",
    "        new_coords = (new_y, new_x)\n",
    "        \n",
    "        if 0 <= new_x < len(grid) and 0 <= new_y < len(grid):\n",
    "            \n",
    "            old_cost = visited_coords[new_coords]\n",
    "            new_cost = node.cost + grid[new_y, new_x]\n",
    "            \n",
    "            if old_cost == 0 or old_cost > new_cost:\n",
    "            \n",
    "                visited_coords[new_coords] = new_cost\n",
    "                next_node = Node(new_coords, new_cost)\n",
    "                nodes_to_explore.add(next_node)"
   ]
  }
 ],
 "metadata": {
  "kernelspec": {
   "display_name": "Python 2",
   "language": "python",
   "name": "python2"
  },
  "language_info": {
   "codemirror_mode": {
    "name": "ipython",
    "version": 2
   },
   "file_extension": ".py",
   "mimetype": "text/x-python",
   "name": "python",
   "nbconvert_exporter": "python",
   "pygments_lexer": "ipython2",
   "version": "2.7.12"
  }
 },
 "nbformat": 4,
 "nbformat_minor": 2
}
