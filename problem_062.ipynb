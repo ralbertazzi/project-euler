{
 "cells": [
  {
   "cell_type": "markdown",
   "metadata": {},
   "source": [
    "# Problem 62\n",
    "\n",
    "### Cubic permutations\n",
    "\n",
    "The cube, 41063625 (345^3), can be permuted to produce two other cubes: 56623104 (384^3) and 66430125 (405^3). In fact, 41063625 is the smallest cube which has exactly three permutations of its digits which are also cube.\n",
    "\n",
    "Find the smallest cube for which exactly five permutations of its digits are cube."
   ]
  },
  {
   "cell_type": "markdown",
   "metadata": {},
   "source": [
    "### Solution\n",
    "\n",
    "First we generate a lot of cubes:"
   ]
  },
  {
   "cell_type": "code",
   "execution_count": 1,
   "metadata": {},
   "outputs": [],
   "source": [
    "cubes_list = [n ** 3 for n in xrange(5, 100000)]"
   ]
  },
  {
   "cell_type": "markdown",
   "metadata": {},
   "source": [
    "Since we need to look for permutations, we can divide the cubes in groups with the same number of digits. Notice that, since we are going to work with permutations, the number are converted into strings."
   ]
  },
  {
   "cell_type": "code",
   "execution_count": 2,
   "metadata": {},
   "outputs": [],
   "source": [
    "def num_digits(n):\n",
    "    \n",
    "    count = 1\n",
    "    while n >= 10:\n",
    "        count += 1\n",
    "        n /= 10\n",
    "        \n",
    "    return count"
   ]
  },
  {
   "cell_type": "code",
   "execution_count": 3,
   "metadata": {},
   "outputs": [],
   "source": [
    "from collections import defaultdict\n",
    "\n",
    "cubes_dict = defaultdict(list)\n",
    "\n",
    "for cube in cubes_list:\n",
    "    cubes_dict[num_digits(cube)].append(str(cube))"
   ]
  },
  {
   "cell_type": "markdown",
   "metadata": {},
   "source": [
    "This is the function that checks if two strings are permutations:"
   ]
  },
  {
   "cell_type": "code",
   "execution_count": 4,
   "metadata": {},
   "outputs": [],
   "source": [
    "def are_permutations(n1, n2):\n",
    "    return sorted(n1) == sorted(n2)"
   ]
  },
  {
   "cell_type": "markdown",
   "metadata": {},
   "source": [
    "We iterate on group of cubes with increasing number of digits in order to find the required number of permutations:"
   ]
  },
  {
   "cell_type": "code",
   "execution_count": 5,
   "metadata": {},
   "outputs": [
    {
     "name": "stdout",
     "output_type": "stream",
     "text": [
      "Analyzing cubes with 3 digits...\n",
      "Analyzing cubes with 4 digits...\n",
      "Analyzing cubes with 5 digits...\n",
      "Analyzing cubes with 6 digits...\n",
      "Analyzing cubes with 7 digits...\n",
      "Analyzing cubes with 8 digits...\n",
      "Analyzing cubes with 9 digits...\n",
      "Analyzing cubes with 10 digits...\n",
      "Analyzing cubes with 11 digits...\n",
      "Analyzing cubes with 12 digits...\n",
      "\n",
      "Found!\n",
      "['127035954683', '352045367981', '373559126408', '569310543872', '589323567104']\n"
     ]
    }
   ],
   "source": [
    "target_num_permutations = 5\n",
    "found = False\n",
    "\n",
    "for n_digits in sorted(cubes_dict.keys()):\n",
    "    \n",
    "    if found:\n",
    "        break\n",
    "    \n",
    "    print 'Analyzing cubes with', n_digits, 'digits...'\n",
    "    \n",
    "    cubes = cubes_dict[n_digits]\n",
    "    \n",
    "    for i in xrange(len(cubes)):\n",
    "        \n",
    "        ci = cubes[i]\n",
    "        permutations = [ci]\n",
    "        \n",
    "        for j in xrange(i + 1, len(cubes)):\n",
    "            \n",
    "            cj = cubes[j]\n",
    "            if are_permutations(ci, cj):\n",
    "                permutations.append(cj)\n",
    "                \n",
    "        if len(permutations) == target_num_permutations:\n",
    "            \n",
    "            print\n",
    "            print 'Found!'\n",
    "            print permutations\n",
    "            \n",
    "            found = True\n",
    "            break"
   ]
  }
 ],
 "metadata": {
  "kernelspec": {
   "display_name": "Python 2",
   "language": "python",
   "name": "python2"
  },
  "language_info": {
   "codemirror_mode": {
    "name": "ipython",
    "version": 2
   },
   "file_extension": ".py",
   "mimetype": "text/x-python",
   "name": "python",
   "nbconvert_exporter": "python",
   "pygments_lexer": "ipython2",
   "version": "2.7.12"
  }
 },
 "nbformat": 4,
 "nbformat_minor": 2
}
