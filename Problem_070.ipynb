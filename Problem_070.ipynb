{
 "cells": [
  {
   "cell_type": "markdown",
   "metadata": {},
   "source": [
    "# Problem 70\n",
    "\n",
    "### Totient permutation\n",
    "\n",
    "Euler's Totient function, φ(n) [sometimes called the phi function], is used to determine the number of positive numbers less than or equal to n which are relatively prime to n. For example, as 1, 2, 4, 5, 7, and 8, are all less than nine and relatively prime to nine, φ(9)=6.\n",
    "The number 1 is considered to be relatively prime to every positive number, so φ(1)=1.\n",
    "\n",
    "Interestingly, φ(87109)=79180, and it can be seen that 87109 is a permutation of 79180.\n",
    "\n",
    "Find the value of n, 1 < n < 10^7, for which φ(n) is a permutation of n and the ratio n/φ(n) produces a minimum."
   ]
  },
  {
   "cell_type": "markdown",
   "metadata": {},
   "source": [
    "### Solution\n",
    "\n",
    "To compute the phi function we are going to use the following [formula](https://en.wikipedia.org/wiki/Euler%27s_totient_function):\n",
    "\n",
    "$$ \\phi(n) = n (1 - \\frac{1}{p_1})(1 - \\frac{1}{p_2}) ... (1 - \\frac{1}{p_n}) $$\n",
    "\n",
    "where $p_1, ..., p_n$ are the prime factors of *n*.\n",
    "\n",
    "First we are going to find the primes number below $10^7$, then we are going to find the prime factors of each number (using a sieve approach).\n",
    "\n",
    "After that we can compute $\\phi(n)$ for each number. The numbers are then ordered for increasing values of $n/\\phi(n)$; the first number in the ordered list whose $phi(n)$ if a permutation of $n$ is the number we are looking for."
   ]
  },
  {
   "cell_type": "code",
   "execution_count": 1,
   "metadata": {},
   "outputs": [],
   "source": [
    "import numpy as np\n",
    "from utils.primes import primes_sieve\n",
    "from utils.math import prod_of_list\n",
    "from itertools import izip\n",
    "from tqdm import trange, tqdm\n",
    "\n",
    "D_MAX = 10000000"
   ]
  },
  {
   "cell_type": "markdown",
   "metadata": {},
   "source": [
    "Compute prime numbers:"
   ]
  },
  {
   "cell_type": "code",
   "execution_count": 2,
   "metadata": {},
   "outputs": [],
   "source": [
    "primes = primes_sieve(D_MAX)"
   ]
  },
  {
   "cell_type": "markdown",
   "metadata": {},
   "source": [
    "Compute prime factors:"
   ]
  },
  {
   "cell_type": "code",
   "execution_count": 3,
   "metadata": {},
   "outputs": [
    {
     "name": "stderr",
     "output_type": "stream",
     "text": [
      "100%|██████████| 664579/664579 [00:11<00:00, 57293.19it/s]\n"
     ]
    }
   ],
   "source": [
    "pd = list(set() for _ in range(2, D_MAX))\n",
    "\n",
    "for prime in tqdm(primes):\n",
    "    for p in pd[(prime - 2)::prime]:\n",
    "        p.add(prime)"
   ]
  },
  {
   "cell_type": "markdown",
   "metadata": {},
   "source": [
    "Compute phi and n / phi"
   ]
  },
  {
   "cell_type": "code",
   "execution_count": 4,
   "metadata": {},
   "outputs": [
    {
     "name": "stderr",
     "output_type": "stream",
     "text": [
      "9999998it [00:18, 544904.44it/s]\n"
     ]
    }
   ],
   "source": [
    "numbers = np.arange(2, D_MAX)\n",
    "phis = np.array([k * prod_of_list([1 - 1./p for p in pds]) for k, pds in tqdm(enumerate(pd, start=2))])  # float array\n",
    "n_phi = numbers / phis"
   ]
  },
  {
   "cell_type": "markdown",
   "metadata": {},
   "source": [
    "Order for increasing values of n / phi:"
   ]
  },
  {
   "cell_type": "code",
   "execution_count": 5,
   "metadata": {},
   "outputs": [],
   "source": [
    "idx_sorted = np.argsort(n_phi)\n",
    "n_sorted, phi_sorted = numbers[idx_sorted], phis[idx_sorted] "
   ]
  },
  {
   "cell_type": "markdown",
   "metadata": {},
   "source": [
    "Find the permutation:"
   ]
  },
  {
   "cell_type": "code",
   "execution_count": 6,
   "metadata": {},
   "outputs": [
    {
     "name": "stdout",
     "output_type": "stream",
     "text": [
      "8319823\n"
     ]
    }
   ],
   "source": [
    "for n, phi in izip(n_sorted, phi_sorted):\n",
    "    \n",
    "    phi = int(round(phi))\n",
    "    n_str, phi_str = sorted(str(n)), sorted(str(phi))\n",
    "    if len(n_str) != len(phi_str):\n",
    "        continue\n",
    "    \n",
    "    permutation = True\n",
    "    for a, b in izip(n_str, phi_str):\n",
    "        if a != b:\n",
    "            permutation = False\n",
    "            break\n",
    "            \n",
    "    if permutation:\n",
    "        print n\n",
    "        break"
   ]
  }
 ],
 "metadata": {
  "kernelspec": {
   "display_name": "Python 2",
   "language": "python",
   "name": "python2"
  },
  "language_info": {
   "codemirror_mode": {
    "name": "ipython",
    "version": 2
   },
   "file_extension": ".py",
   "mimetype": "text/x-python",
   "name": "python",
   "nbconvert_exporter": "python",
   "pygments_lexer": "ipython2",
   "version": "2.7.12"
  }
 },
 "nbformat": 4,
 "nbformat_minor": 2
}
