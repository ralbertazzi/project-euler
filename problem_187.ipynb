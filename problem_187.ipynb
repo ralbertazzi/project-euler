{
 "cells": [
  {
   "cell_type": "markdown",
   "metadata": {},
   "source": [
    "# Problem 187\n",
    "\n",
    "### Semiprimes\n",
    "\n",
    "A composite is a number containing at least two prime factors. For example, 15 = 3 × 5; 9 = 3 × 3; 12 = 2 × 2 × 3.\n",
    "\n",
    "There are ten composites below thirty containing precisely two, not necessarily distinct, prime factors: 4, 6, 9, 10, 14, 15, 21, 22, 25, 26.\n",
    "\n",
    "How many composite integers, n < 10^8, have precisely two, not necessarily distinct, prime factors?"
   ]
  },
  {
   "cell_type": "markdown",
   "metadata": {},
   "source": [
    "### Solution\n",
    "\n",
    "If we consider prime numbers below 10^8, we have a semi-prime number only if the product of two prime numbers is below the considered limit. What we basically have to do, for each prime *p*, is counting the number of prime numbers that are greater or equals to *p* and smaller than *LIMIT / p*"
   ]
  },
  {
   "cell_type": "code",
   "execution_count": 1,
   "metadata": {},
   "outputs": [],
   "source": [
    "from utils.primes import primes_sieve\n",
    "import numpy as np\n",
    "\n",
    "LIMIT = 10**8"
   ]
  },
  {
   "cell_type": "code",
   "execution_count": 2,
   "metadata": {},
   "outputs": [],
   "source": [
    "primes = primes_sieve(LIMIT // 2)"
   ]
  },
  {
   "cell_type": "code",
   "execution_count": 3,
   "metadata": {},
   "outputs": [],
   "source": [
    "last_prime = 0\n",
    "z = np.zeros(primes.max() + 1, dtype=np.int)\n",
    "\n",
    "for i, this_prime in enumerate(primes):\n",
    "    z[last_prime : this_prime + 1] = i\n",
    "    last_prime = this_prime\n",
    "    \n",
    "z[-1] = len(primes)"
   ]
  },
  {
   "cell_type": "code",
   "execution_count": 4,
   "metadata": {},
   "outputs": [
    {
     "data": {
      "text/plain": [
       "17427258"
      ]
     },
     "execution_count": 4,
     "metadata": {},
     "output_type": "execute_result"
    }
   ],
   "source": [
    "from tqdm import tqdm\n",
    "import numpy as np\n",
    "\n",
    "count = len(primes)\n",
    "\n",
    "for i, prime in enumerate(primes[1:], start=1):\n",
    "    l = LIMIT // prime\n",
    "    if l < prime:\n",
    "        break\n",
    "        \n",
    "    count += z[l] - i\n",
    "        \n",
    "count"
   ]
  }
 ],
 "metadata": {
  "kernelspec": {
   "display_name": "Python 2",
   "language": "python",
   "name": "python2"
  },
  "language_info": {
   "codemirror_mode": {
    "name": "ipython",
    "version": 2
   },
   "file_extension": ".py",
   "mimetype": "text/x-python",
   "name": "python",
   "nbconvert_exporter": "python",
   "pygments_lexer": "ipython2",
   "version": "2.7.12"
  }
 },
 "nbformat": 4,
 "nbformat_minor": 2
}
