{
 "cells": [
  {
   "cell_type": "markdown",
   "metadata": {},
   "source": [
    "# Problem 32\n",
    "\n",
    "We shall say that an n-digit number is pandigital if it makes use of all\n",
    "the digits 1 to n exactly once; for example, the 5-digit number, 15234, is\n",
    "1 through 5 pandigital.\n",
    "\n",
    "The product 7254 is unusual, as the identity, 39 × 186 = 7254, containing\n",
    "multiplicand, multiplier, and product is 1 through 9 pandigital.\n",
    "\n",
    "Find the sum of all products whose multiplicand/multiplier/product\n",
    "identity can be written as a 1 through 9 pandigital.\n",
    "\n",
    "HINT: Some products can be obtained in more than one way so be sure to\n",
    "only include it once in your sum."
   ]
  },
  {
   "cell_type": "markdown",
   "metadata": {},
   "source": [
    "### Solution\n",
    "\n",
    "Considering that we need some digits for the multiplier, the multiplicand and the product, and considering that we can use 9 digits in total, the biggest number (product) that we can obtain has 4 digits. If they were 5, we couldn't in fact obtain a number that big with the remaining 4 digits (ex 3 for the multiplier and 1 for the multiplicand).\n",
    "\n",
    "Therefore we can limit the search of pandigital numbers to numbers that are less than 10 thousand.\n",
    "The lower bound for a number of interest is 2, because 1 will give the the other two numbers be equals."
   ]
  },
  {
   "cell_type": "code",
   "execution_count": 1,
   "metadata": {},
   "outputs": [],
   "source": [
    "def has_unique_non_zero_digits(number):\n",
    "    \n",
    "    n_str = str(number)\n",
    "    return '0' not in n_str and len(set(n_str)) == len(n_str)"
   ]
  },
  {
   "cell_type": "code",
   "execution_count": 2,
   "metadata": {},
   "outputs": [],
   "source": [
    "candidates = [n for n in xrange(2, 10000) if has_unique_non_zero_digits(n)]"
   ]
  },
  {
   "cell_type": "code",
   "execution_count": 3,
   "metadata": {},
   "outputs": [
    {
     "data": {
      "text/plain": [
       "[(4, 1738, 6952),\n",
       " (4, 1963, 7852),\n",
       " (12, 483, 5796),\n",
       " (18, 297, 5346),\n",
       " (27, 198, 5346),\n",
       " (28, 157, 4396),\n",
       " (39, 186, 7254),\n",
       " (42, 138, 5796),\n",
       " (48, 159, 7632)]"
      ]
     },
     "execution_count": 3,
     "metadata": {},
     "output_type": "execute_result"
    }
   ],
   "source": [
    "triples = []\n",
    "\n",
    "for idx, n1 in enumerate(candidates):\n",
    "    \n",
    "    # we are interested in couples that, when multiplied, will output a number that is less then 10000\n",
    "    upper_bound = 10000 // n1\n",
    "    \n",
    "    for n2 in candidates[idx+1:]:\n",
    "        if n2 > upper_bound:\n",
    "            break\n",
    "        \n",
    "        prod = n1 * n2\n",
    "        if prod in candidates:\n",
    "            \n",
    "            all_digits = str(n1) + str(n2) + str(prod)\n",
    "            if '0' not in all_digits and len(set(all_digits)) == 9:\n",
    "                triples.append((n1, n2, prod))\n",
    "            \n",
    "triples"
   ]
  },
  {
   "cell_type": "code",
   "execution_count": 4,
   "metadata": {},
   "outputs": [
    {
     "name": "stdout",
     "output_type": "stream",
     "text": [
      "45228\n"
     ]
    }
   ],
   "source": [
    "print sum({triple[2] for triple in triples})"
   ]
  }
 ],
 "metadata": {
  "kernelspec": {
   "display_name": "Python 2",
   "language": "python",
   "name": "python2"
  },
  "language_info": {
   "codemirror_mode": {
    "name": "ipython",
    "version": 2
   },
   "file_extension": ".py",
   "mimetype": "text/x-python",
   "name": "python",
   "nbconvert_exporter": "python",
   "pygments_lexer": "ipython2",
   "version": "2.7.12"
  }
 },
 "nbformat": 4,
 "nbformat_minor": 2
}
