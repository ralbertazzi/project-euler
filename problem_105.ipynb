{
 "cells": [
  {
   "cell_type": "markdown",
   "metadata": {},
   "source": [
    "# Problem 105\n",
    "Let S(A) represent the sum of elements in set A of size n. We shall call it a special sum set if for any two non-empty disjoint subsets, B and C, the following properties are true:\n",
    "\n",
    "- `S(B) ≠ S(C)`; that is, sums of subsets cannot be equal.\n",
    "- If B contains more elements than C then S(B) > S(C).\n",
    "\n",
    "For example, `{81, 88, 75, 42, 87, 84, 86, 65}` is not a special sum set because `65 + 87 + 88 = 75 + 81 + 84`, whereas `{157, 150, 164, 119, 79, 159, 161, 139, 158}` satisfies both rules for all possible subset pair combinations and `S(A) = 1286`.\n",
    "\n",
    "Using sets.txt (right click and \"Save Link/Target As...\"), a 4K text file with one-hundred sets containing seven to twelve elements (the two examples given above are the first two sets in the file), identify all the special sum sets, `A1, A2, ..., Ak, and find the value of S(A1) + S(A2) + ... + S(Ak)`."
   ]
  },
  {
   "cell_type": "code",
   "execution_count": 1,
   "metadata": {},
   "outputs": [],
   "source": [
    "with open(\"data/p105_sets.txt\") as f:\n",
    "    lines = f.read().splitlines()\n",
    "    sets = [set(int(n) for n in line.split(\",\")) for line in lines]"
   ]
  },
  {
   "cell_type": "code",
   "execution_count": 2,
   "metadata": {},
   "outputs": [],
   "source": [
    "from itertools import chain, combinations\n",
    "\n",
    "def powerset(iterable):\n",
    "    \"powerset([1,2,3]) --> () (1,) (2,) (3,) (1,2) (1,3) (2,3) (1,2,3)\"\n",
    "    s = list(iterable)\n",
    "    return chain.from_iterable(combinations(s, r) for r in range(len(s)+1))"
   ]
  },
  {
   "cell_type": "code",
   "execution_count": 3,
   "metadata": {},
   "outputs": [],
   "source": [
    "def is_special_sum_set(s):\n",
    "    sums = set()\n",
    "    max_sum_by_size = dict()\n",
    "    \n",
    "    for subset in powerset(s):\n",
    "        if len(subset) == 0:\n",
    "            continue\n",
    "\n",
    "        ssum = sum(subset)\n",
    "        if ssum in sums:\n",
    "            return False\n",
    "        else:\n",
    "            sums.add(ssum)\n",
    "            \n",
    "        size = len(subset)\n",
    "        if size > 1 and ssum < max_sum_by_size[size - 1]:\n",
    "            return False\n",
    "        \n",
    "        max_sum_by_size[size] = max(max_sum_by_size.get(size, 0), ssum)\n",
    "            \n",
    "    return True"
   ]
  },
  {
   "cell_type": "code",
   "execution_count": 4,
   "metadata": {},
   "outputs": [
    {
     "data": {
      "text/plain": [
       "73702"
      ]
     },
     "execution_count": 4,
     "metadata": {},
     "output_type": "execute_result"
    }
   ],
   "source": [
    "sum(sum(s) for s in sets if is_special_sum_set(s))"
   ]
  }
 ],
 "metadata": {
  "kernelspec": {
   "display_name": "Python 3",
   "language": "python",
   "name": "python3"
  },
  "language_info": {
   "codemirror_mode": {
    "name": "ipython",
    "version": 3
   },
   "file_extension": ".py",
   "mimetype": "text/x-python",
   "name": "python",
   "nbconvert_exporter": "python",
   "pygments_lexer": "ipython3",
   "version": "3.8.1"
  }
 },
 "nbformat": 4,
 "nbformat_minor": 4
}
