{
 "cells": [
  {
   "cell_type": "markdown",
   "metadata": {},
   "source": [
    "# Problem 52\n",
    "\n",
    "### Premuted multiples\n",
    "\n",
    "It can be seen that the number, 125874, and its double, 251748, contain exactly the same digits, but in a different order.\n",
    "\n",
    "Find the smallest positive integer, x, such that 2x, 3x, 4x, 5x, and 6x, contain the same digits."
   ]
  },
  {
   "cell_type": "code",
   "execution_count": 1,
   "metadata": {},
   "outputs": [],
   "source": [
    "from utils.iterate import inf_number_generator"
   ]
  },
  {
   "cell_type": "code",
   "execution_count": 2,
   "metadata": {},
   "outputs": [
    {
     "name": "stdout",
     "output_type": "stream",
     "text": [
      "142857 [142857, 285714, 428571, 571428, 714285, 857142]\n"
     ]
    }
   ],
   "source": [
    "for n in inf_number_generator(start=100):\n",
    "    \n",
    "    digits = set(str(n))\n",
    "    found = True\n",
    "    \n",
    "    for k in (2, 3, 4, 5, 6):\n",
    "        k_digits = set(str(k * n))\n",
    "        if len(digits.symmetric_difference(k_digits)) > 0:\n",
    "            found = False\n",
    "            break\n",
    "            \n",
    "    if found:\n",
    "        print n, [k*n for k in (1,2,3,4,5,6)]\n",
    "        break"
   ]
  }
 ],
 "metadata": {
  "kernelspec": {
   "display_name": "Python 2",
   "language": "python",
   "name": "python2"
  },
  "language_info": {
   "codemirror_mode": {
    "name": "ipython",
    "version": 2
   },
   "file_extension": ".py",
   "mimetype": "text/x-python",
   "name": "python",
   "nbconvert_exporter": "python",
   "pygments_lexer": "ipython2",
   "version": "2.7.12"
  }
 },
 "nbformat": 4,
 "nbformat_minor": 2
}
