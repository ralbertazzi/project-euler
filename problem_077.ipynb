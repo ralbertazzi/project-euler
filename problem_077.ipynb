{
 "cells": [
  {
   "cell_type": "markdown",
   "metadata": {},
   "source": [
    "# Problem 77\n",
    "\n",
    "### Prime summations\n",
    "\n",
    "It is possible to write ten as the sum of primes in exactly five different ways:\n",
    "\n",
    "    7 + 3\n",
    "    5 + 5\n",
    "    5 + 3 + 2\n",
    "    3 + 3 + 2 + 2\n",
    "    2 + 2 + 2 + 2 + 2\n",
    "\n",
    "What is the first value which can be written as the sum of primes in over five thousand different ways?"
   ]
  },
  {
   "cell_type": "markdown",
   "metadata": {},
   "source": [
    "### Solution\n",
    "\n",
    "First an array of counters is initialized with zeros for each number from 0 to MAX_N; then we recursive compute sums of primes for increasing prime numbers. This is recursively done until the sum reaches MAX_N. "
   ]
  },
  {
   "cell_type": "code",
   "execution_count": 1,
   "metadata": {},
   "outputs": [],
   "source": [
    "import numpy as np\n",
    "from utils.primes import primes_sieve\n",
    "\n",
    "primes = primes_sieve(100)\n",
    "MAX_N = 80\n",
    "counts = np.zeros(MAX_N + 1, dtype=int)"
   ]
  },
  {
   "cell_type": "code",
   "execution_count": 2,
   "metadata": {},
   "outputs": [],
   "source": [
    "def rec_add(partial_sum=0, start_idx=0):\n",
    "    \n",
    "    for idx in xrange(start_idx, len(primes)):\n",
    "        new_sum = partial_sum + primes[idx]\n",
    "        if new_sum <= MAX_N:\n",
    "            counts[new_sum] += 1\n",
    "            rec_add(new_sum, idx)\n",
    "        else:\n",
    "            break"
   ]
  },
  {
   "cell_type": "code",
   "execution_count": 3,
   "metadata": {},
   "outputs": [
    {
     "data": {
      "text/plain": [
       "71"
      ]
     },
     "execution_count": 3,
     "metadata": {},
     "output_type": "execute_result"
    }
   ],
   "source": [
    "rec_add()\n",
    "np.where(counts >= 5000)[0][0]"
   ]
  }
 ],
 "metadata": {
  "kernelspec": {
   "display_name": "Python 2",
   "language": "python",
   "name": "python2"
  },
  "language_info": {
   "codemirror_mode": {
    "name": "ipython",
    "version": 2
   },
   "file_extension": ".py",
   "mimetype": "text/x-python",
   "name": "python",
   "nbconvert_exporter": "python",
   "pygments_lexer": "ipython2",
   "version": "2.7.12"
  }
 },
 "nbformat": 4,
 "nbformat_minor": 2
}
