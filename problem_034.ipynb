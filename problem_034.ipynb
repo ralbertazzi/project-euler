{
 "cells": [
  {
   "cell_type": "markdown",
   "metadata": {},
   "source": [
    "# Problem 34\n",
    "\n",
    "\n",
    "145 is a curious number, as 1! + 4! + 5! = 1 + 24 + 120 = 145.\n",
    "\n",
    "Find the sum of all numbers which are equal to the sum of the factorial of\n",
    "their digits.\n",
    "\n",
    "Note: as 1! = 1 and 2! = 2 are not sums they are not included."
   ]
  },
  {
   "cell_type": "code",
   "execution_count": 1,
   "metadata": {},
   "outputs": [],
   "source": [
    "from utils.math import factorial\n",
    "\n",
    "# Cache the factorials\n",
    "factorials = [factorial(i) for i in xrange(10)]"
   ]
  },
  {
   "cell_type": "markdown",
   "metadata": {},
   "source": [
    "If we need to find *all* numbers, it probably means that there's a way to understand when the equality is never going to be valid, so that we can stop the algorithm.\n",
    "\n",
    "If a number has *k* digits, the best we can do is k x 9!. We have to find the right *k* when 10^k > k x 9!"
   ]
  },
  {
   "cell_type": "code",
   "execution_count": 2,
   "metadata": {},
   "outputs": [
    {
     "name": "stdout",
     "output_type": "stream",
     "text": [
      "Max number of test digits: 7\n"
     ]
    }
   ],
   "source": [
    "k = 1\n",
    "while factorials[9] * k > 10 **k:\n",
    "    k += 1\n",
    "    \n",
    "print 'Max number of test digits:', k"
   ]
  },
  {
   "cell_type": "code",
   "execution_count": 3,
   "metadata": {},
   "outputs": [
    {
     "name": "stderr",
     "output_type": "stream",
     "text": [
      "100%|██████████| 9999997/9999997 [01:17<00:00, 129404.36it/s]\n"
     ]
    }
   ],
   "source": [
    "from tqdm import trange\n",
    "\n",
    "def digits(number):\n",
    "    return [int(d) for d in str(number)]\n",
    "\n",
    "cool_numbers = [number for number in trange(3, 10**k) if sum(factorials[digit] for digit in digits(number)) == number]"
   ]
  },
  {
   "cell_type": "code",
   "execution_count": 4,
   "metadata": {},
   "outputs": [
    {
     "name": "stdout",
     "output_type": "stream",
     "text": [
      "40730\n"
     ]
    }
   ],
   "source": [
    "print sum(cool_numbers)"
   ]
  }
 ],
 "metadata": {
  "kernelspec": {
   "display_name": "Python 2",
   "language": "python",
   "name": "python2"
  },
  "language_info": {
   "codemirror_mode": {
    "name": "ipython",
    "version": 2
   },
   "file_extension": ".py",
   "mimetype": "text/x-python",
   "name": "python",
   "nbconvert_exporter": "python",
   "pygments_lexer": "ipython2",
   "version": "2.7.12"
  }
 },
 "nbformat": 4,
 "nbformat_minor": 2
}
