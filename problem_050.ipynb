{
 "cells": [
  {
   "cell_type": "markdown",
   "metadata": {},
   "source": [
    "# Problem 50\n",
    "\n",
    "### Consecutive prime sum\n",
    "\n",
    "The prime 41, can be written as the sum of six consecutive primes:\n",
    "\n",
    "    41 = 2 + 3 + 5 + 7 + 11 + 13\n",
    "    \n",
    "This is the longest sum of consecutive primes that adds to a prime below one-hundred.\n",
    "\n",
    "The longest sum of consecutive primes below one-thousand that adds to a prime, contains 21 terms, and is equal to 953.\n",
    "\n",
    "Which prime, below one-million, can be written as the sum of the most consecutive primes?"
   ]
  },
  {
   "cell_type": "markdown",
   "metadata": {},
   "source": [
    "### Solution\n",
    "\n",
    "First let's get the primes numbers below one-million."
   ]
  },
  {
   "cell_type": "code",
   "execution_count": 1,
   "metadata": {},
   "outputs": [],
   "source": [
    "from utils.primes import primes_sieve\n",
    "\n",
    "primes = primes_sieve(1000000)"
   ]
  },
  {
   "cell_type": "markdown",
   "metadata": {},
   "source": [
    "Then for each prime we sum all the consecutives primes starting from that one, until the sum is over one-million. At each iteration we check if the sum is prime and, in that case, we update the maximum number of consecutive prime numbers found.\n",
    "\n",
    "Notice that, since at each iteration we need to find a list of consecutive numbers that is longer than the current longest one, we sum immediately a number of consecutive primes that is equal to the current longest length found. This speeds up the computation by a lot."
   ]
  },
  {
   "cell_type": "code",
   "execution_count": 2,
   "metadata": {},
   "outputs": [
    {
     "name": "stdout",
     "output_type": "stream",
     "text": [
      "17 4  ( from 2 to 11 )\n",
      "41 6  ( from 2 to 17 )\n",
      "197 12  ( from 2 to 41 )\n",
      "281 14  ( from 2 to 47 )\n",
      "7699 60  ( from 2 to 283 )\n",
      "8893 64  ( from 2 to 313 )\n",
      "22039 96  ( from 2 to 509 )\n",
      "24133 100  ( from 2 to 547 )\n",
      "25237 102  ( from 2 to 563 )\n",
      "28697 108  ( from 2 to 599 )\n",
      "32353 114  ( from 2 to 631 )\n",
      "37561 122  ( from 2 to 677 )\n",
      "38921 124  ( from 2 to 691 )\n",
      "43201 130  ( from 2 to 739 )\n",
      "44683 132  ( from 2 to 751 )\n",
      "55837 146  ( from 2 to 853 )\n",
      "61027 152  ( from 2 to 883 )\n",
      "66463 158  ( from 2 to 937 )\n",
      "70241 162  ( from 2 to 967 )\n",
      "86453 178  ( from 2 to 1063 )\n",
      "102001 192  ( from 2 to 1171 )\n",
      "109147 198  ( from 2 to 1217 )\n",
      "116533 204  ( from 2 to 1259 )\n",
      "119069 206  ( from 2 to 1279 )\n",
      "121631 208  ( from 2 to 1289 )\n",
      "129419 214  ( from 2 to 1319 )\n",
      "132059 216  ( from 2 to 1327 )\n",
      "263171 296  ( from 2 to 1951 )\n",
      "287137 308  ( from 2 to 2039 )\n",
      "325019 326  ( from 2 to 2179 )\n",
      "329401 328  ( from 2 to 2207 )\n",
      "333821 330  ( from 2 to 2221 )\n",
      "338279 332  ( from 2 to 2239 )\n",
      "342761 334  ( from 2 to 2251 )\n",
      "360979 342  ( from 2 to 2309 )\n",
      "379667 350  ( from 2 to 2371 )\n",
      "393961 356  ( from 2 to 2399 )\n",
      "398771 358  ( from 2 to 2417 )\n",
      "581921 426  ( from 2 to 2963 )\n",
      "642869 446  ( from 2 to 3163 )\n",
      "681257 458  ( from 2 to 3253 )\n",
      "687767 460  ( from 2 to 3259 )\n",
      "700897 464  ( from 2 to 3307 )\n",
      "754573 480  ( from 2 to 3433 )\n",
      "768373 484  ( from 2 to 3463 )\n",
      "782263 488  ( from 2 to 3499 )\n",
      "868151 512  ( from 2 to 3673 )\n",
      "935507 530  ( from 2 to 3823 )\n",
      "958577 536  ( from 2 to 3877 )\n",
      "970219 537  ( from 5 to 3907 )\n",
      "978037 539  ( from 5 to 3917 )\n",
      "997651 543  ( from 7 to 3943 )\n"
     ]
    }
   ],
   "source": [
    "curr_max_length = 2\n",
    "\n",
    "for i in xrange(len(primes)):\n",
    "    \n",
    "    j = i + curr_max_length\n",
    "    \n",
    "    sum_consec_primes = primes[i:j].sum()\n",
    "    \n",
    "    while sum_consec_primes < 1000000 and j < len(primes):\n",
    "        \n",
    "        sum_consec_primes += primes[j]\n",
    "        j += 1\n",
    "        \n",
    "        if sum_consec_primes in primes:\n",
    "            curr_max_length = j - i\n",
    "            print sum_consec_primes, curr_max_length, ' ( from', primes[i], 'to', primes[j], ')'"
   ]
  }
 ],
 "metadata": {
  "kernelspec": {
   "display_name": "Python 2",
   "language": "python",
   "name": "python2"
  },
  "language_info": {
   "codemirror_mode": {
    "name": "ipython",
    "version": 2
   },
   "file_extension": ".py",
   "mimetype": "text/x-python",
   "name": "python",
   "nbconvert_exporter": "python",
   "pygments_lexer": "ipython2",
   "version": "2.7.12"
  }
 },
 "nbformat": 4,
 "nbformat_minor": 2
}
