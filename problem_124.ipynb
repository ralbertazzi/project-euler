{
 "cells": [
  {
   "cell_type": "markdown",
   "metadata": {},
   "source": [
    "# Problem 124\n",
    "\n",
    "### Ordered radicals\n",
    "\n",
    "The radical of n, rad(n), is the product of the distinct prime factors of n. For example, 504 = 2^3 × 3^2 × 7, so rad(504) = 2 × 3 × 7 = 42.\n",
    "\n",
    "If we calculate rad(n) for 1 ≤ n ≤ 10, then sort them on rad(n), and sorting on n if the radical values are equal, we get:\n",
    "\n",
    "\n",
    "Let E(k) be the kth element in the sorted n column; for example, E(4) = 8 and E(6) = 9.\n",
    "\n",
    "If rad(n) is sorted for 1 ≤ n ≤ 100000, find E(10000)."
   ]
  },
  {
   "cell_type": "markdown",
   "metadata": {},
   "source": [
    "### Solution\n",
    "\n",
    "Compute prime numbers and factors in one shot:"
   ]
  },
  {
   "cell_type": "code",
   "execution_count": 1,
   "metadata": {},
   "outputs": [],
   "source": [
    "MAX_N = 100000\n",
    "\n",
    "factors = [[] for _ in xrange(MAX_N + 1)]\n",
    "\n",
    "for i in xrange(2, MAX_N + 1):\n",
    "    if len(factors[i]) == 0:\n",
    "        factors[i].append(i)\n",
    "        for j in range(2*i, MAX_N + 1, i):\n",
    "            factors[j].append(i)\n",
    "            \n",
    "factors[1] = [1]\n",
    "factors = factors[1:]"
   ]
  },
  {
   "cell_type": "markdown",
   "metadata": {},
   "source": [
    "Compute product of factors for each number n:"
   ]
  },
  {
   "cell_type": "code",
   "execution_count": 2,
   "metadata": {},
   "outputs": [],
   "source": [
    "from utils.math import prod_of_list\n",
    "\n",
    "rad = [(n, prod_of_list(f_list)) for n, f_list in enumerate(factors, start=1)]"
   ]
  },
  {
   "cell_type": "markdown",
   "metadata": {},
   "source": [
    "Order by product (or by *n* if the products are equal) and take the 10000th element:"
   ]
  },
  {
   "cell_type": "code",
   "execution_count": 3,
   "metadata": {},
   "outputs": [
    {
     "data": {
      "text/plain": [
       "21417"
      ]
     },
     "execution_count": 3,
     "metadata": {},
     "output_type": "execute_result"
    }
   ],
   "source": [
    "def compare(x, y):\n",
    "    diff_prod = x[1] - y[1]\n",
    "    if diff_prod == 0:\n",
    "        return x[0] - y[0]\n",
    "    else:\n",
    "        return diff_prod\n",
    "    \n",
    "rad.sort(cmp=compare)\n",
    "rad[9999][0]"
   ]
  }
 ],
 "metadata": {
  "kernelspec": {
   "display_name": "Python 2",
   "language": "python",
   "name": "python2"
  },
  "language_info": {
   "codemirror_mode": {
    "name": "ipython",
    "version": 2
   },
   "file_extension": ".py",
   "mimetype": "text/x-python",
   "name": "python",
   "nbconvert_exporter": "python",
   "pygments_lexer": "ipython2",
   "version": "2.7.12"
  }
 },
 "nbformat": 4,
 "nbformat_minor": 2
}
