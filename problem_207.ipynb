{
 "cells": [
  {
   "cell_type": "markdown",
   "metadata": {},
   "source": [
    "# Problem 207\n",
    "\n",
    "For some positive integers k, there exists an integer partition of the form   `4^t = 2^t + k`,\n",
    "where `4^t`, `2^t`, and k are all positive integers and t is a real number.\n",
    "\n",
    "The first two such partitions are `4^1 = 2^1 + 2` and `4^1.5849625... = 2^1.5849625... + 6`.\n",
    "\n",
    "Partitions where t is also an integer are called perfect.\n",
    "For any m ≥ 1 let P(m) be the proportion of such partitions that are perfect with k ≤ m.\n",
    "Thus P(6) = 1/2.\n",
    "\n",
    "In the following table are listed some values of P(m)\n",
    "```\n",
    "   P(5) = 1/1\n",
    "   P(10) = 1/2\n",
    "   P(15) = 2/3\n",
    "   P(20) = 1/2\n",
    "   P(25) = 1/2\n",
    "   P(30) = 2/5\n",
    "   ...\n",
    "   P(180) = 1/4\n",
    "   P(185) = 3/13\n",
    "```\n",
    "Find the smallest m for which `P(m) < 1/12345`"
   ]
  },
  {
   "cell_type": "markdown",
   "metadata": {},
   "source": [
    "## Solution\n",
    "\n",
    "All the possible non-perfect (and also perfect) solutions are obtained by iterating on all exponents `t = log2(x)` for every `x > 1`.\n",
    "\n",
    "The perfect ones are obtained when `x` is a power of 2."
   ]
  },
  {
   "cell_type": "code",
   "execution_count": 1,
   "metadata": {},
   "outputs": [],
   "source": [
    "powers_of_2 = set(2**k for k in range(20))"
   ]
  },
  {
   "cell_type": "code",
   "execution_count": 2,
   "metadata": {},
   "outputs": [
    {
     "name": "stdout",
     "output_type": "stream",
     "text": [
      "44043947822\n"
     ]
    }
   ],
   "source": [
    "perfect, not_perfect = 0, 0\n",
    "for x in range(2, 1000000):\n",
    "    if x in powers_of_2:\n",
    "        perfect += 1\n",
    "    not_perfect += 1\n",
    "    if 0 < perfect / not_perfect < 1 / 12345:\n",
    "        k = x * (x - 1)\n",
    "        print(k)\n",
    "        break"
   ]
  }
 ],
 "metadata": {
  "kernelspec": {
   "display_name": "Python 3",
   "language": "python",
   "name": "python3"
  },
  "language_info": {
   "codemirror_mode": {
    "name": "ipython",
    "version": 3
   },
   "file_extension": ".py",
   "mimetype": "text/x-python",
   "name": "python",
   "nbconvert_exporter": "python",
   "pygments_lexer": "ipython3",
   "version": "3.8.1"
  }
 },
 "nbformat": 4,
 "nbformat_minor": 4
}
