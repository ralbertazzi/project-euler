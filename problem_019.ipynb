{
 "cells": [
  {
   "cell_type": "markdown",
   "metadata": {},
   "source": [
    "# Problem 19\n",
    "\n",
    "\n",
    "You are given the following information, but you may prefer to do some\n",
    "research for yourself.\n",
    "\n",
    "* 1 Jan 1900 was a Monday.\n",
    "* Thirty days has September,\n",
    "   April, June and November.\n",
    "   All the rest have thirty-one,\n",
    "   Saving February alone,\n",
    "   Which has twenty-eight, rain or shine.\n",
    "   And on leap years, twenty-nine.  \n",
    "* A leap year occurs on any year evenly divisible by 4, but not on a\n",
    "   century unless it is divisible by 400.\n",
    "\n",
    "How many Sundays fell on the first of the month during the twentieth\n",
    "century (1 Jan 1901 to 31 Dec 2000)?"
   ]
  },
  {
   "cell_type": "markdown",
   "metadata": {},
   "source": [
    "### Solution\n",
    "\n",
    "Using Python datetime module (let's make him to the boring work)"
   ]
  },
  {
   "cell_type": "code",
   "execution_count": 1,
   "metadata": {},
   "outputs": [
    {
     "name": "stdout",
     "output_type": "stream",
     "text": [
      "171\n"
     ]
    }
   ],
   "source": [
    "import datetime\n",
    "\n",
    "t = datetime.timedelta(days=1)\n",
    "\n",
    "start_date = datetime.date(1901, 1, 1)\n",
    "end_date = datetime.date(2000, 12, 31) + t  # last day will be ignored\n",
    "\n",
    "count_sundays_first_of_the_month = 0\n",
    "\n",
    "current_date = start_date\n",
    "while current_date != end_date:\n",
    "    \n",
    "    if current_date.day == 1 and current_date.weekday() == 6:\n",
    "        count_sundays_first_of_the_month += 1\n",
    "    \n",
    "    current_date += t\n",
    "    \n",
    "print count_sundays_first_of_the_month"
   ]
  }
 ],
 "metadata": {
  "kernelspec": {
   "display_name": "Python 2",
   "language": "python",
   "name": "python2"
  },
  "language_info": {
   "codemirror_mode": {
    "name": "ipython",
    "version": 2
   },
   "file_extension": ".py",
   "mimetype": "text/x-python",
   "name": "python",
   "nbconvert_exporter": "python",
   "pygments_lexer": "ipython2",
   "version": "2.7.12"
  }
 },
 "nbformat": 4,
 "nbformat_minor": 2
}
