{
 "cells": [
  {
   "cell_type": "markdown",
   "metadata": {},
   "source": [
    "# Problem 14\n",
    "\n",
    "   The following iterative sequence is defined for the set of positive\n",
    "   integers:\n",
    "\n",
    "   n → n/2 (n is even)\n",
    "   \n",
    "   n → 3n + 1 (n is odd)\n",
    "\n",
    "   Using the rule above and starting with 13, we generate the following\n",
    "   sequence:\n",
    "\n",
    "                   13 → 40 → 20 → 10 → 5 → 16 → 8 → 4 → 2 → 1\n",
    "\n",
    "   It can be seen that this sequence (starting at 13 and finishing at 1)\n",
    "   contains 10 terms. Although it has not been proved yet (Collatz Problem),\n",
    "   it is thought that all starting numbers finish at 1.\n",
    "\n",
    "   Which starting number, under one million, produces the longest chain?\n",
    "\n",
    "   NOTE: Once the chain starts the terms are allowed to go above one million."
   ]
  },
  {
   "cell_type": "code",
   "execution_count": 1,
   "metadata": {},
   "outputs": [],
   "source": [
    "import numpy as np\n",
    "from tqdm import tqdm\n",
    "\n",
    "ONE_MILLION = 1000000"
   ]
  },
  {
   "cell_type": "markdown",
   "metadata": {},
   "source": [
    "### Solution 1\n",
    "\n",
    "Iterate on all numbers under one million, compute the chain of numbers, and store it's length"
   ]
  },
  {
   "cell_type": "code",
   "execution_count": 2,
   "metadata": {},
   "outputs": [],
   "source": [
    "def collatze_sequence_generator(start_number):\n",
    "    \n",
    "    current_number = start_number\n",
    "    \n",
    "    while current_number != 1:\n",
    "        yield current_number\n",
    "        \n",
    "        current_number = current_number // 2 if current_number % 2 == 0 else 3 * current_number + 1\n",
    "        \n",
    "    yield current_number"
   ]
  },
  {
   "cell_type": "code",
   "execution_count": 3,
   "metadata": {},
   "outputs": [
    {
     "name": "stderr",
     "output_type": "stream",
     "text": [
      "100%|██████████| 999999/999999 [00:37<00:00, 26924.39it/s]"
     ]
    },
    {
     "name": "stdout",
     "output_type": "stream",
     "text": [
      "837799\n"
     ]
    },
    {
     "name": "stderr",
     "output_type": "stream",
     "text": [
      "\n"
     ]
    }
   ],
   "source": [
    "all_lengths = np.empty(ONE_MILLION)\n",
    "\n",
    "for n in tqdm(range(1, ONE_MILLION)):\n",
    "    all_lengths[n] = len(list(collatze_sequence_generator(n)))\n",
    "    \n",
    "print np.argmax(all_lengths)"
   ]
  },
  {
   "cell_type": "markdown",
   "metadata": {},
   "source": [
    "### Solution 2\n",
    "\n",
    "Iterate on all numbers but cache the result for previous computed numbers"
   ]
  },
  {
   "cell_type": "code",
   "execution_count": 4,
   "metadata": {},
   "outputs": [],
   "source": [
    "def compute_length_and_set(number):\n",
    "    \n",
    "    # If the length of the series starting from this number has not yet be calculated\n",
    "    # (or is not in cache), compute that as len(next_number_series) + 1 recursively\n",
    "    \n",
    "    if number < cache_size:\n",
    "        \n",
    "        if all_lengths[number] == 0:\n",
    "            next_number = number // 2 if number % 2 == 0 else 3 * number + 1\n",
    "            all_lengths[number] = compute_length_and_set(next_number) + 1\n",
    "            \n",
    "        return all_lengths[number]\n",
    "    \n",
    "    else:\n",
    "        next_number = number // 2 if number % 2 == 0 else 3 * number + 1\n",
    "        return compute_length_and_set(next_number) + 1"
   ]
  },
  {
   "cell_type": "code",
   "execution_count": 5,
   "metadata": {},
   "outputs": [
    {
     "name": "stderr",
     "output_type": "stream",
     "text": [
      "100%|██████████| 999999/999999 [00:04<00:00, 210220.59it/s]\n"
     ]
    },
    {
     "name": "stdout",
     "output_type": "stream",
     "text": [
      "837799\n"
     ]
    }
   ],
   "source": [
    "cache_size = ONE_MILLION   # must be at least ONE_MILLION\n",
    "\n",
    "all_lengths = np.zeros(cache_size)\n",
    "all_lengths[1] = 1\n",
    "\n",
    "    \n",
    "for n in tqdm(range(1, ONE_MILLION)):\n",
    "    compute_length_and_set(n)\n",
    "    \n",
    "print np.argmax(all_lengths[:ONE_MILLION])    "
   ]
  },
  {
   "cell_type": "markdown",
   "metadata": {},
   "source": [
    "Solution 2 is 6 times faster than solution 1!"
   ]
  }
 ],
 "metadata": {
  "kernelspec": {
   "display_name": "Python 2",
   "language": "python",
   "name": "python2"
  },
  "language_info": {
   "codemirror_mode": {
    "name": "ipython",
    "version": 2
   },
   "file_extension": ".py",
   "mimetype": "text/x-python",
   "name": "python",
   "nbconvert_exporter": "python",
   "pygments_lexer": "ipython2",
   "version": "2.7.12"
  }
 },
 "nbformat": 4,
 "nbformat_minor": 2
}
