{
 "cells": [
  {
   "cell_type": "markdown",
   "metadata": {},
   "source": [
    "# Problem 30\n",
    "\n",
    "Surprisingly there are only three numbers that can be written as the sum\n",
    "of fourth powers of their digits:\n",
    "\n",
    "* 1634 = 1^4 + 6^4 + 3^4 + 4^4\n",
    "* 8208 = 8^4 + 2^4 + 0^4 + 8^4\n",
    "* 9474 = 9^4 + 4^4 + 7^4 + 4^4\n",
    "\n",
    "As 1 = 1^4 is not a sum it is not included.\n",
    "\n",
    "The sum of these numbers is 1634 + 8208 + 9474 = 19316.\n",
    "\n",
    "Find the sum of all the numbers that can be written as the sum of fifth\n",
    "powers of their digits."
   ]
  },
  {
   "cell_type": "markdown",
   "metadata": {},
   "source": [
    "### Solution\n",
    "\n",
    "Computing the sum of the powers of the digits is not a problem:"
   ]
  },
  {
   "cell_type": "code",
   "execution_count": 1,
   "metadata": {},
   "outputs": [],
   "source": [
    "def sum_of_nth_powers_of_digits(number, power):\n",
    "    return sum(int(digit) ** power for digit in str(number))"
   ]
  },
  {
   "cell_type": "markdown",
   "metadata": {},
   "source": [
    "But how can we understand when to stop the algorithm? It's asking for *all the numbers*, so there has to be a way to know when to stop the program.\n",
    "\n",
    "If we consider a number with k digits, the highest sum that we can get is k\\*9^5.\n",
    "We can then stop the algorithm when k\\*9^5 is less than the minimum number you can get with that number of digits, which is 10^k. Since the first one is a polynomial function in k and the second one is an exponential function in k, that's ceirtanly going to happen."
   ]
  },
  {
   "cell_type": "code",
   "execution_count": 2,
   "metadata": {},
   "outputs": [
    {
     "name": "stdout",
     "output_type": "stream",
     "text": [
      "We only have to search in numbers that have max 6 digits\n"
     ]
    }
   ],
   "source": [
    "digits = 1\n",
    "while digits * (9 ** 5) > 10 ** digits:\n",
    "    digits += 1\n",
    "    \n",
    "print 'We only have to search in numbers that have max', digits, 'digits'"
   ]
  },
  {
   "cell_type": "markdown",
   "metadata": {},
   "source": [
    "Then we just have to find the numbers:"
   ]
  },
  {
   "cell_type": "code",
   "execution_count": 3,
   "metadata": {},
   "outputs": [
    {
     "name": "stdout",
     "output_type": "stream",
     "text": [
      "Te numbers are: [4150, 4151, 54748, 92727, 93084, 194979]\n",
      "And their sum is: 443839\n"
     ]
    }
   ],
   "source": [
    "the_numbers = [n for n in range(2, 10 ** digits) if sum_of_nth_powers_of_digits(n, 5) == n]\n",
    "print 'Te numbers are:', the_numbers\n",
    "print 'And their sum is:', sum(the_numbers)"
   ]
  }
 ],
 "metadata": {
  "kernelspec": {
   "display_name": "Python 2",
   "language": "python",
   "name": "python2"
  },
  "language_info": {
   "codemirror_mode": {
    "name": "ipython",
    "version": 2
   },
   "file_extension": ".py",
   "mimetype": "text/x-python",
   "name": "python",
   "nbconvert_exporter": "python",
   "pygments_lexer": "ipython2",
   "version": "2.7.12"
  }
 },
 "nbformat": 4,
 "nbformat_minor": 2
}
