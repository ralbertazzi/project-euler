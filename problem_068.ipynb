{
 "cells": [
  {
   "cell_type": "markdown",
   "metadata": {},
   "source": [
    "# Problem 68\n",
    "\n",
    "### Magic 5-gon ring"
   ]
  },
  {
   "cell_type": "markdown",
   "metadata": {},
   "source": [
    "We need to fill 5 sets of numbers using digits from 1 to 10:\n",
    "\n",
    "    [0][5][6]\n",
    "    [1][6][7]\n",
    "    [2][7][8]\n",
    "    [3][8][9]\n",
    "    [4][9][5]\n",
    "    \n",
    "and they need to have the same sum.\n",
    "    \n",
    "We can set this as a constraint problem."
   ]
  },
  {
   "cell_type": "code",
   "execution_count": 1,
   "metadata": {},
   "outputs": [],
   "source": [
    "import numpy as np\n",
    "from constraint import *"
   ]
  },
  {
   "cell_type": "code",
   "execution_count": 2,
   "metadata": {},
   "outputs": [],
   "source": [
    "indexes = [[0, 5, 6], [1, 6, 7], [2, 7, 8], [3, 8, 9], [4, 9, 5]]\n",
    "\n",
    "problem = Problem()\n",
    "problem.addVariables(range(10), range(1, 11))\n",
    "    \n",
    "problem.addConstraint(AllDifferentConstraint())\n",
    "\n",
    "for i, indexes_i in enumerate(indexes):\n",
    "    for indexes_j in indexes[i+1:]:\n",
    "        problem.addConstraint(lambda a1, a2, a3, b1, b2, b3: a1 + a2 + a3 == b1 + b2 + b3,\n",
    "                             (indexes_i[0], indexes_i[1], indexes_i[2], indexes_j[0], indexes_j[1], indexes_j[2]))\n",
    "        \n",
    "solutions = problem.getSolutions()"
   ]
  },
  {
   "cell_type": "code",
   "execution_count": 3,
   "metadata": {},
   "outputs": [],
   "source": [
    "numbers = []\n",
    "\n",
    "for solution in solutions:\n",
    "    \n",
    "    # 1. Get the five 3-numbers groups\n",
    "    groups = [[solution[n] for n in index_i] for index_i in indexes]\n",
    "    \n",
    "    # 2. Find the index of the smallest outer number group\n",
    "    min_idx = -1\n",
    "    min_n = 11\n",
    "    for idx, group in enumerate(groups):\n",
    "        if group[0] < min_n:\n",
    "            min_n = group[0]\n",
    "            min_idx = idx\n",
    "    \n",
    "    # 3. Rearrange values in order to have the smallest outer number group as the first element\n",
    "    for _ in range(min_idx):\n",
    "        first = groups.pop(0)\n",
    "        groups.append(first)\n",
    "\n",
    "    # 4. Get the number as a string\n",
    "    number = \"\".join([str(n) for n in np.array(groups).flatten().tolist()])\n",
    "    \n",
    "    #5. Add only if 16 digits\n",
    "    if len(number) == 16:\n",
    "        numbers.append(number)"
   ]
  },
  {
   "cell_type": "code",
   "execution_count": 4,
   "metadata": {},
   "outputs": [
    {
     "data": {
      "text/plain": [
       "'6531031914842725'"
      ]
     },
     "execution_count": 4,
     "metadata": {},
     "output_type": "execute_result"
    }
   ],
   "source": [
    "sorted(numbers)[-1]"
   ]
  }
 ],
 "metadata": {
  "kernelspec": {
   "display_name": "Python 2",
   "language": "python",
   "name": "python2"
  },
  "language_info": {
   "codemirror_mode": {
    "name": "ipython",
    "version": 2
   },
   "file_extension": ".py",
   "mimetype": "text/x-python",
   "name": "python",
   "nbconvert_exporter": "python",
   "pygments_lexer": "ipython2",
   "version": "2.7.12"
  }
 },
 "nbformat": 4,
 "nbformat_minor": 2
}
