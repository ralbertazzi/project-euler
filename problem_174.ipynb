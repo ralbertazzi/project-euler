{
 "cells": [
  {
   "cell_type": "markdown",
   "metadata": {},
   "source": [
    "# Problem 173\n",
    "\n",
    "### Counting the number of \"hollow\" square laminae that can form one, two, three, ... distinct arrangements\n",
    "\n",
    "We shall define a square lamina to be a square outline with a square \"hole\" so that the shape possesses vertical and horizontal symmetry.\n",
    "\n",
    "Given eight tiles it is possible to form a lamina in only one way: 3x3 square with a 1x1 hole in the middle. However, using thirty-two tiles it is possible to form two distinct laminae.\n",
    "\n",
    "\n",
    "If t represents the number of tiles used, we shall say that t = 8 is type L(1) and t = 32 is type L(2).\n",
    "\n",
    "Let N(n) be the number of t ≤ 1000000 such that t is type L(n); for example, N(15) = 832.\n",
    "\n",
    "What is ∑ N(n) for 1 ≤ n ≤ 10?"
   ]
  },
  {
   "cell_type": "markdown",
   "metadata": {},
   "source": [
    "### Solution\n",
    "\n",
    "The first part follows the approach of problem 173:"
   ]
  },
  {
   "cell_type": "code",
   "execution_count": 1,
   "metadata": {},
   "outputs": [],
   "source": [
    "from math import floor\n",
    "import numpy as np"
   ]
  },
  {
   "cell_type": "code",
   "execution_count": 2,
   "metadata": {},
   "outputs": [],
   "source": [
    "L = 1000000\n",
    "intervals = []\n",
    "\n",
    "arr = np.zeros(L + 1)\n",
    "\n",
    "for k in xrange(1, L):\n",
    "    \n",
    "    x_upper_limit = int(floor(L / (4. * k) + k))\n",
    "    x_lower_limit = 2*k + 1\n",
    "    \n",
    "    if x_lower_limit > x_upper_limit:\n",
    "        break\n",
    "        \n",
    "    intervals.append((k, x_lower_limit, x_upper_limit))\n",
    "    \n",
    "    \n",
    "min_v, max_v = intervals[0][1], intervals[0][2]\n",
    "acc = np.zeros(max_v - min_v + 1, dtype=np.int)\n",
    "\n",
    "for k, x_lower, x_upper in intervals:\n",
    "    acc[x_lower - min_v : x_upper - min_v + 1] = k"
   ]
  },
  {
   "cell_type": "markdown",
   "metadata": {},
   "source": [
    "We obtained the array of Ks, that says, for each edge size, what is the maximum thickness of the lamina in respect to the constraints (L, size of the square). Now we just need to define an accumulator array and for each possible value *x* (square size) and *k* (ranging from 1 to max_k(x)), the number of tiles used and increment the corresponding counter.\n",
    "\n",
    "Then we just need to count the number of counters with value between 1 and 10."
   ]
  },
  {
   "cell_type": "code",
   "execution_count": 3,
   "metadata": {},
   "outputs": [
    {
     "data": {
      "text/plain": [
       "209566"
      ]
     },
     "execution_count": 3,
     "metadata": {},
     "output_type": "execute_result"
    }
   ],
   "source": [
    "l = np.zeros(L + 1, dtype=np.int)\n",
    "\n",
    "for x, max_k in enumerate(acc, start=min_v):\n",
    "    \n",
    "    for k in xrange(1, max_k + 1):\n",
    "        t = 4*x*k - 4*(k**2)\n",
    "        l[t] += 1\n",
    "        \n",
    "np.count_nonzero(np.logical_and(l >= 1, l <= 10))"
   ]
  }
 ],
 "metadata": {
  "kernelspec": {
   "display_name": "Python 2",
   "language": "python",
   "name": "python2"
  },
  "language_info": {
   "codemirror_mode": {
    "name": "ipython",
    "version": 2
   },
   "file_extension": ".py",
   "mimetype": "text/x-python",
   "name": "python",
   "nbconvert_exporter": "python",
   "pygments_lexer": "ipython2",
   "version": "2.7.12"
  }
 },
 "nbformat": 4,
 "nbformat_minor": 2
}
