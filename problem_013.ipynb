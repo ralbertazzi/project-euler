{
 "cells": [
  {
   "cell_type": "markdown",
   "metadata": {},
   "source": [
    "# Problem 13\n",
    "\n",
    "Work out the first ten digits of the sum of the following one-hundred\n",
    "50-digit numbers.\n",
    "\n",
    "See [data/problem_013_numbers.txt](data/problem_013_numbers.txt)"
   ]
  },
  {
   "cell_type": "markdown",
   "metadata": {},
   "source": [
    "### Solution\n",
    "\n",
    "Too easy on Python! (which automatically handles numbers of big size)"
   ]
  },
  {
   "cell_type": "code",
   "execution_count": 1,
   "metadata": {},
   "outputs": [
    {
     "name": "stdout",
     "output_type": "stream",
     "text": [
      "5537376230\n"
     ]
    }
   ],
   "source": [
    "with open('data/problem_013_numbers.txt') as handle:\n",
    "    numbers = [int(number) for number in handle.read().split()]\n",
    "    \n",
    "print str(sum(numbers))[:10]"
   ]
  }
 ],
 "metadata": {
  "kernelspec": {
   "display_name": "Python 2",
   "language": "python",
   "name": "python2"
  },
  "language_info": {
   "codemirror_mode": {
    "name": "ipython",
    "version": 2
   },
   "file_extension": ".py",
   "mimetype": "text/x-python",
   "name": "python",
   "nbconvert_exporter": "python",
   "pygments_lexer": "ipython2",
   "version": "2.7.12"
  }
 },
 "nbformat": 4,
 "nbformat_minor": 2
}
