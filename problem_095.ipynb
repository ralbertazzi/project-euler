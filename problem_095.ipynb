{
 "cells": [
  {
   "cell_type": "markdown",
   "metadata": {},
   "source": [
    "# Problem 95\n",
    "\n",
    "### Amicable chains\n",
    "\n",
    "The proper divisors of a number are all the divisors excluding the number itself. For example, the proper divisors of 28 are 1, 2, 4, 7, and 14. As the sum of these divisors is equal to 28, we call it a perfect number.\n",
    "\n",
    "Interestingly the sum of the proper divisors of 220 is 284 and the sum of the proper divisors of 284 is 220, forming a chain of two numbers. For this reason, 220 and 284 are called an amicable pair.\n",
    "\n",
    "Perhaps less well known are longer chains. For example, starting with 12496, we form a chain of five numbers:\n",
    "\n",
    "    12496 → 14288 → 15472 → 14536 → 14264 (→ 12496 → ...)\n",
    "\n",
    "Since this chain returns to its starting point, it is called an amicable chain.\n",
    "\n",
    "Find the smallest member of the longest amicable chain with no element exceeding one million."
   ]
  },
  {
   "cell_type": "markdown",
   "metadata": {},
   "source": [
    "### Solution\n",
    "\n",
    "First we need to compute the proper divisors of all numbers. The fastest solution consists in iterating on all numbers *n* and add *n* itself to the list of proper divisors of all numbers that are multiple of *n* (it's going to be slow when *n* is low, but super fast when *n* gets bigger). Then we compute the sum of the list to get the sum of proper divisors."
   ]
  },
  {
   "cell_type": "code",
   "execution_count": 1,
   "metadata": {},
   "outputs": [
    {
     "name": "stderr",
     "output_type": "stream",
     "text": [
      "100%|██████████| 499999/499999 [00:05<00:00, 99517.34it/s]\n"
     ]
    }
   ],
   "source": [
    "from tqdm import trange\n",
    "\n",
    "N = 1000000\n",
    "proper_divisors = [[1] for n in xrange(N + 1)]\n",
    "\n",
    "for n in trange(2, N // 2 + 1):\n",
    "    for pd in proper_divisors[2*n::n]:\n",
    "        pd.append(n)"
   ]
  },
  {
   "cell_type": "code",
   "execution_count": 2,
   "metadata": {},
   "outputs": [],
   "source": [
    "sum_proper_divisors = [sum(pd) for pd in proper_divisors]"
   ]
  },
  {
   "cell_type": "markdown",
   "metadata": {},
   "source": [
    "The second part consists in iterating over the structure number → next_number. The algorithm stops when one of the values has already been seen in the chain list. An invalid solution is a solution that contains a number that is greater than one million or a solution where the first and the last element of the chain are not the same."
   ]
  },
  {
   "cell_type": "code",
   "execution_count": 3,
   "metadata": {},
   "outputs": [],
   "source": [
    "def compute_chain(n):\n",
    "    \n",
    "    chain = [n]\n",
    "    \n",
    "    next_number = sum_proper_divisors[n]\n",
    "    if next_number > N:\n",
    "        return -1\n",
    "    \n",
    "    while next_number not in chain:\n",
    "        chain.append(next_number)\n",
    "        next_number = sum_proper_divisors[next_number]\n",
    "        if next_number > N:\n",
    "            return -1\n",
    "        \n",
    "    if next_number == chain[0]:\n",
    "        return len(chain)\n",
    "    else:\n",
    "        return -1"
   ]
  },
  {
   "cell_type": "code",
   "execution_count": 4,
   "metadata": {},
   "outputs": [
    {
     "name": "stderr",
     "output_type": "stream",
     "text": [
      "100%|██████████| 1000001/1000001 [00:06<00:00, 164192.35it/s]\n"
     ]
    }
   ],
   "source": [
    "chain_lengths = [compute_chain(n) for n in trange(len(sum_proper_divisors))]"
   ]
  },
  {
   "cell_type": "markdown",
   "metadata": {},
   "source": [
    "After computing the length of the chain for each number under one million, we print the number with the highest chain and the length of the chain."
   ]
  },
  {
   "cell_type": "code",
   "execution_count": 5,
   "metadata": {},
   "outputs": [
    {
     "name": "stdout",
     "output_type": "stream",
     "text": [
      "14316 28\n"
     ]
    }
   ],
   "source": [
    "import numpy as np\n",
    "\n",
    "idx_max_length = np.argmax(chain_lengths)\n",
    "print idx_max_length, chain_lengths[idx_max_length]"
   ]
  }
 ],
 "metadata": {
  "kernelspec": {
   "display_name": "Python 2",
   "language": "python",
   "name": "python2"
  },
  "language_info": {
   "codemirror_mode": {
    "name": "ipython",
    "version": 2
   },
   "file_extension": ".py",
   "mimetype": "text/x-python",
   "name": "python",
   "nbconvert_exporter": "python",
   "pygments_lexer": "ipython2",
   "version": "2.7.12"
  }
 },
 "nbformat": 4,
 "nbformat_minor": 2
}
