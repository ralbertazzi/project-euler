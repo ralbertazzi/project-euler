{
 "cells": [
  {
   "cell_type": "markdown",
   "metadata": {},
   "source": [
    "# Problem 114 \n",
    "\n",
    "### Counting block combinations I\n",
    "\n",
    "A row measuring seven units in length has red blocks with a minimum length of three units placed on it, such that any two red blocks (which are allowed to be different lengths) are separated by at least one black square. There are exactly seventeen ways of doing this.\n",
    "\n",
    "How many ways can a row measuring fifty units in length be filled?"
   ]
  },
  {
   "cell_type": "markdown",
   "metadata": {},
   "source": [
    "### Solution\n",
    "\n",
    "Supposed we have a row of total length L and placeable blocks of minimum length M, let's think that we are at the \"beginning\" of the row of length L; we then have two possibilities:\n",
    "1. Not placing a block in the first position: the number of different combinations is therefore given by $f(L-1)$\n",
    "2. Placing a block; the block can be of any length $\\geq M$. For each one of them, the number of combinations that we get can be computed by removing the chosen $m + 1$ (because of one black block) from the total length\n",
    "\n",
    "Each time we compute *f(l)* for a given *l* we store that value, so that we don't have to compute it anymore."
   ]
  },
  {
   "cell_type": "code",
   "execution_count": 1,
   "metadata": {},
   "outputs": [
    {
     "name": "stdout",
     "output_type": "stream",
     "text": [
      "16475640049\n"
     ]
    }
   ],
   "source": [
    "M = 3\n",
    "F = [1 for _ in xrange(M)]\n",
    "F.append(2)\n",
    "\n",
    "while len(F) <= 50:\n",
    "    L = len(F)\n",
    "    s = sum(F[:L-M]) + F[L-1] + 1\n",
    "    F.append(s)\n",
    "    \n",
    "print F[-1]"
   ]
  }
 ],
 "metadata": {
  "kernelspec": {
   "display_name": "Python 2",
   "language": "python",
   "name": "python2"
  },
  "language_info": {
   "codemirror_mode": {
    "name": "ipython",
    "version": 2
   },
   "file_extension": ".py",
   "mimetype": "text/x-python",
   "name": "python",
   "nbconvert_exporter": "python",
   "pygments_lexer": "ipython2",
   "version": "2.7.12"
  }
 },
 "nbformat": 4,
 "nbformat_minor": 2
}
