{
 "cells": [
  {
   "cell_type": "markdown",
   "metadata": {},
   "source": [
    "# Problem 51\n",
    "\n",
    "### Prime digit replacements\n",
    "\n",
    "By replacing the 1st digit of the 2-digit number x3, it turns out that six of the nine possible values: 13, 23, 43, 53, 73, and 83, are all prime.\n",
    "\n",
    "By replacing the 3rd and 4th digits of 56xx3 with the same digit, this 5-digit number is the first example having seven primes among the ten generated numbers, yielding the family: 56003, 56113, 56333, 56443, 56663, 56773, and 56993. Consequently 56003, being the first member of this family, is the smallest prime with this property.\n",
    "\n",
    "Find the smallest prime which, by replacing part of the number (not necessarily adjacent digits) with the same digit, is part of an eight prime value family."
   ]
  },
  {
   "cell_type": "markdown",
   "metadata": {},
   "source": [
    "### Solution"
   ]
  },
  {
   "cell_type": "markdown",
   "metadata": {},
   "source": [
    "We iterate on all prime numbers with the same number of digits. For each one of them, we try to change and increasing one or more digits at a time (if they have the same value) and see if the generated number is prime."
   ]
  },
  {
   "cell_type": "code",
   "execution_count": 1,
   "metadata": {},
   "outputs": [],
   "source": [
    "import numpy as np\n",
    "from utils.primes import primes_sieve\n",
    "from collections import defaultdict\n",
    "from itertools import combinations\n",
    "\n",
    "class FoundIt(Exception): pass"
   ]
  },
  {
   "cell_type": "code",
   "execution_count": 2,
   "metadata": {},
   "outputs": [],
   "source": [
    "all_primes = primes_sieve(1000000)"
   ]
  },
  {
   "cell_type": "code",
   "execution_count": 3,
   "metadata": {},
   "outputs": [],
   "source": [
    "DIGITS = 6\n",
    "primes = all_primes[np.logical_and(all_primes >= 10**(DIGITS-1), all_primes < 10**DIGITS)]\n",
    "primes_set = set(primes)"
   ]
  },
  {
   "cell_type": "code",
   "execution_count": 4,
   "metadata": {},
   "outputs": [
    {
     "name": "stdout",
     "output_type": "stream",
     "text": [
      "FOUND: 121313 (0, 2, 4)\n"
     ]
    }
   ],
   "source": [
    "try:\n",
    "    \n",
    "    for prime in primes:\n",
    "\n",
    "        prime_str = list(str(prime))\n",
    "        digits_dict = defaultdict(list)\n",
    "\n",
    "        for idx, digit in enumerate(prime_str):\n",
    "            digits_dict[digit].append(idx)\n",
    "\n",
    "        for digit in digits_dict:\n",
    "            \n",
    "            # Since we need to find 8 prime values and we need to find the first of the sequence,\n",
    "            # if the digits that we are going to replace are greater than 2 there is no way\n",
    "            # that we can have 8 different configurations!\n",
    "            \n",
    "            if digit <= '2':\n",
    "\n",
    "                for r in xrange(1, len(digits_dict[digit]) + 1):\n",
    "                    idxs_comb = list(combinations(digits_dict[digit], r))\n",
    "\n",
    "                    for idx_comb in idxs_comb:\n",
    "\n",
    "                        # Since we need to find 8 prime values, if the starting digit is '0'\n",
    "                        # than we can allow 2 mistkaes (not primes), 1 mistake if the starting digit\n",
    "                        # is '1', 0 is the starting digit is '2'.\n",
    "                        can_miss = 2 if digit == '0' else 1 if digit == '1' else 0\n",
    "\n",
    "                        # Try all possible replacement of that group of the same digit\n",
    "                        # We only try values that are greater than that digit\n",
    "                        for replaced_digit in xrange(int(digit) + 1, 10):\n",
    "\n",
    "                            new_prime = prime_str[::]\n",
    "                            for idx in idx_comb:\n",
    "                                new_prime[idx] = str(replaced_digit)\n",
    "\n",
    "                            new_prime = int(''.join(new_prime))\n",
    "\n",
    "                            if new_prime not in primes_set:\n",
    "                                can_miss -= 1\n",
    "                                if can_miss == -1:\n",
    "                                    break\n",
    "\n",
    "                        if can_miss >= 0:\n",
    "                            print 'FOUND:', prime, idx_comb\n",
    "                            raise FoundIt\n",
    "                                \n",
    "except FoundIt:\n",
    "    pass"
   ]
  }
 ],
 "metadata": {
  "kernelspec": {
   "display_name": "Python 2",
   "language": "python",
   "name": "python2"
  },
  "language_info": {
   "codemirror_mode": {
    "name": "ipython",
    "version": 2
   },
   "file_extension": ".py",
   "mimetype": "text/x-python",
   "name": "python",
   "nbconvert_exporter": "python",
   "pygments_lexer": "ipython2",
   "version": "2.7.12"
  }
 },
 "nbformat": 4,
 "nbformat_minor": 2
}
