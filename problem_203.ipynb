{
 "cells": [
  {
   "cell_type": "markdown",
   "metadata": {},
   "source": [
    "# Problem 203\n",
    "\n",
    "The binomial coefficients (nk) can be arranged in triangular form, Pascal's triangle, like this:\n",
    "\n",
    "```\n",
    "1\t\n",
    "1\t\t1\t\n",
    "1\t\t2\t\t1\t\n",
    "1\t\t3\t\t3\t\t1\t\n",
    "1\t\t4\t\t6\t\t4\t\t1\t\n",
    "1\t\t5\t\t10\t\t10\t\t5\t\t1\t\n",
    "1\t\t6\t\t15\t\t20\t\t15\t\t6\t\t1\t\n",
    "1\t\t7\t\t21\t\t35\t\t35\t\t21\t\t7\t\t1\n",
    "```\n",
    "\n",
    "It can be seen that the first eight rows of Pascal's triangle contain twelve distinct numbers: 1, 2, 3, 4, 5, 6, 7, 10, 15, 20, 21 and 35.\n",
    "\n",
    "A positive integer n is called squarefree if no square of a prime divides n. Of the twelve distinct numbers in the first eight rows of Pascal's triangle, all except 4 and 20 are squarefree. The sum of the distinct squarefree numbers in the first eight rows is 105.\n",
    "\n",
    "Find the sum of the distinct squarefree numbers in the first 51 rows of Pascal's triangle."
   ]
  },
  {
   "cell_type": "code",
   "execution_count": 1,
   "metadata": {},
   "outputs": [],
   "source": [
    "triangle = [[1], [1, 1]]\n",
    "\n",
    "for i in range(3, 52):\n",
    "    line = [1] + [triangle[-1][i] + triangle[-1][i+1] for i in range(len(triangle[-1]) - 1)] + [1]\n",
    "    triangle.append(line)"
   ]
  },
  {
   "cell_type": "code",
   "execution_count": 2,
   "metadata": {},
   "outputs": [],
   "source": [
    "distinct_numbers = set(n for line in triangle for n in line)"
   ]
  },
  {
   "cell_type": "code",
   "execution_count": 3,
   "metadata": {},
   "outputs": [],
   "source": [
    "from math import sqrt, ceil\n",
    "from utils.primes import primes_sieve\n",
    "\n",
    "max_n = max(distinct_numbers)\n",
    "\n",
    "primes = primes_sieve(int(ceil(sqrt(max_n))))\n",
    "squares_of_primes = [n**2 for n in primes]"
   ]
  },
  {
   "cell_type": "code",
   "execution_count": 10,
   "metadata": {},
   "outputs": [
    {
     "data": {
      "text/plain": [
       "34029210557338"
      ]
     },
     "execution_count": 10,
     "metadata": {},
     "output_type": "execute_result"
    }
   ],
   "source": [
    "sum(n for n in distinct_numbers if all(n % sp != 0 for sp in squares_of_primes))"
   ]
  }
 ],
 "metadata": {
  "kernelspec": {
   "display_name": "Python 3",
   "language": "python",
   "name": "python3"
  },
  "language_info": {
   "codemirror_mode": {
    "name": "ipython",
    "version": 3
   },
   "file_extension": ".py",
   "mimetype": "text/x-python",
   "name": "python",
   "nbconvert_exporter": "python",
   "pygments_lexer": "ipython3",
   "version": "3.8.1"
  }
 },
 "nbformat": 4,
 "nbformat_minor": 4
}
