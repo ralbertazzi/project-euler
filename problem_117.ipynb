{
 "cells": [
  {
   "cell_type": "markdown",
   "metadata": {},
   "source": [
    "# Problem 117\n",
    "\n",
    "Using a combination of black square tiles and oblong tiles chosen from: red tiles measuring two units, green tiles measuring three units, and blue tiles measuring four units, it is possible to tile a row measuring five units in length in exactly fifteen different ways.\n",
    "\n",
    "How many ways can a row measuring fifty units in length be tiled?"
   ]
  },
  {
   "cell_type": "markdown",
   "metadata": {},
   "source": [
    "### Solution\n",
    "\n",
    "First we initialize the array of results by manually counting up to a row with size 4. For each successive row size, the number of possibilities is the sum of 4 different choices: adding a block of size 2, 3, 4 or adding no block.\n",
    "We can even be memory efficient and keep only the last 4 computed numbers."
   ]
  },
  {
   "cell_type": "code",
   "execution_count": 1,
   "metadata": {},
   "outputs": [
    {
     "data": {
      "text/plain": [
       "100808458960497"
      ]
     },
     "execution_count": 1,
     "metadata": {},
     "output_type": "execute_result"
    }
   ],
   "source": [
    "L = 50\n",
    "F = [1, 2, 4, 8]\n",
    "\n",
    "for _ in xrange(L - 4):\n",
    "    s = sum(F)\n",
    "    F[0:-1] = F[1:]\n",
    "    F[-1] = s\n",
    "    \n",
    "F[-1]"
   ]
  }
 ],
 "metadata": {
  "kernelspec": {
   "display_name": "Python 2",
   "language": "python",
   "name": "python2"
  },
  "language_info": {
   "codemirror_mode": {
    "name": "ipython",
    "version": 2
   },
   "file_extension": ".py",
   "mimetype": "text/x-python",
   "name": "python",
   "nbconvert_exporter": "python",
   "pygments_lexer": "ipython2",
   "version": "2.7.12"
  }
 },
 "nbformat": 4,
 "nbformat_minor": 2
}
