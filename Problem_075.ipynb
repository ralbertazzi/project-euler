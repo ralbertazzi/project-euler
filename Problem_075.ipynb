{
 "cells": [
  {
   "cell_type": "markdown",
   "metadata": {},
   "source": [
    "# Problem 75\n",
    "\n",
    "### Singular integer right triangles\n",
    "\n",
    "It turns out that 12 cm is the smallest length of wire that can be bent to form an integer sided right angle triangle in exactly one way, but there are many more examples.\n",
    "\n",
    "    12 cm: (3,4,5)\n",
    "    24 cm: (6,8,10)\n",
    "    30 cm: (5,12,13)\n",
    "    36 cm: (9,12,15)\n",
    "    40 cm: (8,15,17)\n",
    "    48 cm: (12,16,20)\n",
    "\n",
    "In contrast, some lengths of wire, like 20 cm, cannot be bent to form an integer sided right angle triangle, and other lengths allow more than one solution to be found; for example, using 120 cm it is possible to form exactly three different integer sided right angle triangles.\n",
    "\n",
    "    120 cm: (30,40,50), (20,48,52), (24,45,51)\n",
    "\n",
    "#Given that L is the length of the wire, for how many values of L ≤ 1,500,000 can exactly one integer sided right angle triangle be formed?"
   ]
  },
  {
   "cell_type": "markdown",
   "metadata": {},
   "source": [
    "### Solution\n",
    "\n",
    "Using the Euclidean formulas, it is possible to generate all primitive pythagoren triples by the following formulas:\n",
    "\n",
    "$$ P = a + b + c = (n^2 - m^2) + (2mn) + (n^2 + m^2) = 2n^2 + 2mn \\leq L $$\n",
    "\n",
    "$$ 2n^2 + 2mn - L = 0 $$\n",
    "\n",
    "$$ n_{lim} = \\frac{- m + \\sqrt{m^2 + 2L}}{2} $$"
   ]
  },
  {
   "cell_type": "code",
   "execution_count": 1,
   "metadata": {},
   "outputs": [],
   "source": [
    "import math\n",
    "from collections import defaultdict\n",
    "\n",
    "MAX_L = 1500000\n",
    "triples = set()"
   ]
  },
  {
   "cell_type": "code",
   "execution_count": 2,
   "metadata": {},
   "outputs": [],
   "source": [
    "def pyth_triple(m, n):\n",
    "    m2, n2 = m**2, n**2\n",
    "    return n2 - m2, 2*m*n, n2 + m2\n",
    "\n",
    "def compute_nlim(m):\n",
    "    return int((-m + math.sqrt(m**2 + 2*MAX_L)) / 2)"
   ]
  },
  {
   "cell_type": "code",
   "execution_count": 3,
   "metadata": {},
   "outputs": [],
   "source": [
    "m = 0\n",
    "while True:\n",
    "    m += 1\n",
    "    nlim = compute_nlim(m)\n",
    "    \n",
    "    if nlim <= m:\n",
    "        break\n",
    "    else:\n",
    "        for n in xrange(m + 1, nlim + 1):\n",
    "            a, b, c = pyth_triple(m, n)\n",
    "            if b < a:\n",
    "                a, b = b, a\n",
    "                    \n",
    "            p = a + b + c\n",
    "            \n",
    "            # Add the primitive triple and the non-primitive ones (multiply by some factor)\n",
    "            for k in xrange(1, int(MAX_L / float(p)) + 1):\n",
    "                triples.add((a*k, b*k, c*k, p*k))"
   ]
  },
  {
   "cell_type": "markdown",
   "metadata": {},
   "source": [
    "Group and count by the perimeter"
   ]
  },
  {
   "cell_type": "code",
   "execution_count": 4,
   "metadata": {},
   "outputs": [
    {
     "data": {
      "text/plain": [
       "161667"
      ]
     },
     "execution_count": 4,
     "metadata": {},
     "output_type": "execute_result"
    }
   ],
   "source": [
    "counter = defaultdict(int)\n",
    "\n",
    "for triple in triples:\n",
    "    counter[triple[-1]] += 1\n",
    "    \n",
    "sum(1 for k in counter if counter[k] == 1 and k <= MAX_L)"
   ]
  }
 ],
 "metadata": {
  "kernelspec": {
   "display_name": "Python 2",
   "language": "python",
   "name": "python2"
  },
  "language_info": {
   "codemirror_mode": {
    "name": "ipython",
    "version": 2
   },
   "file_extension": ".py",
   "mimetype": "text/x-python",
   "name": "python",
   "nbconvert_exporter": "python",
   "pygments_lexer": "ipython2",
   "version": "2.7.12"
  }
 },
 "nbformat": 4,
 "nbformat_minor": 2
}
