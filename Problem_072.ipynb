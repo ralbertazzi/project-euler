{
 "cells": [
  {
   "cell_type": "markdown",
   "metadata": {},
   "source": [
    "# Problem 72\n",
    "\n",
    "### Counting Fractions\n",
    "\n",
    "Consider the fraction, n/d, where n and d are positive integers. If n<d and HCF(n,d)=1, it is called a reduced proper fraction.\n",
    "\n",
    "If we list the set of reduced proper fractions for d ≤ 8 in ascending order of size, we get:\n",
    "\n",
    "1/8, 1/7, 1/6, 1/5, 1/4, 2/7, 1/3, 3/8, 2/5, 3/7, 1/2, 4/7, 3/5, 5/8, 2/3, 5/7, 3/4, 4/5, 5/6, 6/7, 7/8\n",
    "\n",
    "It can be seen that there are 21 elements in this set.\n",
    "\n",
    "How many elements would be contained in the set of reduced proper fractions for d ≤ 1,000,000?"
   ]
  },
  {
   "cell_type": "markdown",
   "metadata": {},
   "source": [
    "### Solution\n",
    "\n",
    "First we need the prime divisors of each number. In this solution, I created a recursive prime divisors generation starting from the prime numbers; another solution could have been some sort of \"sieve\" approach."
   ]
  },
  {
   "cell_type": "code",
   "execution_count": 7,
   "metadata": {},
   "outputs": [],
   "source": [
    "import numpy as np\n",
    "from utils.primes import primes_sieve\n",
    "from tqdm import trange\n",
    "\n",
    "D_MAX = 1000000"
   ]
  },
  {
   "cell_type": "code",
   "execution_count": 8,
   "metadata": {},
   "outputs": [],
   "source": [
    "primes = primes_sieve(D_MAX)"
   ]
  },
  {
   "cell_type": "code",
   "execution_count": 9,
   "metadata": {},
   "outputs": [],
   "source": [
    "pd = list(range(D_MAX + 1))\n",
    "\n",
    "def recursive_divisors(start_idx=0, current_prod=1, current_primes=[]):\n",
    "    \n",
    "    for idx in xrange(start_idx, len(primes)):\n",
    "        current_prime = primes[idx]\n",
    "        new_number = current_prod * current_prime\n",
    "        \n",
    "        if new_number > D_MAX:\n",
    "            break\n",
    "        else:\n",
    "            _current_primes = current_primes[::]\n",
    "            _current_primes.append(current_prime)\n",
    "            \n",
    "            pd[new_number] = set(_current_primes)\n",
    "            recursive_divisors(idx, new_number, _current_primes)\n",
    "            \n",
    "recursive_divisors()"
   ]
  },
  {
   "cell_type": "markdown",
   "metadata": {},
   "source": [
    "Now we need to check for each number *n* how many numbers below *n* don't share any proper divisors with *n*. To do that we can create a sieve and populate it using the prime divisors. We can then count how many cells have not been populated. If a number is prime (just one prime divisor), we know that all numbers below *n* won't share any divisors with him."
   ]
  },
  {
   "cell_type": "code",
   "execution_count": 10,
   "metadata": {},
   "outputs": [
    {
     "name": "stderr",
     "output_type": "stream",
     "text": [
      "100%|██████████| 999999/999999 [03:05<00:00, 5389.32it/s] \n"
     ]
    },
    {
     "data": {
      "text/plain": [
       "303963552391"
      ]
     },
     "execution_count": 10,
     "metadata": {},
     "output_type": "execute_result"
    }
   ],
   "source": [
    "total_count = 0\n",
    "\n",
    "for n in trange(2, D_MAX + 1):\n",
    "    \n",
    "    if len(pd[n]) == 1 and list(pd[n])[0] == n:\n",
    "        total_count += n - 1\n",
    "        continue\n",
    "    \n",
    "    v = np.zeros(n, dtype='bool')\n",
    "    for kp in pd[n]:\n",
    "        v[::kp] = True\n",
    "        \n",
    "    l = np.count_nonzero(v)\n",
    "    total_count += n - l\n",
    "    \n",
    "total_count"
   ]
  },
  {
   "cell_type": "markdown",
   "metadata": {},
   "source": [
    "#### Alternative solution\n",
    "\n",
    "We basically need to compute the sum of $\\phi(n)$ (Euler's totient function) for each *n*. See solution to problem 70."
   ]
  }
 ],
 "metadata": {
  "kernelspec": {
   "display_name": "Python 2",
   "language": "python",
   "name": "python2"
  },
  "language_info": {
   "codemirror_mode": {
    "name": "ipython",
    "version": 2
   },
   "file_extension": ".py",
   "mimetype": "text/x-python",
   "name": "python",
   "nbconvert_exporter": "python",
   "pygments_lexer": "ipython2",
   "version": "2.7.12"
  }
 },
 "nbformat": 4,
 "nbformat_minor": 2
}
