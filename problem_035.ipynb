{
 "cells": [
  {
   "cell_type": "markdown",
   "metadata": {},
   "source": [
    "# Problem 35\n",
    "\n",
    "The number, 197, is called a circular prime because all rotations of the\n",
    "digits: 197, 971, and 719, are themselves prime.\n",
    "\n",
    "There are thirteen such primes below 100: 2, 3, 5, 7, 11, 13, 17, 31, 37,\n",
    "71, 73, 79, and 97.\n",
    "\n",
    "How many circular primes are there below one million?"
   ]
  },
  {
   "cell_type": "markdown",
   "metadata": {},
   "source": [
    "### Solution\n",
    "\n",
    "It's not that computationally expensive, so we can afford to test on all of the primes separately without caching information."
   ]
  },
  {
   "cell_type": "code",
   "execution_count": 1,
   "metadata": {},
   "outputs": [],
   "source": [
    "from utils.primes import primes_sieve\n",
    "from tqdm import tqdm\n",
    "\n",
    "primes = primes_sieve(1000000)"
   ]
  },
  {
   "cell_type": "markdown",
   "metadata": {},
   "source": [
    "This generator returns the next rotation of the number, and won't be called anymore if we find out that one of the previous rotations is not a prime number."
   ]
  },
  {
   "cell_type": "code",
   "execution_count": 2,
   "metadata": {},
   "outputs": [],
   "source": [
    "def get_rotations(n):\n",
    "    \n",
    "    str_n = str(n)\n",
    "    \n",
    "    while True:\n",
    "        str_n = str_n[1:] + str_n[0]\n",
    "        new_n = int(str_n)\n",
    "        \n",
    "        if new_n == n:\n",
    "            break\n",
    "        else:\n",
    "            yield new_n"
   ]
  },
  {
   "cell_type": "code",
   "execution_count": 3,
   "metadata": {},
   "outputs": [
    {
     "name": "stderr",
     "output_type": "stream",
     "text": [
      "100%|██████████| 78494/78494 [00:07<00:00, 10077.03it/s]\n"
     ]
    }
   ],
   "source": [
    "circular_primes = []\n",
    "\n",
    "# Testing only on 2+ digit primes\n",
    "\n",
    "for prime in tqdm(primes[4:]):\n",
    "    \n",
    "    circular = True\n",
    "    \n",
    "    for rotation in get_rotations(prime):\n",
    "        if not rotation in primes:\n",
    "            circular = False\n",
    "            break\n",
    "            \n",
    "    if circular:\n",
    "        circular_primes.append(prime)"
   ]
  },
  {
   "cell_type": "markdown",
   "metadata": {},
   "source": [
    "Here I add back the four 1-digit circular primes that I didn't include"
   ]
  },
  {
   "cell_type": "code",
   "execution_count": 4,
   "metadata": {},
   "outputs": [
    {
     "name": "stdout",
     "output_type": "stream",
     "text": [
      "55\n"
     ]
    }
   ],
   "source": [
    "print len(circular_primes) + 4"
   ]
  }
 ],
 "metadata": {
  "kernelspec": {
   "display_name": "Python 2",
   "language": "python",
   "name": "python2"
  },
  "language_info": {
   "codemirror_mode": {
    "name": "ipython",
    "version": 2
   },
   "file_extension": ".py",
   "mimetype": "text/x-python",
   "name": "python",
   "nbconvert_exporter": "python",
   "pygments_lexer": "ipython2",
   "version": "2.7.12"
  }
 },
 "nbformat": 4,
 "nbformat_minor": 2
}
