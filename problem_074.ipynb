{
 "cells": [
  {
   "cell_type": "markdown",
   "metadata": {},
   "source": [
    "# Problem 74\n",
    "\n",
    "The number 145 is well known for the property that the sum of the\n",
    "factorial of its digits is equal to 145:\n",
    "\n",
    "    1! + 4! + 5! = 1 + 24 + 120 = 145\n",
    "\n",
    "Perhaps less well known is 169, in that it produces the longest chain of\n",
    "numbers that link back to 169; it turns out that there are only three such\n",
    "loops that exist:\n",
    "\n",
    "    169 → 363601 → 1454 → 169\n",
    "    871 → 45361 → 871\n",
    "    872 → 45362 → 872\n",
    "\n",
    "It is not difficult to prove that EVERY starting number will eventually\n",
    "get stuck in a loop. For example,\n",
    "\n",
    "    69 → 363600 → 1454 → 169 → 363601 (→ 1454)\n",
    "    78 → 45360 → 871 → 45361 (→ 871)\n",
    "    540 → 145 (→ 145)\n",
    "\n",
    "Starting with 69 produces a chain of five non-repeating terms, but the\n",
    "longest non-repeating chain with a starting number below one million is\n",
    "sixty terms.\n",
    "\n",
    "How many chains, with a starting number below one million, contain exactly\n",
    "sixty non-repeating terms?"
   ]
  },
  {
   "cell_type": "code",
   "execution_count": 1,
   "metadata": {},
   "outputs": [],
   "source": [
    "from math import factorial\n",
    "\n",
    "factorial_cache = [factorial(digit) for digit in xrange(10)]"
   ]
  },
  {
   "cell_type": "code",
   "execution_count": 2,
   "metadata": {},
   "outputs": [],
   "source": [
    "def sum_of_factorial_of_digits(number):\n",
    "    return sum(factorial_cache[int(digit)] for digit in str(number))"
   ]
  },
  {
   "cell_type": "code",
   "execution_count": 3,
   "metadata": {},
   "outputs": [],
   "source": [
    "def compute_chain(number):\n",
    "    \n",
    "    chain = [number]\n",
    "    \n",
    "    number = sum_of_factorial_of_digits(number)\n",
    "    \n",
    "    while number not in chain:\n",
    "        chain.append(number)\n",
    "        number = sum_of_factorial_of_digits(number)\n",
    "        \n",
    "    return chain"
   ]
  },
  {
   "cell_type": "code",
   "execution_count": 4,
   "metadata": {},
   "outputs": [
    {
     "name": "stderr",
     "output_type": "stream",
     "text": [
      "100%|██████████| 1000000/1000000 [02:22<00:00, 7035.53it/s]\n"
     ]
    },
    {
     "data": {
      "text/plain": [
       "402"
      ]
     },
     "execution_count": 4,
     "metadata": {},
     "output_type": "execute_result"
    }
   ],
   "source": [
    "from tqdm import trange\n",
    "\n",
    "sum(1 for n in trange(1000000) if len(compute_chain(n)) == 60)"
   ]
  },
  {
   "cell_type": "markdown",
   "metadata": {},
   "source": [
    "This is a faster solution. When we compute a chain we cache the resulting chain. By doing that, we avoid computing partial chains when we find a number that is already in cache. We approx get a speedup of > 4x."
   ]
  },
  {
   "cell_type": "code",
   "execution_count": 47,
   "metadata": {},
   "outputs": [],
   "source": [
    "cache = {}\n",
    "\n",
    "def add_while_not_present(chain, cached_values):\n",
    "    for c in cached_values:\n",
    "        if c not in chain:\n",
    "            chain.append(c)\n",
    "        else:\n",
    "            break\n",
    "\n",
    "def compute_chain_cached(number):\n",
    "    \n",
    "    if number in cache:\n",
    "        return cache[number]\n",
    "    \n",
    "    chain = [number]\n",
    "    \n",
    "    number = sum_of_factorial_of_digits(number)\n",
    "    if number in cache:\n",
    "        add_while_not_present(chain, cache[number])\n",
    "        return chain\n",
    "    \n",
    "    while number not in chain:\n",
    "        if number in cache:\n",
    "            add_while_not_present(chain, cache[number])\n",
    "            break\n",
    "            \n",
    "        chain.append(number)\n",
    "        number = sum_of_factorial_of_digits(number)\n",
    "    \n",
    "    if number not in cache:\n",
    "        cache[number] = chain[chain.index(number):]\n",
    "        \n",
    "    cache[chain[0]] = chain\n",
    "        \n",
    "    return chain"
   ]
  },
  {
   "cell_type": "code",
   "execution_count": 48,
   "metadata": {},
   "outputs": [
    {
     "name": "stderr",
     "output_type": "stream",
     "text": [
      "100%|██████████| 1000000/1000000 [00:29<00:00, 33654.04it/s]\n"
     ]
    },
    {
     "data": {
      "text/plain": [
       "402"
      ]
     },
     "execution_count": 48,
     "metadata": {},
     "output_type": "execute_result"
    }
   ],
   "source": [
    "from tqdm import trange\n",
    "\n",
    "sum(1 for n in trange(1000000) if len(compute_chain_cached(n)) == 60)"
   ]
  }
 ],
 "metadata": {
  "kernelspec": {
   "display_name": "Python 2",
   "language": "python",
   "name": "python2"
  },
  "language_info": {
   "codemirror_mode": {
    "name": "ipython",
    "version": 2
   },
   "file_extension": ".py",
   "mimetype": "text/x-python",
   "name": "python",
   "nbconvert_exporter": "python",
   "pygments_lexer": "ipython2",
   "version": "2.7.12"
  }
 },
 "nbformat": 4,
 "nbformat_minor": 2
}
