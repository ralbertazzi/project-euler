{
 "cells": [
  {
   "cell_type": "markdown",
   "metadata": {},
   "source": [
    "# Problem 24\n",
    "\n",
    "A permutation is an ordered arrangement of objects. For example, 3124 is\n",
    "one possible permutation of the digits 1, 2, 3 and 4. If all of the\n",
    "permutations are listed numerically or alphabetically, we call it\n",
    "lexicographic order. The lexicographic permutations of 0, 1 and 2 are:\n",
    "\n",
    "                   012   021   102   120   201   210\n",
    "\n",
    "What is the millionth lexicographic permutation of the digits 0, 1, 2, 3,\n",
    "4, 5, 6, 7, 8 and 9?"
   ]
  },
  {
   "cell_type": "code",
   "execution_count": 1,
   "metadata": {},
   "outputs": [],
   "source": [
    "def permutation(numbers, current_depth=1, used_chars=[]):\n",
    "    \n",
    "    for n in [n for n in xrange(numbers) if n not in used_chars]:\n",
    "        if current_depth == numbers:\n",
    "            yield [n]\n",
    "        else:\n",
    "            _used_chars = used_chars[::]  # make a copy of the used chars for the recursive call\n",
    "            _used_chars.append(n)\n",
    "            \n",
    "            for perm in permutation(numbers, current_depth + 1, _used_chars):\n",
    "                yield [n] + perm"
   ]
  },
  {
   "cell_type": "code",
   "execution_count": 2,
   "metadata": {},
   "outputs": [
    {
     "data": {
      "text/plain": [
       "[2, 7, 8, 3, 9, 1, 5, 4, 6, 0]"
      ]
     },
     "execution_count": 2,
     "metadata": {},
     "output_type": "execute_result"
    }
   ],
   "source": [
    "from utils.iterate import take_nth\n",
    "\n",
    "take_nth(permutation(10), 1000000, start=1)"
   ]
  }
 ],
 "metadata": {
  "kernelspec": {
   "display_name": "Python 2",
   "language": "python",
   "name": "python2"
  },
  "language_info": {
   "codemirror_mode": {
    "name": "ipython",
    "version": 2
   },
   "file_extension": ".py",
   "mimetype": "text/x-python",
   "name": "python",
   "nbconvert_exporter": "python",
   "pygments_lexer": "ipython2",
   "version": "2.7.12"
  }
 },
 "nbformat": 4,
 "nbformat_minor": 2
}
