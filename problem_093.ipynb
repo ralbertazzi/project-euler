{
 "cells": [
  {
   "cell_type": "markdown",
   "metadata": {},
   "source": [
    "# Problem 93\n",
    "\n",
    "By using each of the digits from the set, `{1, 2, 3, 4}`, exactly once, and making use of the four arithmetic operations `(+, −, *, /)` and brackets/parentheses, it is possible to form different positive integer targets.\n",
    "\n",
    "For example,\n",
    "\n",
    "```\n",
    "8 = (4 * (1 + 3)) / 2\n",
    "14 = 4 * (3 + 1 / 2)\n",
    "19 = 4 * (2 + 3) − 1\n",
    "36 = 3 * 4 * (2 + 1)\n",
    "```\n",
    "\n",
    "Note that concatenations of the digits, like `12 + 34`, are not allowed.\n",
    "\n",
    "Using the set, `{1, 2, 3, 4}`, it is possible to obtain thirty-one different target numbers of which 36 is the maximum, and each of the numbers 1 to 28 can be obtained before encountering the first non-expressible number.\n",
    "\n",
    "Find the set of four distinct digits, `a < b < c < d`, for which the longest set of consecutive positive integers, 1 to n, can be obtained, giving your answer as a string: abcd."
   ]
  },
  {
   "cell_type": "code",
   "execution_count": 1,
   "metadata": {},
   "outputs": [],
   "source": [
    "import operator\n",
    "from collections import namedtuple, defaultdict\n",
    "from itertools import combinations, product"
   ]
  },
  {
   "cell_type": "code",
   "execution_count": 2,
   "metadata": {},
   "outputs": [],
   "source": [
    "digits = list(combinations(range(1,10), 4))"
   ]
  },
  {
   "cell_type": "code",
   "execution_count": 3,
   "metadata": {},
   "outputs": [],
   "source": [
    "Operator = namedtuple(\"Operator\", \"op commutative\")\n",
    "operators = [\n",
    "    Operator(operator.add, True),\n",
    "    Operator(operator.sub, False),\n",
    "    Operator(operator.mul, True),\n",
    "    Operator(operator.truediv, False),\n",
    "]"
   ]
  },
  {
   "cell_type": "code",
   "execution_count": 4,
   "metadata": {
    "scrolled": false
   },
   "outputs": [],
   "source": [
    "def all_operations(values) -> list:\n",
    "    data = defaultdict(lambda: defaultdict(list))\n",
    "    for v in values:\n",
    "        data[1][frozenset({v})].append(v)\n",
    "    \n",
    "    for stage in range(2, len(values) + 1):\n",
    "        keys = [k for k in data if k < stage]\n",
    "        partial_operands = [(operands, value) for k in keys for operands, value in data[k].items()]\n",
    "        for p_op in partial_operands:\n",
    "            applicable = [p for p in partial_operands if not p[0] & p_op[0]]\n",
    "            for p_app in applicable:\n",
    "                \n",
    "                new_operands = p_app[0].union(p_op[0])\n",
    "                results = []\n",
    "                for operator in operators:\n",
    "                    for v1, v2 in product(p_app[1], p_op[1]):\n",
    "                        try:\n",
    "                            results.append(operator.op(v1, v2))\n",
    "                        except ZeroDivisionError:\n",
    "                            pass\n",
    "                        \n",
    "                        if not operator.commutative:\n",
    "                            try:\n",
    "                                results.append(operator.op(v2, v1))\n",
    "                            except ZeroDivisionError:\n",
    "                                pass\n",
    "\n",
    "                data[len(new_operands)][new_operands].extend(results)\n",
    "        \n",
    "    all_results = [data[len(values)][k] for k in data[len(values)]]\n",
    "    all_results = [r for results in all_results for r in results]\n",
    "    all_results = {int(r) for r in all_results if r > 0 and r == int(r) }\n",
    "    return all_results\n",
    "    \n",
    "def first_missing(all_results):\n",
    "    all_numbers = set(range(1, len(all_results) + 1))\n",
    "    return min(all_numbers - all_results)"
   ]
  },
  {
   "cell_type": "code",
   "execution_count": 5,
   "metadata": {},
   "outputs": [
    {
     "name": "stdout",
     "output_type": "stream",
     "text": [
      "(1, 2, 5, 8)\n"
     ]
    }
   ],
   "source": [
    "max_missing = -1\n",
    "max_digits = None\n",
    "\n",
    "for d in digits:\n",
    "    results = all_operations(d)\n",
    "    f_missing = first_missing(results)\n",
    "    if f_missing > max_missing:\n",
    "        max_missing = f_missing\n",
    "        max_digits = d\n",
    "        \n",
    "print(max_digits)"
   ]
  }
 ],
 "metadata": {
  "kernelspec": {
   "display_name": "Python 3",
   "language": "python",
   "name": "python3"
  },
  "language_info": {
   "codemirror_mode": {
    "name": "ipython",
    "version": 3
   },
   "file_extension": ".py",
   "mimetype": "text/x-python",
   "name": "python",
   "nbconvert_exporter": "python",
   "pygments_lexer": "ipython3",
   "version": "3.8.1"
  }
 },
 "nbformat": 4,
 "nbformat_minor": 4
}
