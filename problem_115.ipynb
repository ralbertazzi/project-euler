{
 "cells": [
  {
   "cell_type": "markdown",
   "metadata": {},
   "source": [
    "# Problem 115\n",
    "\n",
    "### Counting block combinations II\n",
    "\n",
    "NOTE: This is a more difficult version of Problem 114.\n",
    "\n",
    "A row measuring n units in length has red blocks with a minimum length of m units placed on it, such that any two red blocks (which are allowed to be different lengths) are separated by at least one black square.\n",
    "\n",
    "Let the fill-count function, F(m, n), represent the number of ways that a row can be filled.\n",
    "\n",
    "For example, F(3, 29) = 673135 and F(3, 30) = 1089155.\n",
    "\n",
    "That is, for m = 3, it can be seen that n = 30 is the smallest value for which the fill-count function first exceeds one million.\n",
    "\n",
    "In the same way, for m = 10, it can be verified that F(10, 56) = 880711 and F(10, 57) = 1148904, so n = 57 is the least value for which the fill-count function first exceeds one million.\n",
    "\n",
    "For m = 50, find the least value of n for which the fill-count function first exceeds one million."
   ]
  },
  {
   "cell_type": "markdown",
   "metadata": {},
   "source": [
    "### Solution\n",
    "\n",
    "Adapted code from problem 114"
   ]
  },
  {
   "cell_type": "code",
   "execution_count": 1,
   "metadata": {},
   "outputs": [
    {
     "name": "stdout",
     "output_type": "stream",
     "text": [
      "168\n"
     ]
    }
   ],
   "source": [
    "M = 50\n",
    "F = [1 for _ in xrange(M)]\n",
    "F.append(2)\n",
    "\n",
    "while F[-1] < 1000000:\n",
    "    L = len(F)\n",
    "    s = sum(F[:L-M]) + F[L-1] + 1\n",
    "    F.append(s)\n",
    "    \n",
    "print L"
   ]
  }
 ],
 "metadata": {
  "kernelspec": {
   "display_name": "Python 2",
   "language": "python",
   "name": "python2"
  },
  "language_info": {
   "codemirror_mode": {
    "name": "ipython",
    "version": 2
   },
   "file_extension": ".py",
   "mimetype": "text/x-python",
   "name": "python",
   "nbconvert_exporter": "python",
   "pygments_lexer": "ipython2",
   "version": "2.7.12"
  }
 },
 "nbformat": 4,
 "nbformat_minor": 2
}
