{
 "cells": [
  {
   "cell_type": "markdown",
   "metadata": {},
   "source": [
    "# Problem 53\n",
    "\n",
    "### Combinatoric selections\n",
    "\n",
    "There are exactly ten ways of selecting three from five, 12345:\n",
    "\n",
    "    123, 124, 125, 134, 135, 145, 234, 235, 245, and 345\n",
    "\n",
    "In combinatorics, we use the notation, 5C3 = 10.\n",
    "\n",
    "In general,\n",
    "\n",
    "$nC_r = \\frac{n!}{r!(n−r)!}$\n",
    "\n",
    "where r ≤ n, n! = n×(n−1)×...×3×2×1, and 0! = 1.\n",
    "\n",
    "It is not until n = 23, that a value exceeds one-million: 23C10 = 1144066.\n",
    "\n",
    "How many, not necessarily distinct, values of  nCr, for 1 ≤ n ≤ 100, are greater than one-million?"
   ]
  },
  {
   "cell_type": "markdown",
   "metadata": {},
   "source": [
    "### Solution\n",
    "\n",
    "First we are going to cache the factorials. We are not going to need the factorials above $n/2$ ($n=100$) thanks to the implementation of *combinations* (see below)."
   ]
  },
  {
   "cell_type": "code",
   "execution_count": 1,
   "metadata": {},
   "outputs": [],
   "source": [
    "from math import factorial\n",
    "\n",
    "factorials = [factorial(n) for n in range(51)]"
   ]
  },
  {
   "cell_type": "markdown",
   "metadata": {},
   "source": [
    "An efficient implementation would compute the whole factorial of the numerator. Since we are going to deal with big factorials, and since they are going to be divided by the denominator, we can avoid computing the big factorials.\n",
    "\n",
    "The idea is to compute $n \\times n - 1 \\times ... \\times n - k - 1$. Since *combinations(n, k) = combinations(n, n - k)*, we can change *k* with *n - k* if *k* is smaller than the second number. By doing that, we will have to multiply less numbers to make the numerator (the more $n-k$ is closer to $n$, the better).\n",
    "\n",
    "For computing *factorial(k)*, we are going to use the cached numbers. Since by implementation $k$ will always be $\\leq n/2$, we won't need to cache numbers greater than $100 / 2 = 50$."
   ]
  },
  {
   "cell_type": "code",
   "execution_count": 2,
   "metadata": {},
   "outputs": [],
   "source": [
    "from utils.math import prod_of_list\n",
    "\n",
    "def combinations(n, k):\n",
    "    \n",
    "    if k == 0 or k == n:\n",
    "        return 1\n",
    "    \n",
    "    if n - k < k:\n",
    "        k = n - k\n",
    "        \n",
    "    num = prod_of_list([x for x in xrange(n, n - k, -1)])        \n",
    "    den = factorials[k]\n",
    "    \n",
    "    return num // den"
   ]
  },
  {
   "cell_type": "markdown",
   "metadata": {},
   "source": [
    "##### Solution 1\n",
    "\n",
    "Iterate on all *n* and *k*"
   ]
  },
  {
   "cell_type": "code",
   "execution_count": 3,
   "metadata": {},
   "outputs": [
    {
     "data": {
      "text/plain": [
       "4075"
      ]
     },
     "execution_count": 3,
     "metadata": {},
     "output_type": "execute_result"
    }
   ],
   "source": [
    "sum(1 for n in xrange(2, 101) for k in xrange(2, n + 1) if combinations(n, k) > 1000000)"
   ]
  },
  {
   "cell_type": "markdown",
   "metadata": {},
   "source": [
    "##### Solution 2\n",
    "\n",
    "A more efficient solutions will stop when the first number above 1000000 is found; since the combinations are symmetric, we already know that only the combinations from $k$ to $n - k$ will be above 1000000.\n",
    "\n",
    "Since the implementation of *combinations* is already very efficient and the numbers are not that big, I couldn't notice any performance improvement. If you set $n$ to 1000, the first solution doesn't yield a solutions even after some seconds, while this second solution returns immediately."
   ]
  },
  {
   "cell_type": "code",
   "execution_count": 4,
   "metadata": {},
   "outputs": [
    {
     "name": "stdout",
     "output_type": "stream",
     "text": [
      "4075\n"
     ]
    }
   ],
   "source": [
    "combinations_greater_than_one_million = 0\n",
    "\n",
    "for n in xrange(2, 101):\n",
    "    for k in xrange(2, n // 2 + 2):\n",
    "        \n",
    "        if combinations(n, k) > 1000000:\n",
    "            combinations_greater_than_one_million += n - 2 * k + 1\n",
    "            break\n",
    "            \n",
    "print combinations_greater_than_one_million"
   ]
  }
 ],
 "metadata": {
  "kernelspec": {
   "display_name": "Python 2",
   "language": "python",
   "name": "python2"
  },
  "language_info": {
   "codemirror_mode": {
    "name": "ipython",
    "version": 2
   },
   "file_extension": ".py",
   "mimetype": "text/x-python",
   "name": "python",
   "nbconvert_exporter": "python",
   "pygments_lexer": "ipython2",
   "version": "2.7.12"
  }
 },
 "nbformat": 4,
 "nbformat_minor": 2
}
