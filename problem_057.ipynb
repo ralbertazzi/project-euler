{
 "cells": [
  {
   "cell_type": "markdown",
   "metadata": {},
   "source": [
    "# Problem 57\n",
    "\n",
    "### Square root convergents\n",
    "\n",
    "It is possible to show that the square root of two can be expressed as an infinite continued fraction.\n",
    "\n",
    "    √ 2 = 1 + 1/(2 + 1/(2 + 1/(2 + ... ))) = 1.414213...\n",
    "\n",
    "By expanding this for the first four iterations, we get:\n",
    "\n",
    "    1 + 1/2 = 3/2 = 1.5\n",
    "    1 + 1/(2 + 1/2) = 7/5 = 1.4\n",
    "    1 + 1/(2 + 1/(2 + 1/2)) = 17/12 = 1.41666...\n",
    "    1 + 1/(2 + 1/(2 + 1/(2 + 1/2))) = 41/29 = 1.41379...\n",
    "\n",
    "The next three expansions are 99/70, 239/169, and 577/408, but the eighth expansion, 1393/985, is the first example where the number of digits in the numerator exceeds the number of digits in the denominator.\n",
    "\n",
    "In the first one-thousand expansions, how many fractions contain a numerator with more digits than denominator?"
   ]
  },
  {
   "cell_type": "markdown",
   "metadata": {},
   "source": [
    "### Solution\n",
    "\n",
    "Luckily Python provides a nice Fraction class ready to use. Here we can perform the sums that we need.\n",
    "\n",
    "First we need to generate all the expansions. We can do that iteratively by noticing that each expansion has a core that can be calculated from the previous number:\n",
    "\n",
    "$a_{n} = 1 + 1 / c_{n}$\n",
    "\n",
    "$ c_{n+1} = 2 + 1 / c_{n} $\n",
    "\n",
    "$ c_{1} = 2$"
   ]
  },
  {
   "cell_type": "code",
   "execution_count": 1,
   "metadata": {},
   "outputs": [],
   "source": [
    "from fractions import Fraction\n",
    "\n",
    "f_12 = Fraction(1, 2)\n",
    "ITERATIONS = 1000"
   ]
  },
  {
   "cell_type": "code",
   "execution_count": 2,
   "metadata": {},
   "outputs": [],
   "source": [
    "expansions = []\n",
    "\n",
    "cont = 2\n",
    "\n",
    "for _ in range(ITERATIONS):\n",
    "    \n",
    "    expansions.append(1 + 1 / cont)\n",
    "    cont = 2 + Fraction(1, cont)"
   ]
  },
  {
   "cell_type": "markdown",
   "metadata": {},
   "source": [
    "Then we just need to check how many expansions have a numerator with more digits than the denominator"
   ]
  },
  {
   "cell_type": "code",
   "execution_count": 3,
   "metadata": {},
   "outputs": [
    {
     "data": {
      "text/plain": [
       "153"
      ]
     },
     "execution_count": 3,
     "metadata": {},
     "output_type": "execute_result"
    }
   ],
   "source": [
    "def digits(number):\n",
    "    return len(str(number))\n",
    "\n",
    "sum(1 for expansion in expansions if digits(expansion.numerator) > digits(expansion.denominator))"
   ]
  }
 ],
 "metadata": {
  "kernelspec": {
   "display_name": "Python 2",
   "language": "python",
   "name": "python2"
  },
  "language_info": {
   "codemirror_mode": {
    "name": "ipython",
    "version": 2
   },
   "file_extension": ".py",
   "mimetype": "text/x-python",
   "name": "python",
   "nbconvert_exporter": "python",
   "pygments_lexer": "ipython2",
   "version": "2.7.12"
  }
 },
 "nbformat": 4,
 "nbformat_minor": 2
}
