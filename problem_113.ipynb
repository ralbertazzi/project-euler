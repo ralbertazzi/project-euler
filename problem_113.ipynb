{
 "cells": [
  {
   "cell_type": "markdown",
   "metadata": {},
   "source": [
    "# Problem 113\n",
    "\n",
    "Working from left-to-right if no digit is exceeded by the digit to its left it is called an increasing number; for example, 134468.\n",
    "\n",
    "Similarly if no digit is exceeded by the digit to its right it is called a decreasing number; for example, 66420.\n",
    "\n",
    "We shall call a positive integer that is neither increasing nor decreasing a \"bouncy\" number; for example, 155349.\n",
    "\n",
    "As n increases, the proportion of bouncy numbers below n increases such that there are only 12951 numbers below one-million that are not bouncy and only 277032 non-bouncy numbers below 10^10.\n",
    "\n",
    "How many numbers below a googol (10^100) are not bouncy?"
   ]
  },
  {
   "cell_type": "code",
   "execution_count": 1,
   "metadata": {},
   "outputs": [],
   "source": [
    "import numpy as np\n",
    "\n",
    "DIGITS = 100\n",
    "\n",
    "data = np.zeros((DIGITS, 10), dtype=np.int64)\n",
    "data[DIGITS-1,:] = np.arange(10, 0, -1)\n",
    "\n",
    "for d in range(DIGITS - 2, 0, -1):\n",
    "    for dd in range(10):\n",
    "        data[d, dd] = np.sum(data[d + 1, dd:])"
   ]
  },
  {
   "cell_type": "code",
   "execution_count": 2,
   "metadata": {},
   "outputs": [
    {
     "data": {
      "text/plain": [
       "51161058134250"
      ]
     },
     "execution_count": 2,
     "metadata": {},
     "output_type": "execute_result"
    }
   ],
   "source": [
    "non_bouncy = (\n",
    "    np.sum(data[:,1:])  # Increasing numbers (we don't want 0 as first number)\n",
    "    + np.sum(data)      # Decreasing numbers (here first number = 9 is considered)\n",
    "    - (DIGITS - 1)      # Remove decreasing numbers starting with 0\n",
    "    - 9 * (DIGITS - 1)  # Remove both decreasing and increasing numbers (111, 33, 44444, ...) counted twice\n",
    "    + 9                 # Add numbers from 1 to 9\n",
    ")\n",
    "\n",
    "non_bouncy"
   ]
  }
 ],
 "metadata": {
  "kernelspec": {
   "display_name": "Python 3",
   "language": "python",
   "name": "python3"
  },
  "language_info": {
   "codemirror_mode": {
    "name": "ipython",
    "version": 3
   },
   "file_extension": ".py",
   "mimetype": "text/x-python",
   "name": "python",
   "nbconvert_exporter": "python",
   "pygments_lexer": "ipython3",
   "version": "3.8.1"
  }
 },
 "nbformat": 4,
 "nbformat_minor": 4
}
