{
 "cells": [
  {
   "cell_type": "markdown",
   "metadata": {},
   "source": [
    "# Problem 25\n",
    "\n",
    "The Fibonacci sequence is defined by the recurrence relation:\n",
    "\n",
    " F[n] = F[n−1] + F[n−2], where F[1] = 1 and F[2] = 1.\n",
    "\n",
    "Hence the first 12 terms will be:\n",
    "\n",
    " F[1] = 1\n",
    " F[2] = 1\n",
    " F[3] = 2\n",
    " F[4] = 3\n",
    " F[5] = 5\n",
    " F[6] = 8\n",
    " F[7] = 13\n",
    " F[8] = 21\n",
    " F[9] = 34\n",
    " F[10] = 55\n",
    " F[11] = 89\n",
    " F[12] = 144\n",
    "\n",
    "The 12th term, F[12], is the first term to contain three digits.\n",
    "\n",
    "What is the index of the first term in the Fibonacci sequence to contain 1000 digits?"
   ]
  },
  {
   "cell_type": "code",
   "execution_count": 1,
   "metadata": {},
   "outputs": [
    {
     "name": "stdout",
     "output_type": "stream",
     "text": [
      "4782\n"
     ]
    }
   ],
   "source": [
    "from utils.math import fibonacci\n",
    "\n",
    "for idx, fib in enumerate(fibonacci(), start=1):\n",
    "    \n",
    "    if len(str(fib)) == 1000:\n",
    "        print idx\n",
    "        break"
   ]
  }
 ],
 "metadata": {
  "kernelspec": {
   "display_name": "Python 2",
   "language": "python",
   "name": "python2"
  },
  "language_info": {
   "codemirror_mode": {
    "name": "ipython",
    "version": 2
   },
   "file_extension": ".py",
   "mimetype": "text/x-python",
   "name": "python",
   "nbconvert_exporter": "python",
   "pygments_lexer": "ipython2",
   "version": "2.7.12"
  }
 },
 "nbformat": 4,
 "nbformat_minor": 2
}
