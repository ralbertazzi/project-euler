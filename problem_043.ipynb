{
 "cells": [
  {
   "cell_type": "markdown",
   "metadata": {},
   "source": [
    "# Problem 43\n",
    "\n",
    "### Sub-string divisibility\n",
    "\n",
    "The number, 1406357289, is a 0 to 9 pandigital number because it is made up of each of the digits 0 to 9 in some order, but it also has a rather interesting sub-string divisibility property.\n",
    "\n",
    "Let d1 be the 1st digit, d2 be the 2nd digit, and so on. In this way, we note the following:\n",
    "\n",
    "* d2d3d4=406 is divisible by 2\n",
    "* d3d4d5=063 is divisible by 3\n",
    "* d4d5d6=635 is divisible by 5\n",
    "* d5d6d7=357 is divisible by 7\n",
    "* d6d7d8=572 is divisible by 11\n",
    "* d7d8d9=728 is divisible by 13\n",
    "* d8d9d10=289 is divisible by 17\n",
    "\n",
    "Find the sum of all 0 to 9 pandigital numbers with this property."
   ]
  },
  {
   "cell_type": "markdown",
   "metadata": {},
   "source": [
    "### Solution\n",
    "\n",
    "I implemented a tree search algorithm that adds a digit at each node.\n",
    "\n",
    "The requirements of the problem become connstraints that prune the search tree, so the computation is super fast.\n",
    " * At each node we can add a number that is not already present\n",
    " * At each node we have to verify the property where the last 3 digits % the corresponding prime is 0. This is enforced when at least the 4 first digits have been placed."
   ]
  },
  {
   "cell_type": "code",
   "execution_count": 1,
   "metadata": {},
   "outputs": [],
   "source": [
    "from utils.math import number_from_list_of_digits\n",
    "generated_numbers = []\n",
    "\n",
    "primes = [2, 3, 5, 7, 11, 13, 17]\n",
    "\n",
    "def rec_generate(used_numbers=[]):\n",
    "    \n",
    "    depth = len(used_numbers)\n",
    "    if depth == 10:\n",
    "        generated_numbers.append(number_from_list_of_digits(used_numbers))\n",
    "        return\n",
    "    \n",
    "    for next_number in [n for n in xrange(10) if n not in used_numbers]:\n",
    "        \n",
    "        _used_numbers = used_numbers[::]\n",
    "        _used_numbers.append(next_number)\n",
    "        \n",
    "        if depth >= 3:\n",
    "            prime_compare = primes[depth - 3]\n",
    "            \n",
    "            if number_from_list_of_digits(_used_numbers[-3:]) % prime_compare != 0:\n",
    "                continue\n",
    "        \n",
    "        rec_generate(_used_numbers)        \n",
    "\n",
    "        \n",
    "rec_generate()"
   ]
  },
  {
   "cell_type": "code",
   "execution_count": 2,
   "metadata": {},
   "outputs": [
    {
     "name": "stdout",
     "output_type": "stream",
     "text": [
      "[1406357289, 1430952867, 1460357289, 4106357289, 4130952867, 4160357289]\n",
      "Their sum is: 16695334890\n"
     ]
    }
   ],
   "source": [
    "print generated_numbers\n",
    "print 'Their sum is:', sum(generated_numbers)"
   ]
  }
 ],
 "metadata": {
  "kernelspec": {
   "display_name": "Python 2",
   "language": "python",
   "name": "python2"
  },
  "language_info": {
   "codemirror_mode": {
    "name": "ipython",
    "version": 2
   },
   "file_extension": ".py",
   "mimetype": "text/x-python",
   "name": "python",
   "nbconvert_exporter": "python",
   "pygments_lexer": "ipython2",
   "version": "2.7.12"
  }
 },
 "nbformat": 4,
 "nbformat_minor": 2
}
