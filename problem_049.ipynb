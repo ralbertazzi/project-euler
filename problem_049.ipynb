{
 "cells": [
  {
   "cell_type": "markdown",
   "metadata": {},
   "source": [
    "# Problem 49\n",
    "\n",
    "### Solution\n",
    "\n",
    "The arithmetic sequence, 1487, 4817, 8147, in which each of the terms increases by 3330, is unusual in two ways: (i) each of the three terms are prime, and, (ii) each of the 4-digit numbers are permutations of one another.\n",
    "\n",
    "There are no arithmetic sequences made up of three 1-, 2-, or 3-digit primes, exhibiting this property, but there is one other 4-digit increasing sequence.\n",
    "\n",
    "What 12-digit number do you form by concatenating the three terms in this sequence?"
   ]
  },
  {
   "cell_type": "markdown",
   "metadata": {},
   "source": [
    "### Solution\n",
    "\n",
    "First we find all the 4-digits prime numbers."
   ]
  },
  {
   "cell_type": "code",
   "execution_count": 1,
   "metadata": {},
   "outputs": [
    {
     "name": "stdout",
     "output_type": "stream",
     "text": [
      "1061\n"
     ]
    }
   ],
   "source": [
    "from utils.primes import primes_sieve\n",
    "\n",
    "primes = primes_sieve(10000)\n",
    "primes = primes[primes > 1000]\n",
    "\n",
    "print len(primes)"
   ]
  },
  {
   "cell_type": "markdown",
   "metadata": {},
   "source": [
    "We iterate on couples of prime numbers $p_i$ and $p_j$, with $i < j$. If $p_j + (p_j - p_i)$ (the third number of the arithmetic sequence) is a prime number, we check if the digits used in $p_i$ are the same one used in $p_j$ and the third number. If that is true, we have found a valid triple."
   ]
  },
  {
   "cell_type": "code",
   "execution_count": 2,
   "metadata": {},
   "outputs": [
    {
     "name": "stdout",
     "output_type": "stream",
     "text": [
      "1487 4817 8147\n",
      "2969 6299 9629\n"
     ]
    }
   ],
   "source": [
    "for i in xrange(len(primes)):\n",
    "    \n",
    "    for j in xrange(i+1, len(primes)):\n",
    "        \n",
    "        diff = primes[j] - primes[i]\n",
    "        third_number = primes[j] + diff\n",
    "        if third_number in primes:\n",
    "            \n",
    "            digits_1 = set(str(primes[i]))\n",
    "            digits_2 = set(str(primes[j]))\n",
    "            digits_3 = set(str(third_number))\n",
    "            \n",
    "            digits_12 = digits_1.symmetric_difference(digits_2)\n",
    "            digits_23 = digits_2.symmetric_difference(digits_3)\n",
    "            digits_13 = digits_1.symmetric_difference(digits_3)\n",
    "\n",
    "            if len(digits_12) == 0 and len(digits_23) == 0 and len(digits_13) == 0:\n",
    "                print primes[i], primes[j], third_number"
   ]
  }
 ],
 "metadata": {
  "kernelspec": {
   "display_name": "Python 2",
   "language": "python",
   "name": "python2"
  },
  "language_info": {
   "codemirror_mode": {
    "name": "ipython",
    "version": 2
   },
   "file_extension": ".py",
   "mimetype": "text/x-python",
   "name": "python",
   "nbconvert_exporter": "python",
   "pygments_lexer": "ipython2",
   "version": "2.7.12"
  }
 },
 "nbformat": 4,
 "nbformat_minor": 2
}
