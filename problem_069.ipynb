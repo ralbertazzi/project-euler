{
 "cells": [
  {
   "cell_type": "markdown",
   "metadata": {},
   "source": [
    "# Problem 69\n",
    "\n",
    "### Totient maximum\n",
    "\n",
    "Euler's Totient function, φ(n) [sometimes called the phi function], is used to determine the number of numbers less than n which are relatively prime to n. For example, as 1, 2, 4, 5, 7, and 8, are all less than nine and relatively prime to nine, φ(9)=6.\n",
    "\n",
    "It can be seen that n=6 produces a maximum n/φ(n) for n ≤ 10.\n",
    "\n",
    "Find the value of n ≤ 1,000,000 for which n/φ(n) is a maximum."
   ]
  },
  {
   "cell_type": "markdown",
   "metadata": {},
   "source": [
    "### Solution\n",
    "\n",
    "My solution is made of the following steps:\n",
    "    1. Compute as fast as possible the prime factors for each number below one million. This is done by computing the primes below one million and adding each prime to the list of prime factors of all numbers that are multiple of that prime.\n",
    "    2. For each number, compute phi (nuber of coprimes) by computing first the number of numbers less than n that share at least one prime factor with *n*. This is done by creating an array of zeros (as big as the target number) and setting to 1 every number that is multiple of one of the prime factors of *n*. The total number of of 1s gives the number of numbers less than *n* that have at least 1 prime factor in common with *n*."
   ]
  },
  {
   "cell_type": "code",
   "execution_count": 1,
   "metadata": {},
   "outputs": [],
   "source": [
    "from utils.primes import primes_sieve\n",
    "from utils.math import prod_of_list\n",
    "import numpy as np\n",
    "from tqdm import tqdm\n",
    "import matplotlib.pyplot as plt"
   ]
  },
  {
   "cell_type": "code",
   "execution_count": 2,
   "metadata": {},
   "outputs": [],
   "source": [
    "N = 1000000\n",
    "\n",
    "primes = primes_sieve(1000)\n",
    "fact = [set() for x in xrange(N + 1)]"
   ]
  },
  {
   "cell_type": "code",
   "execution_count": 3,
   "metadata": {},
   "outputs": [],
   "source": [
    "for prime in primes:\n",
    "    for s in fact[2 * prime::prime]:\n",
    "        s.add(prime)"
   ]
  },
  {
   "cell_type": "code",
   "execution_count": 4,
   "metadata": {},
   "outputs": [
    {
     "name": "stderr",
     "output_type": "stream",
     "text": [
      "999995it [02:21, 7067.25it/s] \n"
     ]
    }
   ],
   "source": [
    "start_number = 6\n",
    "nums = []\n",
    "phi = []\n",
    "\n",
    "for number, prime_factors in tqdm(enumerate(fact[start_number:], start=start_number)):\n",
    "    \n",
    "    if len(prime_factors) == 0:\n",
    "        continue\n",
    "        \n",
    "    sieve = np.zeros(number, dtype=bool)\n",
    "    for prime_factor in prime_factors:\n",
    "        sieve[prime_factor::prime_factor] = True\n",
    "        \n",
    "    non_coprimes = np.count_nonzero(sieve)\n",
    "    coprimes = number - non_coprimes - 1\n",
    "    \n",
    "    nums.append(number)\n",
    "    phi.append(coprimes)\n",
    "    \n",
    "nums = np.array(nums)\n",
    "phi = np.array(phi)\n",
    "n_div_phi = nums.astype(np.float) / phi"
   ]
  },
  {
   "cell_type": "code",
   "execution_count": 5,
   "metadata": {},
   "outputs": [
    {
     "name": "stdout",
     "output_type": "stream",
     "text": [
      "510510\n"
     ]
    }
   ],
   "source": [
    "idx_max_n_div_phi = np.argmax(n_div_phi)\n",
    "print nums[idx_max_n_div_phi]"
   ]
  }
 ],
 "metadata": {
  "kernelspec": {
   "display_name": "Python 2",
   "language": "python",
   "name": "python2"
  },
  "language_info": {
   "codemirror_mode": {
    "name": "ipython",
    "version": 2
   },
   "file_extension": ".py",
   "mimetype": "text/x-python",
   "name": "python",
   "nbconvert_exporter": "python",
   "pygments_lexer": "ipython2",
   "version": "2.7.12"
  }
 },
 "nbformat": 4,
 "nbformat_minor": 2
}
