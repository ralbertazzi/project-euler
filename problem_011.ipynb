{
 "cells": [
  {
   "cell_type": "markdown",
   "metadata": {},
   "source": [
    "# Problem 11\n",
    "\n",
    "### Largest product in a grid\n",
    "\n",
    "In the 20×20 grid below, four numbers along a diagonal line have been marked in red.\n",
    "\n",
    "08 02 22 97 38 15 00 40 00 75 04 05 07 78 52 12 50 77 91 08\n",
    "\n",
    "49 49 99 40 17 81 18 57 60 87 17 40 98 43 69 48 04 56 62 00\n",
    "\n",
    "81 49 31 73 55 79 14 29 93 71 40 67 53 88 30 03 49 13 36 65\n",
    "\n",
    "52 70 95 23 04 60 11 42 69 24 68 56 01 32 56 71 37 02 36 91\n",
    "\n",
    "22 31 16 71 51 67 63 89 41 92 36 54 22 40 40 28 66 33 13 80\n",
    "\n",
    "24 47 32 60 99 03 45 02 44 75 33 53 78 36 84 20 35 17 12 50\n",
    "\n",
    "32 98 81 28 64 23 67 10 26 38 40 67 59 54 70 66 18 38 64 70\n",
    "\n",
    "67 26 20 68 02 62 12 20 95 63 94 39 63 08 40 91 66 49 94 21\n",
    "\n",
    "24 55 58 05 66 73 99 26 97 17 78 78 96 83 14 88 34 89 63 72\n",
    "\n",
    "21 36 23 09 75 00 76 44 20 45 35 14 00 61 33 97 34 31 33 95\n",
    "\n",
    "78 17 53 28 22 75 31 67 15 94 03 80 04 62 16 14 09 53 56 92\n",
    "\n",
    "16 39 05 42 96 35 31 47 55 58 88 24 00 17 54 24 36 29 85 57\n",
    "\n",
    "86 56 00 48 35 71 89 07 05 44 44 37 44 60 21 58 51 54 17 58\n",
    "\n",
    "19 80 81 68 05 94 47 69 28 73 92 13 86 52 17 77 04 89 55 40\n",
    "\n",
    "04 52 08 83 97 35 99 16 07 97 57 32 16 26 26 79 33 27 98 66\n",
    "\n",
    "88 36 68 87 57 62 20 72 03 46 33 67 46 55 12 32 63 93 53 69\n",
    "\n",
    "04 42 16 73 38 25 39 11 24 94 72 18 08 46 29 32 40 62 76 36\n",
    "\n",
    "20 69 36 41 72 30 23 88 34 62 99 69 82 67 59 85 74 04 36 16\n",
    "\n",
    "20 73 35 29 78 31 90 01 74 31 49 71 48 86 81 16 23 57 05 54\n",
    "\n",
    "01 70 54 71 83 51 54 69 16 92 33 48 61 43 52 01 89 19 67 48\n",
    "\n",
    "The product of these numbers is 26 × 63 × 78 × 14 = 1788696.\n",
    "\n",
    "What is the greatest product of four adjacent numbers in the same direction (up, down, left, right, or diagonally) in the 20×20 grid?"
   ]
  },
  {
   "cell_type": "code",
   "execution_count": 1,
   "metadata": {},
   "outputs": [],
   "source": [
    "import numpy as np\n",
    "from utils.iterate import window\n",
    "from operator import mul"
   ]
  },
  {
   "cell_type": "code",
   "execution_count": 2,
   "metadata": {},
   "outputs": [
    {
     "name": "stdout",
     "output_type": "stream",
     "text": [
      "(20, 20)\n"
     ]
    }
   ],
   "source": [
    "data = np.loadtxt('data/problem_010_grid.txt', dtype=np.int)\n",
    "print data.shape"
   ]
  },
  {
   "cell_type": "markdown",
   "metadata": {},
   "source": [
    "The following code takes a 2D matrix and computes the max of 4 consecutive horizontal numbers on all rows."
   ]
  },
  {
   "cell_type": "code",
   "execution_count": 3,
   "metadata": {},
   "outputs": [],
   "source": [
    "def max_product_on_rows(matrix):\n",
    "    return max([reduce(mul, horizontal_group_of_4, 1) for row in matrix for horizontal_group_of_4 in window(row, 4)])"
   ]
  },
  {
   "cell_type": "markdown",
   "metadata": {},
   "source": [
    "In order to compute the max product for horizontal and vertical group of numbers, we just have to feed the function with: 1. the whole matrix for the rows, 2. the transpose of the whole matrix for the columns"
   ]
  },
  {
   "cell_type": "code",
   "execution_count": 4,
   "metadata": {},
   "outputs": [
    {
     "name": "stdout",
     "output_type": "stream",
     "text": [
      "Max products of 4 consecutive horizontal numbers is 48477312\n",
      "Max products of 4 consecutive vertical numbers is 51267216\n"
     ]
    }
   ],
   "source": [
    "max_row_product = max_product_on_rows(data)\n",
    "max_col_product = max_product_on_rows(data.T)\n",
    "print 'Max products of 4 consecutive horizontal numbers is', max_row_product\n",
    "print 'Max products of 4 consecutive vertical numbers is', max_col_product"
   ]
  },
  {
   "cell_type": "markdown",
   "metadata": {},
   "source": [
    "Computing the products on the diagonals is a little bit tricker. I chose to iterate on all groups of 4 consecutive rows, slicing these rows in order to make the diagonal numbers being on the same column, and call the previous function with the transpose of the matrix."
   ]
  },
  {
   "cell_type": "code",
   "execution_count": 5,
   "metadata": {},
   "outputs": [
    {
     "name": "stdout",
     "output_type": "stream",
     "text": [
      "Max product of 4 consecutive diagonal numbers aligned to the primary diagonal 40304286\n",
      "Max product of 4 consecutive diagonal numbers aligned to the secondary diagonal 70600674\n"
     ]
    }
   ],
   "source": [
    "products_on_primary_diagonal = []\n",
    "products_on_secondary_diagonal = []\n",
    "\n",
    "for group_of_4_rows in window(data, 4):\n",
    "    \n",
    "    group_of_4_rows_primary = np.array(group_of_4_rows)\n",
    "    group_of_4_rows_secondary = np.copy(group_of_4_rows_primary)\n",
    "    \n",
    "    for row_idx in (0,1,2,3):     \n",
    "        group_of_4_rows_primary[row_idx, :20 - row_idx] = group_of_4_rows_primary[row_idx, row_idx:]\n",
    "        group_of_4_rows_secondary[row_idx, :17 + row_idx] = group_of_4_rows_secondary[row_idx, 3 - row_idx :]\n",
    "    \n",
    "    max_prod_on_primary_group = max_product_on_rows(group_of_4_rows_primary[:, :-4].T)\n",
    "    max_prod_on_secondary_group = max_product_on_rows(group_of_4_rows_secondary[:, :-4].T)\n",
    "    \n",
    "    products_on_primary_diagonal.append(max_prod_on_primary_group)\n",
    "    products_on_secondary_diagonal.append(max_prod_on_secondary_group)\n",
    "    \n",
    "max_primary_product = max(products_on_primary_diagonal)\n",
    "max_secondary_product = max(products_on_secondary_diagonal)\n",
    "\n",
    "print 'Max product of 4 consecutive diagonal numbers aligned to the primary diagonal', max_primary_product\n",
    "print 'Max product of 4 consecutive diagonal numbers aligned to the secondary diagonal', max_secondary_product"
   ]
  },
  {
   "cell_type": "code",
   "execution_count": 6,
   "metadata": {},
   "outputs": [
    {
     "name": "stdout",
     "output_type": "stream",
     "text": [
      "Max product overall: 70600674\n"
     ]
    }
   ],
   "source": [
    "print 'Max product overall:', max(max_row_product, max_col_product, max_primary_product, max_secondary_product)"
   ]
  }
 ],
 "metadata": {
  "kernelspec": {
   "display_name": "Python 2",
   "language": "python",
   "name": "python2"
  },
  "language_info": {
   "codemirror_mode": {
    "name": "ipython",
    "version": 2
   },
   "file_extension": ".py",
   "mimetype": "text/x-python",
   "name": "python",
   "nbconvert_exporter": "python",
   "pygments_lexer": "ipython2",
   "version": "2.7.12"
  }
 },
 "nbformat": 4,
 "nbformat_minor": 2
}
