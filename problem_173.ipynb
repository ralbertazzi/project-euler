{
 "cells": [
  {
   "cell_type": "markdown",
   "metadata": {},
   "source": [
    "# Problem 173\n",
    "\n",
    "### Using up to one million tiles how many different \"hollow\" square laminae can be formed?\n",
    "\n",
    "We shall define a square lamina to be a square outline with a square \"hole\" so that the shape possesses vertical and horizontal symmetry. For example, using exactly thirty-two square tiles we can form two different square laminae.\n",
    "\n",
    "With one-hundred tiles, and not necessarily using all of the tiles at one time, it is possible to form forty-one different square laminae.\n",
    "\n",
    "Using up to one million tiles how many different square laminae can be formed?"
   ]
  },
  {
   "cell_type": "markdown",
   "metadata": {},
   "source": [
    "### Solution\n",
    "\n",
    "Given a square of size $x$, the number of different \"hollow\" square laminae that we can form is:\n",
    "\n",
    "$$ d(x) = \\begin{cases} \\frac{x - 1}{2} & & \\textrm{if x is odd} \\\\ \\frac{x - 2}{2} & & \\textrm{if x is even} \\end{cases} $$\n",
    "\n",
    "Let's call $k$ the size of the lamina, $1 \\leq k \\leq x - 1$. Let's call our upper limit of tiles $L$. With increasing values of $x$ we have to limit $k$ to a smaller number. This is achieved by the inequality:\n",
    "\n",
    "$$ x^2 - (x - 2k)^2 \\leq L$$\n",
    "\n",
    "That becomes (including integer requirement):\n",
    "\n",
    "$$ x \\leq \\lfloor \\frac{L}{4k} + k \\rfloor$$\n",
    "\n",
    "But we also need to check that the choice of $k$ is feasible:\n",
    "\n",
    "$$ d(x) \\geq k $$\n",
    "\n",
    "By exploring different values of $k$ we can therefore find intervals of $x$ in which the number of possible values is always the same, $d(x)$. We can then check for each number the interval."
   ]
  },
  {
   "cell_type": "code",
   "execution_count": 1,
   "metadata": {},
   "outputs": [],
   "source": [
    "from math import floor\n",
    "import numpy as np"
   ]
  },
  {
   "cell_type": "code",
   "execution_count": 2,
   "metadata": {},
   "outputs": [],
   "source": [
    "L = 1000000\n",
    "intervals = []\n",
    "\n",
    "for k in xrange(1, L):\n",
    "    \n",
    "    x_upper_limit = int(floor(L / (4. * k) + k))\n",
    "    x_lower_limit = 2*k + 1\n",
    "    \n",
    "    if x_lower_limit > x_upper_limit:\n",
    "        break\n",
    "        \n",
    "    intervals.append((k, x_lower_limit, x_upper_limit))"
   ]
  },
  {
   "cell_type": "markdown",
   "metadata": {},
   "source": [
    "Given the found intervals, we can now set, for each value between the global minimum and maximum values found, the corrisponding number of possible laminae. Finally we just need to compute the sum of the whole array."
   ]
  },
  {
   "cell_type": "code",
   "execution_count": 3,
   "metadata": {},
   "outputs": [
    {
     "data": {
      "text/plain": [
       "1572729"
      ]
     },
     "execution_count": 3,
     "metadata": {},
     "output_type": "execute_result"
    }
   ],
   "source": [
    "min_v, max_v = intervals[0][1], intervals[0][2]\n",
    "acc = np.zeros(max_v - min_v + 1, dtype=np.int)\n",
    "\n",
    "for k, x_lower, x_upper in intervals:\n",
    "    acc[x_lower - min_v : x_upper - min_v + 1] = k\n",
    "    \n",
    "    \n",
    "np.sum(acc)"
   ]
  }
 ],
 "metadata": {
  "kernelspec": {
   "display_name": "Python 2",
   "language": "python",
   "name": "python2"
  },
  "language_info": {
   "codemirror_mode": {
    "name": "ipython",
    "version": 2
   },
   "file_extension": ".py",
   "mimetype": "text/x-python",
   "name": "python",
   "nbconvert_exporter": "python",
   "pygments_lexer": "ipython2",
   "version": "2.7.12"
  }
 },
 "nbformat": 4,
 "nbformat_minor": 2
}
