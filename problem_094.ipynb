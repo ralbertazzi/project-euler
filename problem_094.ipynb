{
 "cells": [
  {
   "cell_type": "markdown",
   "metadata": {},
   "source": [
    "# Problem 94\n",
    "\n",
    "### Almost equilateral triangles\n",
    "\n",
    "It is easily proved that no equilateral triangle exists with integral length sides and integral area. However, the almost equilateral triangle 5-5-6 has an area of 12 square units.\n",
    "\n",
    "We shall define an almost equilateral triangle to be a triangle for which two sides are equal and the third differs by no more than one unit.\n",
    "\n",
    "Find the sum of the perimeters of all almost equilateral triangles with integral side lengths and area and whose perimeters do not exceed one billion (1,000,000,000)."
   ]
  },
  {
   "cell_type": "markdown",
   "metadata": {},
   "source": [
    "### Solution\n",
    "\n",
    "We are going to consider isosceles triangles with base $l$ and equal sides $l \\pm 1$. We can compute the height of the triangle:\n",
    "\n",
    "$$ h = \\sqrt{(l \\pm 1)^2 - (\\frac{l}{2})^2} \n",
    "     = \\sqrt{\\frac{3}{4}l^2 \\pm 2l + 1} $$\n",
    "     \n",
    "And then the area:\n",
    "\n",
    "$$ A = \\frac{1}{2}lh $$\n",
    "     \n",
    "* The first easy requirement is for $ \\frac{3}{4}l^2 $ to be integer, which means that $l$ must be even.\n",
    "* The second requirement is $h$ integer.\n",
    "* The third requirement is $A$ integer ($l$ or $h$ has to be even). Since $l$ is always even, we don't need to worry about that.\n",
    "\n",
    "When computing the square, if we find that to be an integer we are going to check if the squares are equals. This is because we have some false positives due to float64 approximation errors."
   ]
  },
  {
   "cell_type": "code",
   "execution_count": 1,
   "metadata": {},
   "outputs": [],
   "source": [
    "from tqdm import tqdm, trange\n",
    "import numpy as np\n",
    "import math\n",
    "\n",
    "LIMIT = 1000000000"
   ]
  },
  {
   "cell_type": "code",
   "execution_count": 2,
   "metadata": {},
   "outputs": [
    {
     "name": "stderr",
     "output_type": "stream",
     "text": [
      "  0%|          | 54284/166666665 [00:00<05:06, 542742.17it/s]"
     ]
    },
    {
     "name": "stdout",
     "output_type": "stream",
     "text": [
      "6 5 5\n",
      "Sum of perimeters: 16\n",
      "\n",
      "16 17 17\n",
      "Sum of perimeters: 66\n",
      "\n",
      "66 65 65\n",
      "Sum of perimeters: 262\n",
      "\n",
      "240 241 241\n",
      "Sum of perimeters: 984\n",
      "\n",
      "902 901 901\n",
      "Sum of perimeters: 3688\n",
      "\n",
      "3360 3361 3361\n",
      "Sum of perimeters: 13770\n",
      "\n",
      "12546 12545 12545\n",
      "Sum of perimeters: 51406\n",
      "\n",
      "46816 46817 46817\n",
      "Sum of perimeters: 191856\n",
      "\n",
      "174726 174725 174725\n",
      "Sum of perimeters: 716032\n",
      "\n"
     ]
    },
    {
     "name": "stderr",
     "output_type": "stream",
     "text": [
      "  0%|          | 460422/166666665 [00:00<03:36, 767318.90it/s]"
     ]
    },
    {
     "name": "stdout",
     "output_type": "stream",
     "text": [
      "652080 652081 652081\n",
      "Sum of perimeters: 2672274\n",
      "\n"
     ]
    },
    {
     "name": "stderr",
     "output_type": "stream",
     "text": [
      "  1%|          | 1353225/166666665 [00:01<03:15, 843653.80it/s]"
     ]
    },
    {
     "name": "stdout",
     "output_type": "stream",
     "text": [
      "2433602 2433601 2433601\n",
      "Sum of perimeters: 9973078\n",
      "\n"
     ]
    },
    {
     "name": "stderr",
     "output_type": "stream",
     "text": [
      "  3%|▎         | 4722940/166666665 [00:05<02:52, 937974.53it/s]"
     ]
    },
    {
     "name": "stdout",
     "output_type": "stream",
     "text": [
      "9082320 9082321 9082321\n",
      "Sum of perimeters: 37220040\n",
      "\n"
     ]
    },
    {
     "name": "stderr",
     "output_type": "stream",
     "text": [
      " 10%|█         | 17128201/166666665 [00:17<02:33, 975642.32it/s]"
     ]
    },
    {
     "name": "stdout",
     "output_type": "stream",
     "text": [
      "33895686 33895685 33895685\n",
      "Sum of perimeters: 138907096\n",
      "\n"
     ]
    },
    {
     "name": "stderr",
     "output_type": "stream",
     "text": [
      " 28%|██▊       | 46459149/166666665 [00:47<02:01, 988482.56it/s]"
     ]
    },
    {
     "name": "stdout",
     "output_type": "stream",
     "text": [
      "92604734 92604733 92604733\n",
      "False positive\n",
      "\n"
     ]
    },
    {
     "name": "stderr",
     "output_type": "stream",
     "text": [
      " 38%|███▊      | 63377451/166666665 [01:04<01:45, 979416.16it/s]"
     ]
    },
    {
     "name": "stdout",
     "output_type": "stream",
     "text": [
      "126500416 126500417 126500417\n",
      "Sum of perimeters: 518408346\n",
      "\n"
     ]
    },
    {
     "name": "stderr",
     "output_type": "stream",
     "text": [
      " 56%|█████▌    | 92798210/166666665 [01:34<01:14, 987097.95it/s]"
     ]
    },
    {
     "name": "stdout",
     "output_type": "stream",
     "text": [
      "185209464 185209465 185209465\n",
      "False positive\n",
      "\n"
     ]
    },
    {
     "name": "stderr",
     "output_type": "stream",
     "text": [
      " 58%|█████▊    | 97301990/166666665 [01:38<01:10, 988464.58it/s]"
     ]
    },
    {
     "name": "stdout",
     "output_type": "stream",
     "text": [
      "194291788 194291787 194291787\n",
      "False positive\n",
      "\n"
     ]
    },
    {
     "name": "stderr",
     "output_type": "stream",
     "text": [
      " 76%|███████▌  | 126702163/166666665 [02:07<00:40, 994746.07it/s]"
     ]
    },
    {
     "name": "stdout",
     "output_type": "stream",
     "text": [
      "253000836 253000835 253000835\n",
      "False positive\n",
      "\n"
     ]
    },
    {
     "name": "stderr",
     "output_type": "stream",
     "text": [
      " 86%|████████▌ | 143615345/166666665 [02:24<00:23, 992910.88it/s]"
     ]
    },
    {
     "name": "stdout",
     "output_type": "stream",
     "text": [
      "286896518 286896519 286896519\n",
      "False positive\n",
      "\n"
     ]
    },
    {
     "name": "stderr",
     "output_type": "stream",
     "text": [
      " 94%|█████████▎| 156034909/166666665 [02:37<00:10, 993367.20it/s]"
     ]
    },
    {
     "name": "stdout",
     "output_type": "stream",
     "text": [
      "311709884 311709883 311709883\n",
      "False positive\n",
      "\n"
     ]
    },
    {
     "name": "stderr",
     "output_type": "stream",
     "text": [
      " 99%|█████████▉| 165089339/166666665 [02:46<00:01, 991038.24it/s]"
     ]
    },
    {
     "name": "stdout",
     "output_type": "stream",
     "text": [
      "329874524 329874525 329874525\n",
      "False positive\n",
      "\n"
     ]
    },
    {
     "name": "stderr",
     "output_type": "stream",
     "text": [
      "100%|██████████| 166666665/166666665 [02:48<00:00, 990572.88it/s]\n"
     ]
    }
   ],
   "source": [
    "sum_perimeters = 0\n",
    "\n",
    "for l in trange(4, LIMIT // 3, 2):\n",
    "    \n",
    "    sq = ((l / 2) ** 2) * 3 + 1\n",
    "    l2 = 2 * l\n",
    "    \n",
    "    h_squared_plus_1 = sq + l2\n",
    "    h_squared_minus_1 = sq - l2\n",
    "    \n",
    "    sqrt1, sqrt2 = math.sqrt(h_squared_plus_1), math.sqrt(h_squared_minus_1)\n",
    "    \n",
    "    if sqrt1.is_integer():\n",
    "        print l, l+1, l+1\n",
    "        sqrt1 = int(sqrt1)\n",
    "        if sqrt1 ** 2 == h_squared_plus_1:\n",
    "            sum_perimeters += l + 2 * (l + 1)\n",
    "            print 'Sum of perimeters:', sum_perimeters\n",
    "            print\n",
    "        else:\n",
    "            print 'False positive'\n",
    "            print\n",
    "        \n",
    "    if sqrt2.is_integer():\n",
    "        print l, l-1, l-1\n",
    "        sqrt2 = int(sqrt2)\n",
    "        if sqrt2 ** 2 == h_squared_minus_1:\n",
    "            sum_perimeters += l + 2 * (l - 1)\n",
    "            print 'Sum of perimeters:', sum_perimeters\n",
    "            print\n",
    "        else:\n",
    "            print 'False positive'\n",
    "            print"
   ]
  },
  {
   "cell_type": "code",
   "execution_count": 3,
   "metadata": {},
   "outputs": [
    {
     "name": "stdout",
     "output_type": "stream",
     "text": [
      "518408346\n"
     ]
    }
   ],
   "source": [
    "print sum_perimeters"
   ]
  }
 ],
 "metadata": {
  "kernelspec": {
   "display_name": "Python 2",
   "language": "python",
   "name": "python2"
  },
  "language_info": {
   "codemirror_mode": {
    "name": "ipython",
    "version": 2
   },
   "file_extension": ".py",
   "mimetype": "text/x-python",
   "name": "python",
   "nbconvert_exporter": "python",
   "pygments_lexer": "ipython2",
   "version": "2.7.12"
  }
 },
 "nbformat": 4,
 "nbformat_minor": 2
}
