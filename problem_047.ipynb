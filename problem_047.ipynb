{
 "cells": [
  {
   "cell_type": "markdown",
   "metadata": {},
   "source": [
    "# Problem 47\n",
    "\n",
    "### Distinct primes factors\n",
    "\n",
    "The first two consecutive numbers to have two distinct prime factors are:\n",
    "\n",
    "        14 = 2 × 7\n",
    "        15 = 3 × 5\n",
    "\n",
    "The first three consecutive numbers to have three distinct prime factors are:\n",
    "\n",
    "        644 = 2² × 7 × 23\n",
    "        645 = 3 × 5 × 43\n",
    "        646 = 2 × 17 × 19.\n",
    "\n",
    "Find the first four consecutive integers to have four distinct prime factors each. What is the first of these numbers?"
   ]
  },
  {
   "cell_type": "markdown",
   "metadata": {},
   "source": [
    "### Solution\n",
    "\n",
    "Generate primes under a testing limit, and iteratively compute the distinc prime factors for each number.\n",
    "Stop when 4 consecutive numbers with exactl 4 distinct prime factors are found."
   ]
  },
  {
   "cell_type": "code",
   "execution_count": 1,
   "metadata": {},
   "outputs": [],
   "source": [
    "from utils.primes import primes_sieve\n",
    "import numpy as np\n",
    "from math import sqrt\n",
    "from tqdm import trange\n",
    "\n",
    "TEST_MAX = 1000000\n",
    "CONSECUTIVES = 4\n",
    "DISTINCT_PRIMES_FACTORS = 4"
   ]
  },
  {
   "cell_type": "code",
   "execution_count": 2,
   "metadata": {},
   "outputs": [],
   "source": [
    "primes = primes_sieve(TEST_MAX)"
   ]
  },
  {
   "cell_type": "code",
   "execution_count": 3,
   "metadata": {},
   "outputs": [],
   "source": [
    "def distinct_prime_factors(n):\n",
    "    \n",
    "    if n in primes:\n",
    "        return 1\n",
    "    \n",
    "    dpf = set()\n",
    "    \n",
    "    for prime in primes:\n",
    "        if prime > n:\n",
    "            return len(dpf)\n",
    "        else:\n",
    "            while n % prime == 0:\n",
    "                n /= prime\n",
    "                dpf.add(prime)"
   ]
  },
  {
   "cell_type": "code",
   "execution_count": 4,
   "metadata": {},
   "outputs": [
    {
     "name": "stderr",
     "output_type": "stream",
     "text": [
      " 13%|█▎        | 134010/999994 [00:54<05:51, 2465.70it/s]"
     ]
    },
    {
     "name": "stdout",
     "output_type": "stream",
     "text": [
      "134043\n"
     ]
    },
    {
     "name": "stderr",
     "output_type": "stream",
     "text": [
      "\r",
      " 13%|█▎        | 134010/999994 [01:10<07:32, 1914.39it/s]"
     ]
    }
   ],
   "source": [
    "consec = 0\n",
    "\n",
    "for n in trange(6, TEST_MAX):\n",
    "    \n",
    "    dpf = distinct_prime_factors(n)\n",
    "    if dpf == DISTINCT_PRIMES_FACTORS:\n",
    "        consec += 1\n",
    "        if consec == CONSECUTIVES:\n",
    "            print n - CONSECUTIVES + 1\n",
    "            break\n",
    "    else:\n",
    "        consec = 0"
   ]
  }
 ],
 "metadata": {
  "kernelspec": {
   "display_name": "Python 2",
   "language": "python",
   "name": "python2"
  },
  "language_info": {
   "codemirror_mode": {
    "name": "ipython",
    "version": 2
   },
   "file_extension": ".py",
   "mimetype": "text/x-python",
   "name": "python",
   "nbconvert_exporter": "python",
   "pygments_lexer": "ipython2",
   "version": "2.7.12"
  }
 },
 "nbformat": 4,
 "nbformat_minor": 2
}
