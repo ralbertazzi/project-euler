{
 "cells": [
  {
   "cell_type": "markdown",
   "metadata": {},
   "source": [
    "# Problem 138\n",
    "\n",
    "### Special isosceles triangles\n",
    "\n",
    "Consider the isosceles triangle with base length, b = 16, and legs, L = 17. By using the Pythagorean theorem it can be seen that the height of the triangle, h = √(172 − 82) = 15, which is one less than the base length.\n",
    "\n",
    "With b = 272 and L = 305, we get h = 273, which is one more than the base length, and this is the second smallest isosceles triangle with the property that h = b ± 1.\n",
    "\n",
    "Find ∑ L for the twelve smallest isosceles triangles for which h = b ± 1 and b, L are positive integers."
   ]
  },
  {
   "cell_type": "markdown",
   "metadata": {},
   "source": [
    "### Solution\n",
    "\n",
    "Given $B = b / 2$, we are basically looking for integer solutions to the following equation:\n",
    "\n",
    "$$B^2 + (2B \\pm 1) ^ 2 = L^2$$\n",
    "\n",
    "$$ 5B^2 \\pm 4B + 1 = L^2$$\n",
    "\n",
    "This is a diophantine equation; its solution parameters can be computed [here](https://www.alpertron.com.ar/QUAD.HTM)"
   ]
  },
  {
   "cell_type": "code",
   "execution_count": 1,
   "metadata": {},
   "outputs": [
    {
     "data": {
      "text/plain": [
       "1118049290473932"
      ]
     },
     "execution_count": 1,
     "metadata": {},
     "output_type": "execute_result"
    }
   ],
   "source": [
    "def diophantine_sol():\n",
    "    b, l = 0, 1\n",
    "    \n",
    "    while True:\n",
    "        b, l = -9*b - 4*l - 4, -20*b - 9*l - 8\n",
    "        yield b, l\n",
    "        \n",
    "sum(abs(l) for (b, l), _ in zip(diophantine_sol(), range(12)))"
   ]
  }
 ],
 "metadata": {
  "kernelspec": {
   "display_name": "Python 2",
   "language": "python",
   "name": "python2"
  },
  "language_info": {
   "codemirror_mode": {
    "name": "ipython",
    "version": 2
   },
   "file_extension": ".py",
   "mimetype": "text/x-python",
   "name": "python",
   "nbconvert_exporter": "python",
   "pygments_lexer": "ipython2",
   "version": "2.7.12"
  }
 },
 "nbformat": 4,
 "nbformat_minor": 2
}
