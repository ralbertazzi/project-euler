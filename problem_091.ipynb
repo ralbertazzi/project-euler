{
 "cells": [
  {
   "cell_type": "markdown",
   "metadata": {},
   "source": [
    "# Problem 91\n",
    "\n",
    "### Right triangles with integer coordinates\n",
    "\n",
    "The points P (x1, y1) and Q (x2, y2) are plotted at integer co-ordinates and are joined to the origin, O(0,0), to form ΔOPQ.\n",
    "\n",
    "There are exactly fourteen triangles containing a right angle that can be formed when each co-ordinate lies between 0 and 2 inclusive; that is,\n",
    "0 ≤ x1, y1, x2, y2 ≤ 2. Given that 0 ≤ x1, y1, x2, y2 ≤ 50, how many right triangles can be formed?"
   ]
  },
  {
   "cell_type": "markdown",
   "metadata": {},
   "source": [
    "### Solution"
   ]
  },
  {
   "cell_type": "code",
   "execution_count": 1,
   "metadata": {},
   "outputs": [],
   "source": [
    "max_coord = 50"
   ]
  },
  {
   "cell_type": "code",
   "execution_count": 2,
   "metadata": {},
   "outputs": [],
   "source": [
    "def coords_generator():\n",
    "    for x1 in xrange(1, max_coord + 1):\n",
    "        for y1 in xrange(1, max_coord + 1):                    \n",
    "            yield x1, y1"
   ]
  },
  {
   "cell_type": "code",
   "execution_count": 3,
   "metadata": {},
   "outputs": [],
   "source": [
    "def is_perpendicular_line_y2_integer(x1, y1, x2):\n",
    "    \n",
    "    s = -x1 * x2 + x1 ** 2 + y1 ** 2\n",
    "    if s >= 0 and s % y1 == 0 and s / y1 <= max_coord:\n",
    "        return True\n",
    "    else:\n",
    "        return False"
   ]
  },
  {
   "cell_type": "markdown",
   "metadata": {},
   "source": [
    "First we initialize the number of right triangles to max_coord ^ 2, which is the number of triangles that have one point on the y axis and one point on the x axis.\n",
    "\n",
    "For every other point A = (x1, y1) we add two traingles, that are the ones obtained by projecting the point on the x and y axis.\n",
    "\n",
    "We then check if there are any integer points on the line perpendicular to the vector (x1, y1) that contains A. For each one of these points we have by definition a right triangle, since we are dealing with two perpendicular lines."
   ]
  },
  {
   "cell_type": "code",
   "execution_count": 4,
   "metadata": {},
   "outputs": [],
   "source": [
    "num_right_triangles = max_coord ** 2\n",
    "\n",
    "for x1, y1 in coords_generator():\n",
    "    \n",
    "    num_right_triangles += 2 + sum(1 for x2 in xrange(max_coord + 1) if x2 != x1 and \n",
    "                                  is_perpendicular_line_y2_integer(x1, y1, x2))"
   ]
  },
  {
   "cell_type": "code",
   "execution_count": 5,
   "metadata": {},
   "outputs": [
    {
     "data": {
      "text/plain": [
       "14234"
      ]
     },
     "execution_count": 5,
     "metadata": {},
     "output_type": "execute_result"
    }
   ],
   "source": [
    "num_right_triangles"
   ]
  }
 ],
 "metadata": {
  "kernelspec": {
   "display_name": "Python 2",
   "language": "python",
   "name": "python2"
  },
  "language_info": {
   "codemirror_mode": {
    "name": "ipython",
    "version": 2
   },
   "file_extension": ".py",
   "mimetype": "text/x-python",
   "name": "python",
   "nbconvert_exporter": "python",
   "pygments_lexer": "ipython2",
   "version": "2.7.12"
  }
 },
 "nbformat": 4,
 "nbformat_minor": 2
}
