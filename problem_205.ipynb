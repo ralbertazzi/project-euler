{
 "cells": [
  {
   "cell_type": "markdown",
   "metadata": {},
   "source": [
    "# Problem 205\n",
    "\n",
    "### Dice Game\n",
    "\n",
    "Peter has nine four-sided (pyramidal) dice, each with faces numbered 1, 2, 3, 4.\n",
    "Colin has six six-sided (cubic) dice, each with faces numbered 1, 2, 3, 4, 5, 6.\n",
    "\n",
    "Peter and Colin roll their dice and compare totals: the highest total wins. The result is a draw if the totals are equal.\n",
    "\n",
    "What is the probability that Pyramidal Pete beats Cubic Colin? Give your answer rounded to seven decimal places in the form 0.abcdefg\n",
    "\n",
    "### Solution\n",
    "\n",
    "The number of possible conigurations is $4^9 \\times 6^6$, which is incredibly high. However, it is possible to consider them separately and compute all the possible sums that the two players can obtain. After doing that, the total number of victories for player A are obtained by multiplying the number of sums of a certain value for the number of sums of player B that have a total less than the considered value:\n",
    "\n",
    "$$ \\sum_{i=minv}^{maxv} count(A == i) \\times count(B < i) $$"
   ]
  },
  {
   "cell_type": "code",
   "execution_count": 1,
   "metadata": {},
   "outputs": [],
   "source": [
    "import numpy as np\n",
    "\n",
    "points_a = []\n",
    "points_b = []\n",
    "\n",
    "def rec_fill(dice_num, dice_val, l, partial_list=[]):\n",
    "    \n",
    "    for i in xrange(1, dice_val + 1):\n",
    "        new_list = partial_list[::]\n",
    "        new_list.append(i)\n",
    "        if len(new_list) == dice_num:\n",
    "            l.append(sum(new_list))\n",
    "        else:\n",
    "            rec_fill(dice_num, dice_val, l, new_list)\n",
    " \n",
    "rec_fill(9, 4, points_a)\n",
    "rec_fill(6, 6, points_b)\n",
    "\n",
    "assert len(points_a) == 4**9\n",
    "assert len(points_b) == 6**6\n",
    "\n",
    "points_a = np.array(points_a)\n",
    "points_b = np.array(points_b)"
   ]
  },
  {
   "cell_type": "code",
   "execution_count": 2,
   "metadata": {},
   "outputs": [
    {
     "data": {
      "text/plain": [
       "0.5731441"
      ]
     },
     "execution_count": 2,
     "metadata": {},
     "output_type": "execute_result"
    }
   ],
   "source": [
    "total_count = 0\n",
    "\n",
    "for v in xrange(points_a[0], points_a[-1] + 1):\n",
    "    count_a = np.count_nonzero(points_a == v)\n",
    "    count_b = np.count_nonzero(points_b < v)\n",
    "    total_count += count_a * count_b\n",
    "    \n",
    "prob = total_count / float(len(points_a) * len(points_b))\n",
    "round(prob, 7)"
   ]
  }
 ],
 "metadata": {
  "kernelspec": {
   "display_name": "Python 2",
   "language": "python",
   "name": "python2"
  },
  "language_info": {
   "codemirror_mode": {
    "name": "ipython",
    "version": 2
   },
   "file_extension": ".py",
   "mimetype": "text/x-python",
   "name": "python",
   "nbconvert_exporter": "python",
   "pygments_lexer": "ipython2",
   "version": "2.7.12"
  }
 },
 "nbformat": 4,
 "nbformat_minor": 2
}
