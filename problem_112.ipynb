{
 "cells": [
  {
   "cell_type": "markdown",
   "metadata": {},
   "source": [
    "# Problem 112\n",
    "\n",
    "### Bouncy Numbers\n",
    "\n",
    "Working from left-to-right if no digit is exceeded by the digit to its left it is called an increasing number; for example, 134468.\n",
    "\n",
    "Similarly if no digit is exceeded by the digit to its right it is called a decreasing number; for example, 66420.\n",
    "\n",
    "We shall call a positive integer that is neither increasing nor decreasing a \"bouncy\" number; for example, 155349.\n",
    "\n",
    "Clearly there cannot be any bouncy numbers below one-hundred, but just over half of the numbers below one-thousand (525) are bouncy. In fact, the least number for which the proportion of bouncy numbers first reaches 50% is 538.\n",
    "\n",
    "Surprisingly, bouncy numbers become more and more common and by the time we reach 21780 the proportion of bouncy numbers is equal to 90%.\n",
    "\n",
    "Find the least number for which the proportion of bouncy numbers is exactly 99%."
   ]
  },
  {
   "cell_type": "markdown",
   "metadata": {},
   "source": [
    "### Solution\n",
    "\n",
    "Instead of checking if every number is or is not a bouncy number, we can find all non-bouncy number in a recursive way. In fact, if a number is non-bouncy increasing, we can add another digit that is greater or equals to the last added digit while still having a non-bouncy increasing number (e.g. 73 -> 773, 873, 973). Same thing applies to decreasing numbers.\n",
    "\n",
    "Once we set all non-bouncy number in a cache, we can compute the cumsum and find the first index for which the ratio of bouncy number is higher than 0.99"
   ]
  },
  {
   "cell_type": "code",
   "execution_count": 1,
   "metadata": {},
   "outputs": [
    {
     "data": {
      "text/plain": [
       "1587000"
      ]
     },
     "execution_count": 1,
     "metadata": {},
     "output_type": "execute_result"
    }
   ],
   "source": [
    "import numpy as np\n",
    "\n",
    "MAX_DIGITS = 7\n",
    "bouncy = np.ones(10**MAX_DIGITS + 1)\n",
    "\n",
    "def rec_bouncy_incr(depth=1, last_number=-1, last_digit=-1):\n",
    "    \n",
    "    if depth == 1:\n",
    "        for n in xrange(0, 10):\n",
    "            bouncy[n] = 0\n",
    "            rec_bouncy_incr(2, n, n)\n",
    "    else:\n",
    "        for n in xrange(last_digit, 10):\n",
    "            last_n = last_number + n * 10**(depth - 1)\n",
    "            bouncy[last_n] = 0\n",
    "            \n",
    "            if depth < MAX_DIGITS:\n",
    "                rec_bouncy_incr(depth + 1, last_n, n)\n",
    "                \n",
    "                \n",
    "def rec_bouncy_decr(depth=1, last_number=-1, last_digit=-1):\n",
    "    \n",
    "    if depth == 1:\n",
    "        for n in xrange(0, 10):\n",
    "            bouncy[n] = 0\n",
    "            rec_bouncy_decr(2, n, n)\n",
    "    else:\n",
    "        for n in xrange(1, last_digit + 1):\n",
    "            last_n = last_number + n * 10**(depth - 1)\n",
    "            bouncy[last_n] = 0\n",
    "            \n",
    "            if depth < MAX_DIGITS:\n",
    "                rec_bouncy_decr(depth + 1, last_n, n)\n",
    "                \n",
    "                \n",
    "rec_bouncy_incr()\n",
    "rec_bouncy_decr()\n",
    "\n",
    "cs = np.cumsum(bouncy[1:]) / np.arange(1, 10**MAX_DIGITS + 1)\n",
    "np.argmax(cs >= 0.99) + 1"
   ]
  }
 ],
 "metadata": {
  "kernelspec": {
   "display_name": "Python 2",
   "language": "python",
   "name": "python2"
  },
  "language_info": {
   "codemirror_mode": {
    "name": "ipython",
    "version": 2
   },
   "file_extension": ".py",
   "mimetype": "text/x-python",
   "name": "python",
   "nbconvert_exporter": "python",
   "pygments_lexer": "ipython2",
   "version": "2.7.12"
  }
 },
 "nbformat": 4,
 "nbformat_minor": 2
}
