{
 "cells": [
  {
   "cell_type": "markdown",
   "metadata": {},
   "source": [
    "# Problem 116\n",
    "\n",
    "A row of five black square tiles is to have a number of its tiles replaced with coloured oblong tiles chosen from red (length two), green (length three), or blue (length four).\n",
    "\n",
    "If red tiles are chosen there are exactly seven ways this can be done. If green tiles are chosen there are three ways. And if blue tiles are chosen there are two ways.\n",
    "\n",
    "Assuming that colours cannot be mixed there are 7 + 3 + 2 = 12 ways of replacing the black tiles in a row measuring five units in length.\n",
    "\n",
    "How many different ways can the black tiles in a row measuring fifty units in length be replaced if colours cannot be mixed and at least one coloured tile must be used?"
   ]
  },
  {
   "cell_type": "code",
   "execution_count": 1,
   "metadata": {},
   "outputs": [
    {
     "data": {
      "text/plain": [
       "20492570929"
      ]
     },
     "execution_count": 1,
     "metadata": {},
     "output_type": "execute_result"
    }
   ],
   "source": [
    "import numpy as np\n",
    "\n",
    "L = 50\n",
    "\n",
    "F = np.zeros((3, L + 1), dtype=np.int)\n",
    "for m in (2, 3, 4):\n",
    "    F[m-2, :m], F[m-2, m] = 1, 2\n",
    "\n",
    "for i in xrange(L + 1):\n",
    "    for M in (2, 3, 4):\n",
    "        m = M - 2\n",
    "        if F[m, i] == 0:\n",
    "            F[m, i] = F[m, i-M] + F[m, i-1]\n",
    "    \n",
    "F[:, -1].sum() - 3"
   ]
  }
 ],
 "metadata": {
  "kernelspec": {
   "display_name": "Python 2",
   "language": "python",
   "name": "python2"
  },
  "language_info": {
   "codemirror_mode": {
    "name": "ipython",
    "version": 2
   },
   "file_extension": ".py",
   "mimetype": "text/x-python",
   "name": "python",
   "nbconvert_exporter": "python",
   "pygments_lexer": "ipython2",
   "version": "2.7.12"
  }
 },
 "nbformat": 4,
 "nbformat_minor": 2
}
