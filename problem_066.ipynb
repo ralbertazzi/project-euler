{
 "cells": [
  {
   "cell_type": "markdown",
   "metadata": {},
   "source": [
    "# Problem 66\n",
    "\n",
    "### Diophantine Equation\n",
    "\n",
    "Consider quadratic Diophantine equations of the form:\n",
    "\n",
    "    x^2 – Dy^2 = 1\n",
    "\n",
    "For example, when D=13, the minimal solution in x is 649^2 – 13×180^2 = 1.\n",
    "\n",
    "It can be assumed that there are no solutions in positive integers when D is square.\n",
    "\n",
    "By finding minimal solutions in x for D = {2, 3, 5, 6, 7}, we obtain the following:\n",
    "\n",
    "    3^2 – 2×2^2 = 1\n",
    "    2^2 – 3×1^2 = 1\n",
    "    9^2 – 5×4^2 = 1\n",
    "    5^2 – 6×2^2 = 1\n",
    "    8^2 – 7×3^2 = 1\n",
    "\n",
    "Hence, by considering minimal solutions in x for D ≤ 7, the largest x is obtained when D=5.\n",
    "\n",
    "Find the value of D ≤ 1000 in minimal solutions of x for which the largest value of x is obtained."
   ]
  },
  {
   "cell_type": "markdown",
   "metadata": {},
   "source": [
    "### Solution\n",
    "\n",
    "We need to compute the minimal solution for [Pell's equation](https://en.wikipedia.org/wiki/Pell%27s_equation).\n",
    "\n",
    "[In these slides](https://kurser.math.su.se/pluginfile.php/22602/mod_resource/content/1/Linne_140312.pdf) there's an example on how to do that:\n",
    "1. Compute the continued fraction of the square root of D\n",
    "2. If the length of the list of terms is even, then the minimal solution (x,y) is given by the numerator $p$ and the denominator $q$ of the continued fraction (without considering the last term). If the length is odd, the minimal solution is given by $(p+q\\sqrt{d})^2$"
   ]
  },
  {
   "cell_type": "code",
   "execution_count": 1,
   "metadata": {},
   "outputs": [],
   "source": [
    "from math import sqrt, floor\n",
    "from fractions import Fraction\n",
    "\n",
    "def sqrtCF(D):\n",
    "    R = int(floor(sqrt(D)))\n",
    "    f = [R]\n",
    "    \n",
    "    a, P, Q = R, 0, 1\n",
    "    \n",
    "    P = a*Q - P;\n",
    "    Q = (D - P*P)/Q;\n",
    "    a = (R + P)/Q;\n",
    "    f.append(a)\n",
    "    \n",
    "    while Q != 1:\n",
    "        \n",
    "        P = a*Q - P;\n",
    "        Q = (D - P*P)/Q;\n",
    "        a = (R + P)/Q;\n",
    "        f.append(a)\n",
    "        \n",
    "    return f\n",
    "\n",
    "def to_fraction(l):\n",
    "    l = l[::-1]\n",
    "    f = Fraction(l[0])\n",
    "    for v in l[1:]:\n",
    "        f = v + 1 / f\n",
    "    return f"
   ]
  },
  {
   "cell_type": "code",
   "execution_count": 2,
   "metadata": {},
   "outputs": [
    {
     "data": {
      "text/plain": [
       "661"
      ]
     },
     "execution_count": 2,
     "metadata": {},
     "output_type": "execute_result"
    }
   ],
   "source": [
    "max_d = -1\n",
    "max_x = -1\n",
    "\n",
    "for d in xrange(2, 1000):\n",
    "    \n",
    "    try:\n",
    "        sq = sqrtCF(d)\n",
    "    except:\n",
    "        pass # square number\n",
    "    \n",
    "    f = to_fraction(sq[:-1])\n",
    "    \n",
    "    if len(sq) % 2 == 0:\n",
    "        x = f.numerator**2 + d*f.denominator**2\n",
    "    else:\n",
    "        x = f.numerator\n",
    "        \n",
    "    if x > max_x:\n",
    "        max_x = x\n",
    "        max_d = d\n",
    "\n",
    "max_d"
   ]
  }
 ],
 "metadata": {
  "kernelspec": {
   "display_name": "Python 2",
   "language": "python",
   "name": "python2"
  },
  "language_info": {
   "codemirror_mode": {
    "name": "ipython",
    "version": 2
   },
   "file_extension": ".py",
   "mimetype": "text/x-python",
   "name": "python",
   "nbconvert_exporter": "python",
   "pygments_lexer": "ipython2",
   "version": "2.7.12"
  }
 },
 "nbformat": 4,
 "nbformat_minor": 2
}
