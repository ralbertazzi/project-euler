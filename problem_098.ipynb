{
 "cells": [
  {
   "cell_type": "markdown",
   "metadata": {},
   "source": [
    "# Problem 98\n",
    "\n",
    "By replacing each of the letters in the word CARE with 1, 2, 9, and 6 respectively, we form a square number: `1296 = 36^2`. What is remarkable is that, by using the same digital substitutions, the anagram, RACE, also forms a square number: 9216 = 96^2. We shall call CARE (and RACE) a square anagram word pair and specify further that leading zeroes are not permitted, neither may a different letter have the same digital value as another letter.\n",
    "\n",
    "Using words.txt (right click and 'Save Link/Target As...'), a 16K text file containing nearly two-thousand common English words, find all the square anagram word pairs (a palindromic word is NOT considered to be an anagram of itself).\n",
    "\n",
    "What is the largest square number formed by any member of such a pair?\n",
    "\n",
    "NOTE: All anagrams formed must be contained in the given text file."
   ]
  },
  {
   "cell_type": "code",
   "execution_count": 1,
   "metadata": {},
   "outputs": [],
   "source": [
    "with open(\"data/p098_words.txt\") as f:\n",
    "    words = f.read()\n",
    "    \n",
    "words = words.replace(\"\\\"\", \"\").split(\",\")"
   ]
  },
  {
   "cell_type": "code",
   "execution_count": 2,
   "metadata": {},
   "outputs": [],
   "source": [
    "from collections import defaultdict\n",
    "\n",
    "words_by_length = defaultdict(list)\n",
    "for word in words:\n",
    "    words_by_length[len(word)].append(word)"
   ]
  },
  {
   "cell_type": "code",
   "execution_count": 3,
   "metadata": {},
   "outputs": [],
   "source": [
    "def is_anagram(w1, w2) -> bool:\n",
    "    w2_dict = dict()\n",
    "    for c in w2:\n",
    "        if c in w2_dict:\n",
    "            w2_dict[c] += 1\n",
    "        else:\n",
    "            w2_dict[c] = 1\n",
    "        \n",
    "    for c in w1:\n",
    "        if c not in w2_dict or w2_dict[c] == 0:\n",
    "            return False\n",
    "        else:\n",
    "            w2_dict[c] -= 1\n",
    "    return True"
   ]
  },
  {
   "cell_type": "code",
   "execution_count": 4,
   "metadata": {},
   "outputs": [],
   "source": [
    "from itertools import product\n",
    "\n",
    "anagram_pairs = []\n",
    "w1_used = set()\n",
    "\n",
    "for length, words_subset in words_by_length.items():\n",
    "    for w1, w2 in product(words_subset, repeat=2):\n",
    "        if w1 != w2 and is_anagram(w1, w2):\n",
    "            if w2 not in w1_used:\n",
    "                anagram_pairs.append((w1, w2))\n",
    "                w1_used.add(w1)"
   ]
  },
  {
   "cell_type": "code",
   "execution_count": 5,
   "metadata": {},
   "outputs": [
    {
     "data": {
      "text/plain": [
       "[('CARE', 'RACE'),\n",
       " ('DEAL', 'LEAD'),\n",
       " ('EARN', 'NEAR'),\n",
       " ('EAST', 'SEAT'),\n",
       " ('FILE', 'LIFE'),\n",
       " ('FORM', 'FROM'),\n",
       " ('HATE', 'HEAT'),\n",
       " ('ITEM', 'TIME'),\n",
       " ('MALE', 'MEAL'),\n",
       " ('MEAN', 'NAME'),\n",
       " ('NOTE', 'TONE'),\n",
       " ('POST', 'SPOT'),\n",
       " ('POST', 'STOP'),\n",
       " ('RATE', 'TEAR'),\n",
       " ('SHUT', 'THUS'),\n",
       " ('SIGN', 'SING'),\n",
       " ('SPOT', 'STOP'),\n",
       " ('SURE', 'USER'),\n",
       " ('ARISE', 'RAISE'),\n",
       " ('BOARD', 'BROAD'),\n",
       " ('EARTH', 'HEART'),\n",
       " ('LEAST', 'STEAL'),\n",
       " ('NIGHT', 'THING'),\n",
       " ('PHASE', 'SHAPE'),\n",
       " ('QUIET', 'QUITE'),\n",
       " ('SHEET', 'THESE'),\n",
       " ('SHOUT', 'SOUTH'),\n",
       " ('THROW', 'WORTH'),\n",
       " ('CREATION', 'REACTION'),\n",
       " ('CENTRE', 'RECENT'),\n",
       " ('COURSE', 'SOURCE'),\n",
       " ('CREDIT', 'DIRECT'),\n",
       " ('DANGER', 'GARDEN'),\n",
       " ('EXCEPT', 'EXPECT'),\n",
       " ('FORMER', 'REFORM'),\n",
       " ('IGNORE', 'REGION'),\n",
       " ('INTRODUCE', 'REDUCTION'),\n",
       " ('ACT', 'CAT'),\n",
       " ('DOG', 'GOD'),\n",
       " ('EAT', 'TEA'),\n",
       " ('HOW', 'WHO'),\n",
       " ('ITS', 'SIT'),\n",
       " ('NOW', 'OWN'),\n",
       " ('NO', 'ON')]"
      ]
     },
     "execution_count": 5,
     "metadata": {},
     "output_type": "execute_result"
    }
   ],
   "source": [
    "anagram_pairs"
   ]
  },
  {
   "cell_type": "code",
   "execution_count": 6,
   "metadata": {},
   "outputs": [],
   "source": [
    "def permutation(w1, w2) -> list:\n",
    "    # Gli indici della prima parola nella seconda\n",
    "    res = []\n",
    "    w2_used = [False for _ in range(len(w2))]\n",
    "    w2 = list(w2)\n",
    "    for c in w1:\n",
    "        start = 0\n",
    "        idx = w2.index(c, start)\n",
    "        while w2_used[idx]:\n",
    "            start = idx + 1\n",
    "            idx = w2.index(c, start)\n",
    "        res.append(idx)\n",
    "        w2_used[idx] = True\n",
    "    return res\n",
    "        \n",
    "permutations = [permutation(w1, w2) for w1, w2 in anagram_pairs]"
   ]
  },
  {
   "cell_type": "code",
   "execution_count": 7,
   "metadata": {},
   "outputs": [],
   "source": [
    "n = 4\n",
    "squares = defaultdict(set) # len(square) -> [squares]\n",
    "while True:\n",
    "    square = n**2\n",
    "    l = len(str(square))\n",
    "    if l == 10:\n",
    "        break\n",
    "    else:\n",
    "        squares[l].add(str(square))\n",
    "        n = n + 1"
   ]
  },
  {
   "cell_type": "code",
   "execution_count": 8,
   "metadata": {},
   "outputs": [],
   "source": [
    "def can_assign(word: str, square: str) -> bool:\n",
    "    assignment = dict()\n",
    "    assigned_digits = set()\n",
    "    for w, s in zip(word, square):\n",
    "        if w in assignment and assignment[w] != s:\n",
    "            return False\n",
    "        if w not in assignment and s in assigned_digits:\n",
    "            return False\n",
    "        assignment[w] = s\n",
    "        assigned_digits.add(s)\n",
    "    return True"
   ]
  },
  {
   "cell_type": "code",
   "execution_count": 9,
   "metadata": {},
   "outputs": [
    {
     "name": "stdout",
     "output_type": "stream",
     "text": [
      "CARE RACE 1296 9216\n",
      "CARE RACE 9216 1296\n",
      "DEAL LEAD 1764 4761\n",
      "DEAL LEAD 4761 1764\n",
      "EAST SEAT 1296 2916\n",
      "FILE LIFE 1296 9216\n",
      "FILE LIFE 9216 1296\n",
      "HATE HEAT 1936 1369\n",
      "MALE MEAL 1936 1369\n",
      "MEAN NAME 1024 2401\n",
      "MEAN NAME 4096 9604\n",
      "NOTE TONE 1296 9216\n",
      "NOTE TONE 9216 1296\n",
      "POST SPOT 1296 2916\n",
      "POST STOP 9604 4096\n",
      "POST STOP 2401 1024\n",
      "RATE TEAR 9604 4096\n",
      "RATE TEAR 2401 1024\n",
      "SHUT THUS 1764 4761\n",
      "SHUT THUS 4761 1764\n",
      "BOARD BROAD 18769 17689\n",
      "DOG GOD 169 961\n",
      "DOG GOD 961 169\n",
      "EAT TEA 196 961\n",
      "EAT TEA 625 256\n",
      "HOW WHO 196 961\n",
      "HOW WHO 625 256\n",
      "ITS SIT 196 961\n",
      "ITS SIT 625 256\n",
      "NOW OWN 256 625\n",
      "NOW OWN 961 196\n"
     ]
    },
    {
     "data": {
      "text/plain": [
       "18769"
      ]
     },
     "execution_count": 9,
     "metadata": {},
     "output_type": "execute_result"
    }
   ],
   "source": [
    "max_square = 0\n",
    "\n",
    "for idx, (w1, w2) in enumerate(anagram_pairs):\n",
    "    p = permutation(w1, w2)\n",
    "    squares_same_length = squares[len(w1)]\n",
    "    squares_assignable_to_w1 = [s for s in squares_same_length if can_assign(w1, s)]\n",
    "    \n",
    "    for s in squares_assignable_to_w1:\n",
    "        permuted_square = \"\".join(s[idx] for idx in p)\n",
    "        if permuted_square in squares_same_length:\n",
    "            print(w1, w2, s, permuted_square)\n",
    "            max_square = max(max_square, int(s), int(permuted_square))\n",
    "max_square"
   ]
  }
 ],
 "metadata": {
  "kernelspec": {
   "display_name": "Python 3",
   "language": "python",
   "name": "python3"
  },
  "language_info": {
   "codemirror_mode": {
    "name": "ipython",
    "version": 3
   },
   "file_extension": ".py",
   "mimetype": "text/x-python",
   "name": "python",
   "nbconvert_exporter": "python",
   "pygments_lexer": "ipython3",
   "version": "3.8.1"
  }
 },
 "nbformat": 4,
 "nbformat_minor": 4
}
