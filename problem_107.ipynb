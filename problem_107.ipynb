{
 "cells": [
  {
   "cell_type": "markdown",
   "metadata": {},
   "source": [
    "# Problem 107\n",
    "\n",
    "### Minimal Network\n",
    "\n",
    "It is possible to optimise the network by removing some edges and still ensure that all points on the network remain connected. The network which achieves the maximum saving is shown below. It has a weight of 93, representing a saving of 243 − 93 = 150 from the original network. Using network.txt (right click and 'Save Link/Target As...'), a 6K text file containing a network with forty vertices, and given in matrix form, find the maximum saving which can be achieved by removing redundant edges whilst ensuring that the network remains connected."
   ]
  },
  {
   "cell_type": "markdown",
   "metadata": {},
   "source": [
    "### Solution\n",
    "\n",
    "This a case of [Minimum Spanning Tree](https://en.wikipedia.org/wiki/Minimum_spanning_tree) problem. It can be solved using [Kruskal's Algorithm](https://en.wikipedia.org/wiki/Kruskal%27s_algorithm):\n",
    "\n",
    "KRUSKAL(G):\n",
    "                    1. A = ∅\n",
    "                    2. foreach v ∈ G.V:\n",
    "                    3.    MAKE-SET(v)\n",
    "                    4. foreach (u, v) in G.E ordered by weight(u, v), increasing:\n",
    "                    5.    if FIND-SET(u) ≠ FIND-SET(v):\n",
    "                    6.       A = A ∪ {(u, v)}\n",
    "                    7.       UNION(u, v)\n",
    "                    8. return A"
   ]
  },
  {
   "cell_type": "code",
   "execution_count": 1,
   "metadata": {},
   "outputs": [],
   "source": [
    "import numpy as np\n",
    "from sortedcontainers import SortedList"
   ]
  },
  {
   "cell_type": "code",
   "execution_count": 2,
   "metadata": {},
   "outputs": [],
   "source": [
    "grid = np.genfromtxt('data/p107_network.txt', delimiter=',')\n",
    "grid[np.isnan(grid)] = -1\n",
    "grid = grid.astype(np.int)"
   ]
  },
  {
   "cell_type": "code",
   "execution_count": 3,
   "metadata": {},
   "outputs": [
    {
     "data": {
      "text/plain": [
       "259679"
      ]
     },
     "execution_count": 3,
     "metadata": {},
     "output_type": "execute_result"
    }
   ],
   "source": [
    "# The i-th value inside the trees variable indicates the index of the sub-tree of the vertex at index i.\n",
    "# Edges is a list of tuples (edge_i, edge_y, weight) ordered by weight (increasing)\n",
    "\n",
    "trees = np.arange(len(grid))\n",
    "edges = SortedList([(ey, ex, grid[ey, ex]) for ey, ex in zip(*np.where(grid > 0)) if ey > ex], key=lambda x: x[2])\n",
    "\n",
    "sum_weights = sum(e[2] for e in edges)\n",
    "min_weights = 0\n",
    "\n",
    "while np.count_nonzero(trees) > 0:\n",
    "    \n",
    "    e1, e2, weight = edges.pop(0)\n",
    "    if trees[e1] != trees[e2]:\n",
    "        if trees[e1] < trees[e2]:\n",
    "            trees[trees == trees[e2]] = trees[e1]\n",
    "        else:\n",
    "            trees[trees == trees[e1]] = trees[e2]\n",
    "        \n",
    "        min_weights += weight\n",
    "        \n",
    "sum_weights - min_weights"
   ]
  }
 ],
 "metadata": {
  "kernelspec": {
   "display_name": "Python 2",
   "language": "python",
   "name": "python2"
  },
  "language_info": {
   "codemirror_mode": {
    "name": "ipython",
    "version": 2
   },
   "file_extension": ".py",
   "mimetype": "text/x-python",
   "name": "python",
   "nbconvert_exporter": "python",
   "pygments_lexer": "ipython2",
   "version": "2.7.12"
  }
 },
 "nbformat": 4,
 "nbformat_minor": 2
}
