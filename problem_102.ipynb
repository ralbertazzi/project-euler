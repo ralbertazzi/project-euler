{
 "cells": [
  {
   "cell_type": "markdown",
   "metadata": {},
   "source": [
    "# Problem 102\n",
    "\n",
    "### Triangle containment\n",
    "\n",
    "Three distinct points are plotted at random on a Cartesian plane, for which -1000 ≤ x, y ≤ 1000, such that a triangle is formed.\n",
    "\n",
    "Consider the following two triangles:\n",
    "\n",
    "    A(-340,495), B(-153,-910), C(835,-947)\n",
    "\n",
    "    X(-175,41), Y(-421,-714), Z(574,-645)\n",
    "\n",
    "It can be verified that triangle ABC contains the origin, whereas triangle XYZ does not.\n",
    "\n",
    "Using triangles.txt (right click and 'Save Link/Target As...'), a 27K text file containing the co-ordinates of one thousand \"random\" triangles, find the number of triangles for which the interior contains the origin.\n",
    "\n",
    "NOTE: The first two examples in the file represent the triangles in the example given above."
   ]
  },
  {
   "cell_type": "markdown",
   "metadata": {},
   "source": [
    "### Solution\n",
    "\n",
    "The solution uses a fast and efficient solution to check if a point is inside a triangle (barycentric coordinates)"
   ]
  },
  {
   "cell_type": "code",
   "execution_count": 1,
   "metadata": {},
   "outputs": [],
   "source": [
    "def origin_in_triangle(coords):\n",
    "    \n",
    "    p00, p01, p10, p11, p20, p21 = coords\n",
    "    \n",
    "    dX = -p00\n",
    "    dY = -p01\n",
    "    dX20 = p20 - p00\n",
    "    dY20 = p21 - p01\n",
    "    dX10 = p10 - p00\n",
    "    dY10 = p11 - p01\n",
    "\n",
    "    s_p = (dY20*dX) - (dX20*dY)\n",
    "    t_p = (dX10*dY) - (dY10*dX)\n",
    "    D = (dX10*dY20) - (dY10*dX20)\n",
    "\n",
    "    if D > 0:\n",
    "        return (  (s_p >= 0) and (t_p >= 0) and (s_p + t_p) <= D  )\n",
    "    else:\n",
    "        return (  (s_p <= 0) and (t_p <= 0) and (s_p + t_p) >= D  )"
   ]
  },
  {
   "cell_type": "markdown",
   "metadata": {},
   "source": [
    "Read data"
   ]
  },
  {
   "cell_type": "code",
   "execution_count": 2,
   "metadata": {},
   "outputs": [],
   "source": [
    "with open('data/p102_triangles.txt') as f:\n",
    "    triangles = f.read().split()\n",
    "    \n",
    "triangles = [[int(n_str) for n_str in triangle.split(',')] for triangle in triangles]"
   ]
  },
  {
   "cell_type": "markdown",
   "metadata": {},
   "source": [
    "Call function for each set of points"
   ]
  },
  {
   "cell_type": "code",
   "execution_count": 3,
   "metadata": {},
   "outputs": [
    {
     "data": {
      "text/plain": [
       "228"
      ]
     },
     "execution_count": 3,
     "metadata": {},
     "output_type": "execute_result"
    }
   ],
   "source": [
    "sum(1 for triangle in triangles if origin_in_triangle(triangle))"
   ]
  }
 ],
 "metadata": {
  "kernelspec": {
   "display_name": "Python 2",
   "language": "python",
   "name": "python2"
  },
  "language_info": {
   "codemirror_mode": {
    "name": "ipython",
    "version": 2
   },
   "file_extension": ".py",
   "mimetype": "text/x-python",
   "name": "python",
   "nbconvert_exporter": "python",
   "pygments_lexer": "ipython2",
   "version": "2.7.12"
  }
 },
 "nbformat": 4,
 "nbformat_minor": 2
}
