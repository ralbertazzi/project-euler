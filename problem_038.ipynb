{
 "cells": [
  {
   "cell_type": "markdown",
   "metadata": {},
   "source": [
    "# Problem 38\n",
    "\n",
    "### Pandigital multiples\n",
    "\n",
    "Take the number 192 and multiply it by each of 1, 2, and 3:\n",
    "\n",
    "192 × 1 = 192\n",
    "\n",
    "192 × 2 = 384\n",
    "\n",
    "192 × 3 = 576\n",
    "\n",
    "By concatenating each product we get the 1 to 9 pandigital, 192384576. We will call 192384576 the concatenated product of 192 and (1,2,3)\n",
    "\n",
    "The same can be achieved by starting with 9 and multiplying by 1, 2, 3, 4, and 5, giving the pandigital, 918273645, which is the concatenated product of 9 and (1,2,3,4,5).\n",
    "\n",
    "What is the largest 1 to 9 pandigital 9-digit number that can be formed as the concatenated product of an integer with (1,2, ... , n) where n > 1?"
   ]
  },
  {
   "cell_type": "markdown",
   "metadata": {},
   "source": [
    "### Solution\n",
    "\n",
    "$n > 1$ is required so the search can be limited to numbers of up to 4 digits. If the starting number had 5 digits, the total number would have at least 10 digits."
   ]
  },
  {
   "cell_type": "code",
   "execution_count": 1,
   "metadata": {},
   "outputs": [],
   "source": [
    "def has_unique_non_zero_digits(number):\n",
    "    n_str = str(number)\n",
    "    return len(set(n_str)) == len(n_str)"
   ]
  },
  {
   "cell_type": "code",
   "execution_count": 2,
   "metadata": {},
   "outputs": [
    {
     "name": "stdout",
     "output_type": "stream",
     "text": [
      "5274\n"
     ]
    }
   ],
   "source": [
    "candidates = [n for n in xrange(1, 10000) if has_unique_non_zero_digits(n)]\n",
    "print len(candidates)"
   ]
  },
  {
   "cell_type": "code",
   "execution_count": 3,
   "metadata": {},
   "outputs": [
    {
     "name": "stdout",
     "output_type": "stream",
     "text": [
      "123456789\n",
      "918273645\n",
      "192384576\n",
      "219438657\n",
      "273546819\n",
      "327654981\n",
      "672913458\n",
      "679213584\n",
      "692713854\n",
      "726914538\n",
      "729314586\n",
      "732914658\n",
      "769215384\n",
      "792315846\n",
      "793215864\n",
      "926718534\n",
      "927318546\n",
      "932718654\n"
     ]
    }
   ],
   "source": [
    "all_pandigitals = []\n",
    "\n",
    "for c in candidates:\n",
    "    \n",
    "    pan = str(c)\n",
    "    n = 2\n",
    "    while len(pan) < 9:\n",
    "        pan += str(n * c)\n",
    "        n += 1\n",
    "        \n",
    "    if len(pan) == 9 and len(set(pan)) == 9 and '0' not in pan:\n",
    "        all_pandigitals.append(int(pan))\n",
    "        print pan"
   ]
  },
  {
   "cell_type": "code",
   "execution_count": 4,
   "metadata": {},
   "outputs": [
    {
     "data": {
      "text/plain": [
       "932718654"
      ]
     },
     "execution_count": 4,
     "metadata": {},
     "output_type": "execute_result"
    }
   ],
   "source": [
    "max(all_pandigitals)"
   ]
  }
 ],
 "metadata": {
  "kernelspec": {
   "display_name": "Python 2",
   "language": "python",
   "name": "python2"
  },
  "language_info": {
   "codemirror_mode": {
    "name": "ipython",
    "version": 2
   },
   "file_extension": ".py",
   "mimetype": "text/x-python",
   "name": "python",
   "nbconvert_exporter": "python",
   "pygments_lexer": "ipython2",
   "version": "2.7.12"
  }
 },
 "nbformat": 4,
 "nbformat_minor": 2
}
