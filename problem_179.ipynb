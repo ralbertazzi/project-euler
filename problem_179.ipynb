{
 "cells": [
  {
   "cell_type": "markdown",
   "metadata": {},
   "source": [
    "# Problem 179\n",
    "\n",
    "### Consecutive positive divisors\n",
    "\n",
    "Find the number of integers 1 < n < 10^7, for which n and n + 1 have the same number of positive divisors. For example, 14 has the positive divisors 1, 2, 7, 14 while 15 has 1, 3, 5, 15."
   ]
  },
  {
   "cell_type": "code",
   "execution_count": 1,
   "metadata": {},
   "outputs": [
    {
     "name": "stderr",
     "output_type": "stream",
     "text": [
      "100%|██████████| 4999998/4999998 [00:27<00:00, 183892.88it/s]\n"
     ]
    },
    {
     "data": {
      "text/plain": [
       "986262"
      ]
     },
     "execution_count": 1,
     "metadata": {},
     "output_type": "execute_result"
    }
   ],
   "source": [
    "import numpy as np\n",
    "from tqdm import trange\n",
    "\n",
    "N = 10000000\n",
    "count_divisors = np.zeros(N, dtype=np.int)\n",
    "\n",
    "for v in trange(2, N // 2):\n",
    "    count_divisors[2*v::v] += 1\n",
    "\n",
    "count_divisors = count_divisors[2:]\n",
    "\n",
    "np.count_nonzero(count_divisors[:-1] == count_divisors[1:])"
   ]
  }
 ],
 "metadata": {
  "kernelspec": {
   "display_name": "Python 2",
   "language": "python",
   "name": "python2"
  },
  "language_info": {
   "codemirror_mode": {
    "name": "ipython",
    "version": 2
   },
   "file_extension": ".py",
   "mimetype": "text/x-python",
   "name": "python",
   "nbconvert_exporter": "python",
   "pygments_lexer": "ipython2",
   "version": "2.7.12"
  }
 },
 "nbformat": 4,
 "nbformat_minor": 2
}
