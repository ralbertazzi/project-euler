{
 "cells": [
  {
   "cell_type": "markdown",
   "metadata": {},
   "source": [
    "# Problem 33\n",
    "\n",
    "### Digit cancelling fractions\n",
    "\n",
    "The fraction 49/98 is a curious fraction, as an inexperienced mathematician in attempting to simplify it may incorrectly believe that 49/98 = 4/8, which is correct, is obtained by cancelling the 9s.\n",
    "\n",
    "We shall consider fractions like, 30/50 = 3/5, to be trivial examples.\n",
    "\n",
    "There are exactly four non-trivial examples of this type of fraction, less than one in value, and containing two digits in the numerator and denominator.\n",
    "\n",
    "If the product of these four fractions is given in its lowest common terms, find the value of the denominator."
   ]
  },
  {
   "cell_type": "markdown",
   "metadata": {},
   "source": [
    "### Solution\n",
    "\n",
    "First we need to find these fractions, skipping the trivial examples (numbers that are multiples of 10 or 11).\n",
    "The specific tell us to search into the two-digit numbers and find the couples that give the same fraction when removing the same number (the position doesn't matter) from numerator and denominator. "
   ]
  },
  {
   "cell_type": "code",
   "execution_count": 1,
   "metadata": {},
   "outputs": [
    {
     "data": {
      "text/plain": [
       "[(16, 64), (19, 95), (26, 65), (49, 98)]"
      ]
     },
     "execution_count": 1,
     "metadata": {},
     "output_type": "execute_result"
    }
   ],
   "source": [
    "non_trivial_fractions = []\n",
    "\n",
    "for n in xrange(11, 100):\n",
    "    \n",
    "    if n % 10 == 0 or n % 11 == 0:\n",
    "        continue\n",
    "    \n",
    "    for d in xrange(n+1, 100):\n",
    "        \n",
    "        if d % 10 == 0 or n % 11 == 0:\n",
    "            continue\n",
    "            \n",
    "        n_str, d_str = str(n), str(d)\n",
    "            \n",
    "        for i1, i2 in [(0, 0), (0, 1), (1, 0), (1, 1)]:\n",
    "            \n",
    "            n_str_rev = n_str if i1 == 0 else n_str[::-1]\n",
    "            d_str_rev = d_str if i2 == 0 else d_str[::-1]\n",
    "            \n",
    "            simplified_n, removed_n = n_str_rev\n",
    "            simplified_d, removed_d = d_str_rev\n",
    "            \n",
    "            if removed_n == removed_d and float(n) / float(d) == float(simplified_n) / float(simplified_d):\n",
    "                non_trivial_fractions.append((n, d))\n",
    "\n",
    "non_trivial_fractions"
   ]
  },
  {
   "cell_type": "markdown",
   "metadata": {},
   "source": [
    "To find the lowest possible denominator, we need to multiply the fractions and divide the denominator by the greatest common divisor between the numerator of the product and the denominator of the product. "
   ]
  },
  {
   "cell_type": "code",
   "execution_count": 2,
   "metadata": {},
   "outputs": [
    {
     "name": "stdout",
     "output_type": "stream",
     "text": [
      "100\n"
     ]
    }
   ],
   "source": [
    "from utils.math import gcd, prod_of_list\n",
    "\n",
    "nums, dens = zip(*non_trivial_fractions)\n",
    "prod_num, prod_den = prod_of_list(nums), prod_of_list(dens)\n",
    "\n",
    "gcd_nd = gcd(prod_num, prod_den)\n",
    "print prod_den // gcd_nd"
   ]
  }
 ],
 "metadata": {
  "kernelspec": {
   "display_name": "Python 2",
   "language": "python",
   "name": "python2"
  },
  "language_info": {
   "codemirror_mode": {
    "name": "ipython",
    "version": 2
   },
   "file_extension": ".py",
   "mimetype": "text/x-python",
   "name": "python",
   "nbconvert_exporter": "python",
   "pygments_lexer": "ipython2",
   "version": "2.7.12"
  }
 },
 "nbformat": 4,
 "nbformat_minor": 2
}
