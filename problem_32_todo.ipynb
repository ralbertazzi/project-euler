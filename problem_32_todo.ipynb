{
 "cells": [
  {
   "cell_type": "markdown",
   "metadata": {},
   "source": [
    "# Problem 32\n",
    "\n",
    "We shall say that an n-digit number is pandigital if it makes use of all\n",
    "the digits 1 to n exactly once; for example, the 5-digit number, 15234, is\n",
    "1 through 5 pandigital.\n",
    "\n",
    "The product 7254 is unusual, as the identity, 39 × 186 = 7254, containing\n",
    "multiplicand, multiplier, and product is 1 through 9 pandigital.\n",
    "\n",
    "Find the sum of all products whose multiplicand/multiplier/product\n",
    "identity can be written as a 1 through 9 pandigital.\n",
    "\n",
    "HINT: Some products can be obtained in more than one way so be sure to\n",
    "only include it once in your sum."
   ]
  },
  {
   "cell_type": "markdown",
   "metadata": {},
   "source": [
    "### Solution\n",
    "\n",
    "Considering that we need at least one digit for both multiplicand and multiplier, the biggest product that we can obtain is 9876543, so we have a upper bound on the search space of around 10 millions."
   ]
  },
  {
   "cell_type": "code",
   "execution_count": 1,
   "metadata": {},
   "outputs": [
    {
     "data": {
      "text/plain": [
       "362880"
      ]
     },
     "execution_count": 1,
     "metadata": {},
     "output_type": "execute_result"
    }
   ],
   "source": [
    "from utils.math import factorial\n",
    "\n",
    "factorial(9)"
   ]
  },
  {
   "cell_type": "code",
   "execution_count": 18,
   "metadata": {},
   "outputs": [],
   "source": [
    "def combinations_with_repetitions(elements, k, depth=1, used_elements=[]):\n",
    "    \n",
    "    for el in [e for e in elements if e not in used_elements]:\n",
    "        if depth == k:\n",
    "            yield [el]\n",
    "        else:\n",
    "            _used_elements = used_elements[::]\n",
    "            _used_elements.append(el)\n",
    "\n",
    "            for sub_el in combinations_with_repetitions(elements, k, depth+1, _used_elements):\n",
    "                yield [el] + sub_el\n",
    "    "
   ]
  },
  {
   "cell_type": "code",
   "execution_count": 22,
   "metadata": {},
   "outputs": [],
   "source": [
    "def int_from_list_of_numbers(l):\n",
    "    return sum(base*(10**exp) for exp, base in enumerate(l[::-1]))"
   ]
  },
  {
   "cell_type": "code",
   "execution_count": 27,
   "metadata": {},
   "outputs": [],
   "source": [
    "allowed_digits = [1,2,3,4,5,6,7,8,9]\n",
    "all_combinations = {digits: [int_from_list_of_numbers(comb) for comb in combinations_with_repetitions(allowed_digits, digits)] \n",
    "                    for digits in xrange(1, 8)}"
   ]
  },
  {
   "cell_type": "code",
   "execution_count": 22,
   "metadata": {},
   "outputs": [],
   "source": [
    "all_numbers = list(range(1, 10))\n",
    "special_symbols = ['=', 'x'] #don-t change order!\n",
    "all_symbols = all_numbers + special_symbols\n",
    "\n",
    "nb_symbols = len(all_symbols)\n",
    "\n",
    "def permutations(current_depth=1, used_chars=[], last_is_symbol=False, mult_used=False, n_digits=0):\n",
    "    \n",
    "    if current_depth in (1, nb_symbols) or last_is_symbol:\n",
    "        symbols = all_numbers\n",
    "    else:\n",
    "        symbols = all_symbols\n",
    "    \n",
    "    for n in [n for n in symbols if n not in used_chars]:\n",
    "        if current_depth == nb_symbols:\n",
    "            #print n, mult_used, used_chars\n",
    "            yield [n]\n",
    "        else:\n",
    "            is_symbol = (n in special_symbols)\n",
    "            \n",
    "            _n_digits = n_digits\n",
    "            \n",
    "            if _n_digits > 5:\n",
    "                continue\n",
    "            \n",
    "            if is_symbol:\n",
    "                if _n_digits < 2:\n",
    "                    continue\n",
    "                else:\n",
    "                    _n_digits = 0\n",
    "            else:\n",
    "                _n_digits += 1\n",
    "            \n",
    "                \n",
    "            if n == '=' and not mult_used:\n",
    "                continue\n",
    "\n",
    "                \n",
    "            _used_chars = used_chars[::]  # make a copy of the used chars for the recursive call\n",
    "            _used_chars.append(n)\n",
    "            \n",
    "            for perm in permutations(current_depth + 1, _used_chars, is_symbol, mult_used or n=='x', _n_digits):\n",
    "                yield [n] + perm"
   ]
  },
  {
   "cell_type": "code",
   "execution_count": 23,
   "metadata": {},
   "outputs": [
    {
     "name": "stdout",
     "output_type": "stream",
     "text": [
      "[[1, 2, 3, 4, 5, 'x', 6, 7, 8, '=', 9], [1, 2, 3, 4, 5, 'x', 6, 7, 9, '=', 8], [1, 2, 3, 4, 5, 'x', 6, 7, '=', 8, 9], [1, 2, 3, 4, 5, 'x', 6, 7, '=', 9, 8], [1, 2, 3, 4, 5, 'x', 6, 8, 7, '=', 9], [1, 2, 3, 4, 5, 'x', 6, 8, 9, '=', 7], [1, 2, 3, 4, 5, 'x', 6, 8, '=', 7, 9], [1, 2, 3, 4, 5, 'x', 6, 8, '=', 9, 7], [1, 2, 3, 4, 5, 'x', 6, 9, 7, '=', 8], [1, 2, 3, 4, 5, 'x', 6, 9, 8, '=', 7], [1, 2, 3, 4, 5, 'x', 6, 9, '=', 7, 8], [1, 2, 3, 4, 5, 'x', 6, 9, '=', 8, 7], [1, 2, 3, 4, 5, 'x', 7, 6, 8, '=', 9], [1, 2, 3, 4, 5, 'x', 7, 6, 9, '=', 8], [1, 2, 3, 4, 5, 'x', 7, 6, '=', 8, 9], [1, 2, 3, 4, 5, 'x', 7, 6, '=', 9, 8], [1, 2, 3, 4, 5, 'x', 7, 8, 6, '=', 9], [1, 2, 3, 4, 5, 'x', 7, 8, 9, '=', 6], [1, 2, 3, 4, 5, 'x', 7, 8, '=', 6, 9], [1, 2, 3, 4, 5, 'x', 7, 8, '=', 9, 6]]\n"
     ]
    }
   ],
   "source": [
    "all_solutions = list(permutations())\n",
    "print all_solutions[:20]"
   ]
  },
  {
   "cell_type": "code",
   "execution_count": 21,
   "metadata": {},
   "outputs": [
    {
     "data": {
      "text/plain": [
       "5443200"
      ]
     },
     "execution_count": 21,
     "metadata": {},
     "output_type": "execute_result"
    }
   ],
   "source": [
    "from tqdm import tqdm\n",
    "\n",
    "def convert_to_numbers(solution):\n",
    "    "
   ]
  },
  {
   "cell_type": "code",
   "execution_count": 24,
   "metadata": {},
   "outputs": [
    {
     "name": "stdout",
     "output_type": "stream",
     "text": [
      "4717440\n"
     ]
    }
   ],
   "source": [
    "print len(all_solutions)"
   ]
  },
  {
   "cell_type": "code",
   "execution_count": null,
   "metadata": {},
   "outputs": [],
   "source": []
  }
 ],
 "metadata": {
  "kernelspec": {
   "display_name": "Python 2",
   "language": "python",
   "name": "python2"
  },
  "language_info": {
   "codemirror_mode": {
    "name": "ipython",
    "version": 2
   },
   "file_extension": ".py",
   "mimetype": "text/x-python",
   "name": "python",
   "nbconvert_exporter": "python",
   "pygments_lexer": "ipython2",
   "version": "2.7.12"
  }
 },
 "nbformat": 4,
 "nbformat_minor": 2
}
