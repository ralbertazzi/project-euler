{
 "cells": [
  {
   "cell_type": "markdown",
   "metadata": {},
   "source": [
    "# Problem 58\n",
    "\n",
    "Starting with 1 and spiralling anticlockwise in the following way, a square spiral with side length 7 is formed.\n",
    "\n",
    "        37 36 35 34 33 32 31\n",
    "        38 17 16 15 14 13 30\n",
    "        39 18  5  4  3 12 29\n",
    "        40 19  6  1  2 11 28\n",
    "        41 20  7  8  9 10 27\n",
    "        42 21 22 23 24 25 26\n",
    "        43 44 45 46 47 48 49\n",
    "        \n",
    "It is interesting to note that the odd squares lie along the bottom right diagonal, but what is more interesting is that 8 out of the 13 numbers lying along both diagonals are prime; that is, a ratio of 8/13 ≈ 62%.\n",
    "\n",
    "If one complete new layer is wrapped around the spiral above, a square spiral with side length 9 will be formed. If this process is continued, what is the side length of the square spiral for which the ratio of primes along both diagonals first falls below 10%?"
   ]
  },
  {
   "cell_type": "markdown",
   "metadata": {},
   "source": [
    "### Solution\n",
    "\n",
    "We can see that, if we currently are at the last number added in a grid of side length $n$ and the last number is $k$, to obtain the numbers in the diagonals in the grid of side length $l = n + 2$ we just need to compute $k + i*(l - 1), \\forall i \\in \\{1,4\\}$.\n",
    "\n",
    "First we are going to initialize the status of the algorithm with the status after computing the grid with size 3."
   ]
  },
  {
   "cell_type": "code",
   "execution_count": 1,
   "metadata": {},
   "outputs": [],
   "source": [
    "import numpy as np\n",
    "from utils.primes import is_prime_trial_division\n",
    "\n",
    "size = 3\n",
    "diagonal_count = 5\n",
    "diagonal_primes = 3\n",
    "primes_ratio = float(diagonal_primes) / diagonal_count\n",
    "last_generated_number = 9"
   ]
  },
  {
   "cell_type": "code",
   "execution_count": 2,
   "metadata": {},
   "outputs": [],
   "source": [
    "while primes_ratio > 0.1:\n",
    "    \n",
    "    size += 2\n",
    "    diagonal_count += 4\n",
    "    \n",
    "    new_diagonal_numbers = [last_generated_number + i * (size - 1) for i in (1,2,3,4)]\n",
    "    last_generated_number = new_diagonal_numbers[-1]\n",
    "    \n",
    "    diagonal_primes += sum(1 for p in new_diagonal_numbers if is_prime_trial_division(p))\n",
    "    \n",
    "    primes_ratio = float(diagonal_primes) / diagonal_count"
   ]
  },
  {
   "cell_type": "code",
   "execution_count": 3,
   "metadata": {},
   "outputs": [
    {
     "name": "stdout",
     "output_type": "stream",
     "text": [
      "26241 0.0999980945485\n"
     ]
    }
   ],
   "source": [
    "print size, primes_ratio"
   ]
  }
 ],
 "metadata": {
  "kernelspec": {
   "display_name": "Python 2",
   "language": "python",
   "name": "python2"
  },
  "language_info": {
   "codemirror_mode": {
    "name": "ipython",
    "version": 2
   },
   "file_extension": ".py",
   "mimetype": "text/x-python",
   "name": "python",
   "nbconvert_exporter": "python",
   "pygments_lexer": "ipython2",
   "version": "2.7.12"
  }
 },
 "nbformat": 4,
 "nbformat_minor": 2
}
