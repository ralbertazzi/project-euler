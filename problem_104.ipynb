{
 "cells": [
  {
   "cell_type": "markdown",
   "metadata": {},
   "source": [
    "# Problem 104\n",
    "\n",
    "The Fibonacci sequence is defined by the recurrence relation:\n",
    "\n",
    "    Fn = Fn−1 + Fn−2, where F1 = 1 and F2 = 1.\n",
    "    \n",
    "It turns out that F541, which contains 113 digits, is the first Fibonacci number for which the last nine digits are 1-9 pandigital (contain all the digits 1 to 9, but not necessarily in order). And F2749, which contains 575 digits, is the first Fibonacci number for which the first nine digits are 1-9 pandigital.\n",
    "\n",
    "Given that Fk is the first Fibonacci number for which the first nine digits AND the last nine digits are 1-9 pandigital, find k."
   ]
  },
  {
   "cell_type": "code",
   "execution_count": 1,
   "metadata": {},
   "outputs": [],
   "source": [
    "from utils.math import fibonacci\n",
    "from utils.iterate import take\n",
    "from tqdm import tqdm\n",
    "import math\n",
    "from multiprocessing import Pool"
   ]
  },
  {
   "cell_type": "code",
   "execution_count": 2,
   "metadata": {},
   "outputs": [],
   "source": [
    "def first_n_digits(num):\n",
    "    return num // 10 ** (int(math.log(num, 10)) - 8)\n",
    "\n",
    "def last_n_digits(num):\n",
    "    return num % 1000000000"
   ]
  },
  {
   "cell_type": "code",
   "execution_count": 3,
   "metadata": {},
   "outputs": [],
   "source": [
    "def is_1_to_9_pandigital_start_and_end(idx, number):\n",
    "    \n",
    "    first_9_digits = str(first_n_digits(number))\n",
    "    last_9_digits = str(last_n_digits(number))\n",
    "\n",
    "    for s in (first_9_digits, last_9_digits):\n",
    "        s = set(s)\n",
    "        if len(s) != 9 or '0' in s:\n",
    "            return idx, False\n",
    "\n",
    "    return idx, True\n",
    "\n",
    "def pandigital_batch(l):\n",
    "    return [is_1_to_9_pandigital_start_and_end(i, v) for i, v in l]\n",
    "\n",
    "def fibonacci_with_idx():\n",
    "    return enumerate(fibonacci(), start=1)\n",
    "\n",
    "def get_batch(gen, batch_size):\n",
    "    \n",
    "    while True:\n",
    "        yield [next(gen) for _ in xrange(batch_size)]"
   ]
  },
  {
   "cell_type": "code",
   "execution_count": null,
   "metadata": {},
   "outputs": [],
   "source": [
    "batch_size = 10000\n",
    "processes = 4\n",
    "pool = Pool(processes=processes)\n",
    "fib_batch = get_batch(fibonacci_with_idx(), batch_size)"
   ]
  },
  {
   "cell_type": "code",
   "execution_count": null,
   "metadata": {},
   "outputs": [
    {
     "name": "stdout",
     "output_type": "stream",
     "text": [
      "10000\n",
      "20000\n",
      "30000\n",
      "40000\n",
      "50000\n",
      "60000\n"
     ]
    }
   ],
   "source": [
    "batches = [next(fib_batch) for _ in range(processes)]\n",
    "results = [pool.apply_async(pandigital_batch, (batch,)) for batch in batches]\n",
    "\n",
    "while True:\n",
    "    \n",
    "    batches = [next(fib_batch) for _ in range(processes)]\n",
    "    \n",
    "    for result in results:\n",
    "        out_batch = result.get()\n",
    "        for idx, val in out_batch:\n",
    "            if val == True:\n",
    "                print idx\n",
    "                print 'Found!'\n",
    "                \n",
    "            if idx % 10000 == 0:\n",
    "                print idx\n",
    "        \n",
    "    results = [pool.apply_async(pandigital_batch, (batch,)) for batch in batches]\n",
    "    "
   ]
  },
  {
   "cell_type": "code",
   "execution_count": null,
   "metadata": {},
   "outputs": [],
   "source": [
    "b.next()"
   ]
  },
  {
   "cell_type": "code",
   "execution_count": null,
   "metadata": {},
   "outputs": [],
   "source": [
    "res = pool.apply_async(is_1_to_9_pandigital_start_and_end, input_fib)"
   ]
  },
  {
   "cell_type": "code",
   "execution_count": null,
   "metadata": {},
   "outputs": [],
   "source": [
    "res.get()"
   ]
  },
  {
   "cell_type": "code",
   "execution_count": null,
   "metadata": {},
   "outputs": [],
   "source": [
    "input_fib"
   ]
  },
  {
   "cell_type": "code",
   "execution_count": null,
   "metadata": {},
   "outputs": [],
   "source": [
    "for x in pool.imap_unordered(is_1_to_9_pandigital_start_and_end, *input_fib):\n",
    "    print x"
   ]
  },
  {
   "cell_type": "code",
   "execution_count": null,
   "metadata": {},
   "outputs": [],
   "source": [
    "pool = Pool(processes=4)\n",
    "results = pool.map(math.sqrt, range(1,70000000))\n",
    "print(results)"
   ]
  },
  {
   "cell_type": "code",
   "execution_count": null,
   "metadata": {},
   "outputs": [],
   "source": []
  }
 ],
 "metadata": {
  "kernelspec": {
   "display_name": "Python 2",
   "language": "python",
   "name": "python2"
  },
  "language_info": {
   "codemirror_mode": {
    "name": "ipython",
    "version": 2
   },
   "file_extension": ".py",
   "mimetype": "text/x-python",
   "name": "python",
   "nbconvert_exporter": "python",
   "pygments_lexer": "ipython2",
   "version": "2.7.12"
  }
 },
 "nbformat": 4,
 "nbformat_minor": 2
}
