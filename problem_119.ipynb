{
 "cells": [
  {
   "cell_type": "markdown",
   "metadata": {},
   "source": [
    "# Problem 119\n",
    "\n",
    "The number 512 is interesting because it is equal to the sum of its digits raised to some power: 5 + 1 + 2 = 8, and 8^3 = 512. Another example of a number with this property is 614656 = 28^4.\n",
    "\n",
    "We shall define an to be the nth term of this sequence and insist that a number must contain at least two digits to have a sum.\n",
    "\n",
    "You are given that a2 = 512 and a10 = 614656.\n",
    "\n",
    "Find a30."
   ]
  },
  {
   "cell_type": "code",
   "execution_count": 1,
   "metadata": {},
   "outputs": [
    {
     "data": {
      "text/plain": [
       "248155780267521"
      ]
     },
     "execution_count": 1,
     "metadata": {},
     "output_type": "execute_result"
    }
   ],
   "source": [
    "powers = []\n",
    "\n",
    "MAX_B, MAX_E = 200, 20\n",
    "\n",
    "for b in range(2, MAX_B):\n",
    "    start_e = 4 if b == 2 else 3 if b == 3 else 2\n",
    "    for e in range(start_e, MAX_E):\n",
    "        power = b ** e\n",
    "        sum_of_digits = sum(int(i) for i in str(power))\n",
    "        \n",
    "        if b == sum_of_digits:\n",
    "            powers.append(power)\n",
    "            \n",
    "powers = sorted(powers)\n",
    "powers[29]"
   ]
  }
 ],
 "metadata": {
  "kernelspec": {
   "display_name": "Python 3",
   "language": "python",
   "name": "python3"
  },
  "language_info": {
   "codemirror_mode": {
    "name": "ipython",
    "version": 3
   },
   "file_extension": ".py",
   "mimetype": "text/x-python",
   "name": "python",
   "nbconvert_exporter": "python",
   "pygments_lexer": "ipython3",
   "version": "3.8.1"
  }
 },
 "nbformat": 4,
 "nbformat_minor": 4
}
