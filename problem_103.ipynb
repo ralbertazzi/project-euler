{
 "cells": [
  {
   "cell_type": "markdown",
   "metadata": {},
   "source": [
    "# Problem 103\n",
    "\n",
    "Let S(A) represent the sum of elements in set A of size n. We shall call it a special sum set if for any two non-empty disjoint subsets, B and C, the following properties are true:\n",
    "\n",
    "- S(B) ≠ S(C); that is, sums of subsets cannot be equal.\n",
    "- If B contains more elements than C then S(B) > S(C).\n",
    "\n",
    "If S(A) is minimised for a given n, we shall call it an optimum special sum set. The first five optimum special sum sets are given below.\n",
    "\n",
    "```\n",
    "n = 1: {1}\n",
    "n = 2: {1, 2}\n",
    "n = 3: {2, 3, 4}\n",
    "n = 4: {3, 5, 6, 7}\n",
    "n = 5: {6, 9, 11, 12, 13}\n",
    "```\n",
    "\n",
    "It seems that for a given optimum set, `A = {a1, a2, ... , an}`, the next optimum set is of the form `B = {b, a1+b, a2+b, ... ,an+b}`, where b is the \"middle\" element on the previous row.\n",
    "\n",
    "By applying this \"rule\" we would expect the optimum set for n = 6 to be `A = {11, 17, 20, 22, 23, 24}`, with `S(A) = 117`. However, this is not the optimum set, as we have merely applied an algorithm to provide a near optimum set. The optimum set for n = 6 is `A = {11, 18, 19, 20, 22, 25}`, with S(A) = 115 and corresponding set string: 111819202225.\n",
    "\n",
    "Given that A is an optimum special sum set for n = 7, find its set string."
   ]
  },
  {
   "cell_type": "code",
   "execution_count": 1,
   "metadata": {},
   "outputs": [],
   "source": [
    "from dataclasses import dataclass\n",
    "from typing import Dict, Set, List\n",
    "\n",
    "\n",
    "@dataclass\n",
    "class Solution:\n",
    "    values: List[int]\n",
    "    sets: List[Set[int]]\n",
    "    min_sum_by_size: Dict[int, int]\n",
    "    max_sum_by_size: Dict[int, int]\n",
    "    sums: Set[int]\n",
    "        \n",
    "    @classmethod\n",
    "    def from_initial_value(cls, v):\n",
    "        solution = Solution(\n",
    "            values=[],\n",
    "            sets=list(),\n",
    "            sums=set(),\n",
    "            min_sum_by_size=dict(),\n",
    "            max_sum_by_size=dict()\n",
    "        )\n",
    "        solution.values.append(v)\n",
    "        solution.add_set({v})\n",
    "        return solution\n",
    "    \n",
    "    def add_set(self, s) -> bool:\n",
    "        set_size, set_sum = len(s), sum(s)\n",
    "        \n",
    "        if set_sum in self.sums:\n",
    "            return False\n",
    "        \n",
    "        if set_sum < self.max_sum_by_size.get(set_size - 1, 0):\n",
    "            return False\n",
    "        \n",
    "        if set_sum > self.min_sum_by_size.get(set_size + 1, 1000000):\n",
    "            return False\n",
    "        \n",
    "        self.sets.append(s)\n",
    "        self.min_sum_by_size[set_size] = min(self.min_sum_by_size.get(set_size, 1000000), set_sum)\n",
    "        self.max_sum_by_size[set_size] = max(self.max_sum_by_size.get(set_size, 0), set_sum)\n",
    "        self.sums.add(set_sum)\n",
    "        return True\n",
    "    \n",
    "    def combine_and_add(self, n) -> bool:\n",
    "        for s in list(self.sets):\n",
    "            sc = copy(s)\n",
    "            sc.add(n)\n",
    "            has_added = self.add_set(sc)\n",
    "            if not has_added:\n",
    "                return False\n",
    "        return True\n",
    "    \n",
    "    def do_step(self, n):\n",
    "        v1 = self.combine_and_add(n)\n",
    "        v2 = self.add_set({n})\n",
    "        return v1, v2"
   ]
  },
  {
   "cell_type": "code",
   "execution_count": 2,
   "metadata": {},
   "outputs": [],
   "source": [
    "from copy import deepcopy, copy\n",
    "\n",
    "BEST_SUM = 1000000\n",
    "BEST_SET = None\n",
    "TARGET_SIZE = 7\n",
    "\n",
    "def execute(s=None):\n",
    "    global BEST_SUM, BEST_SET\n",
    "    \n",
    "    if not s:\n",
    "        i = 1\n",
    "        best_sum_achievable = sum(range(i, i+TARGET_SIZE))\n",
    "        while best_sum_achievable < BEST_SUM:\n",
    "            solution = Solution.from_initial_value(i)\n",
    "            execute(solution)\n",
    "            i += 1\n",
    "            best_sum_achievable = sum(range(i, i+TARGET_SIZE))\n",
    "        print(f\"Stopped execution at start point = {i}\") \n",
    "\n",
    "    elif len(s.values) == TARGET_SIZE:\n",
    "        the_sum = sum(s.values)\n",
    "        if the_sum < BEST_SUM:\n",
    "            BEST_SUM = the_sum\n",
    "            BEST_SET = copy(s.values)\n",
    "            print(f\"\\nFOUND\\nFound best set {BEST_SET} with best sum {BEST_SUM}\\nFOUND\\n\")\n",
    "            \n",
    "    else:\n",
    "        n = s.values[-1] + 1\n",
    "        \n",
    "        best_sum_achievable = sum(s.values) + sum(range(n, n + TARGET_SIZE - len(s.values)))\n",
    "        while best_sum_achievable < BEST_SUM and n < 50:\n",
    "            if n > s.min_sum_by_size.get(2, 1000000):\n",
    "                break\n",
    "                \n",
    "            ss = deepcopy(s)\n",
    "            \n",
    "            \n",
    "            has_added = ss.combine_and_add(n)\n",
    "            if not has_added:\n",
    "                #print(f\"Skip execution at {s.values} with next_to_add={n} because sets insertion was not successful\")\n",
    "                n += 1\n",
    "                best_sum_achievable = sum(s.values) + sum(range(n, n + TARGET_SIZE - len(s.values)))\n",
    "                continue\n",
    "            \n",
    "            has_added = ss.add_set({n})\n",
    "            if not has_added:\n",
    "                #print(f\"Skip execution at {s.values} with next_to_add={n} because insertion was not successful\")\n",
    "                n += 1\n",
    "                best_sum_achievable = sum(s.values) + sum(range(n, n + TARGET_SIZE - len(s.values)))\n",
    "                continue\n",
    "                    \n",
    "            ss.values.append(n)\n",
    "            \n",
    "            execute(ss)\n",
    "            \n",
    "            n += 1\n",
    "            best_sum_achievable = sum(s.values) + sum(range(n, n + TARGET_SIZE - len(s.values)))\n",
    "            \n",
    "        #print(f\"Stopped execution at {s.values} with next_to_add={n}\")"
   ]
  },
  {
   "cell_type": "code",
   "execution_count": 3,
   "metadata": {
    "scrolled": true
   },
   "outputs": [
    {
     "name": "stdout",
     "output_type": "stream",
     "text": [
      "\n",
      "FOUND\n",
      "Found best set [20, 31, 38, 39, 40, 42, 45] with best sum 255\n",
      "FOUND\n",
      "\n",
      "Stopped execution at start point = 34\n"
     ]
    }
   ],
   "source": [
    "execute()"
   ]
  },
  {
   "cell_type": "code",
   "execution_count": 4,
   "metadata": {},
   "outputs": [
    {
     "data": {
      "text/plain": [
       "([20, 31, 38, 39, 40, 42, 45], 255)"
      ]
     },
     "execution_count": 4,
     "metadata": {},
     "output_type": "execute_result"
    }
   ],
   "source": [
    "BEST_SET, BEST_SUM"
   ]
  }
 ],
 "metadata": {
  "kernelspec": {
   "display_name": "Python 3",
   "language": "python",
   "name": "python3"
  },
  "language_info": {
   "codemirror_mode": {
    "name": "ipython",
    "version": 3
   },
   "file_extension": ".py",
   "mimetype": "text/x-python",
   "name": "python",
   "nbconvert_exporter": "python",
   "pygments_lexer": "ipython3",
   "version": "3.8.1"
  }
 },
 "nbformat": 4,
 "nbformat_minor": 4
}
