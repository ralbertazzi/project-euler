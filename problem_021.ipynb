{
 "cells": [
  {
   "cell_type": "markdown",
   "metadata": {},
   "source": [
    "# Problem 21\n",
    "\n",
    "\n",
    "Let d(n) be defined as the sum of proper divisors of n (numbers less than\n",
    "n which divide evenly into n).\n",
    "\n",
    "If d(a) = b and d(b) = a, where a ≠ b, then a and b are an amicable pair\n",
    "and each of a and b are called amicable numbers.\n",
    "\n",
    "For example, the proper divisors of 220 are 1, 2, 4, 5, 10, 11, 20, 22,\n",
    "44, 55 and 110; therefore d(220) = 284. The proper divisors of 284 are 1,\n",
    "2, 4, 71 and 142; so d(284) = 220.\n",
    "\n",
    "Evaluate the sum of all the amicable numbers under 10000."
   ]
  },
  {
   "cell_type": "markdown",
   "metadata": {},
   "source": [
    "### Solution\n",
    "\n",
    "First let's compute the proper divisors for each number"
   ]
  },
  {
   "cell_type": "code",
   "execution_count": 1,
   "metadata": {},
   "outputs": [],
   "source": [
    "from utils.math import proper_divisors\n",
    "            \n",
    "sum_proper_divisors_list = [sum(proper_divisors(n)) for n in xrange(2, 10000)]"
   ]
  },
  {
   "cell_type": "code",
   "execution_count": 2,
   "metadata": {},
   "outputs": [
    {
     "name": "stdout",
     "output_type": "stream",
     "text": [
      "[(220, 284), (1184, 1210), (2620, 2924), (5020, 5564), (6232, 6368)]\n"
     ]
    }
   ],
   "source": [
    "amicable_numbers_couples = [(n1, n2) for n1, sum_n1 in enumerate(sum_proper_divisors_list, start=2) \n",
    "                                for n2, sum_n2 in enumerate(sum_proper_divisors_list[n1+1:], start=2+n1+1)\n",
    "                                if sum_n1 == n2 and sum_n2 == n1]\n",
    "\n",
    "print amicable_numbers_couples"
   ]
  },
  {
   "cell_type": "code",
   "execution_count": 3,
   "metadata": {},
   "outputs": [
    {
     "name": "stdout",
     "output_type": "stream",
     "text": [
      "31626\n"
     ]
    }
   ],
   "source": [
    "print sum(n for amicable_couple in amicable_numbers_couples for n in amicable_couple)"
   ]
  }
 ],
 "metadata": {
  "kernelspec": {
   "display_name": "Python 2",
   "language": "python",
   "name": "python2"
  },
  "language_info": {
   "codemirror_mode": {
    "name": "ipython",
    "version": 2
   },
   "file_extension": ".py",
   "mimetype": "text/x-python",
   "name": "python",
   "nbconvert_exporter": "python",
   "pygments_lexer": "ipython2",
   "version": "2.7.12"
  }
 },
 "nbformat": 4,
 "nbformat_minor": 2
}
