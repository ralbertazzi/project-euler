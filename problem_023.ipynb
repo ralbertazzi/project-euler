{
 "cells": [
  {
   "cell_type": "markdown",
   "metadata": {},
   "source": [
    "# Problem 23\n",
    "\n",
    "A perfect number is a number for which the sum of its proper divisors is\n",
    "exactly equal to the number. For example, the sum of the proper divisors\n",
    "of 28 would be 1 + 2 + 4 + 7 + 14 = 28, which means that 28 is a perfect\n",
    "number.\n",
    "\n",
    "A number n is called deficient if the sum of its proper divisors is less\n",
    "than n and it is called abundant if this sum exceeds n.\n",
    "\n",
    "As 12 is the smallest abundant number, 1 + 2 + 3 + 4 + 6 = 16, the\n",
    "smallest number that can be written as the sum of two abundant numbers is 24. \n",
    "By mathematical analysis, it can be shown that all integers greater\n",
    "than 28123 can be written as the sum of two abundant numbers. However,\n",
    "this upper limit cannot be reduced any further by analysis even though it\n",
    "is known that the greatest number that cannot be expressed as the sum of\n",
    "two abundant numbers is less than this limit.\n",
    "\n",
    "Find the sum of all the positive integers which cannot be written as the\n",
    "sum of two abundant numbers."
   ]
  },
  {
   "cell_type": "markdown",
   "metadata": {},
   "source": [
    "### Solution"
   ]
  },
  {
   "cell_type": "code",
   "execution_count": 1,
   "metadata": {},
   "outputs": [],
   "source": [
    "import numpy as np\n",
    "from utils.math import proper_divisors\n",
    "\n",
    "UPPER_LIMIT = 28124"
   ]
  },
  {
   "cell_type": "markdown",
   "metadata": {},
   "source": [
    "First we compute the sum of proper divisors for each number:"
   ]
  },
  {
   "cell_type": "code",
   "execution_count": 2,
   "metadata": {},
   "outputs": [],
   "source": [
    "sum_proper_divisors_list = np.array([sum(proper_divisors(n)) for n in xrange(12, UPPER_LIMIT)])"
   ]
  },
  {
   "cell_type": "markdown",
   "metadata": {},
   "source": [
    "Then we compute the abundant numbers:"
   ]
  },
  {
   "cell_type": "code",
   "execution_count": 3,
   "metadata": {},
   "outputs": [
    {
     "name": "stdout",
     "output_type": "stream",
     "text": [
      "6965\n"
     ]
    }
   ],
   "source": [
    "abundant_numbers = [n for n, sum_n in enumerate(sum_proper_divisors_list, start=12) if sum_n > n]\n",
    "print len(abundant_numbers)"
   ]
  },
  {
   "cell_type": "markdown",
   "metadata": {},
   "source": [
    "Then we compute all the numbers that can be written as the sum of the abundant numbers. We remove the numbers below the upper limit and then we remove duplicates:"
   ]
  },
  {
   "cell_type": "code",
   "execution_count": 4,
   "metadata": {},
   "outputs": [
    {
     "name": "stdout",
     "output_type": "stream",
     "text": [
      "26667\n"
     ]
    }
   ],
   "source": [
    "sums_of_2_abundant_numbers = np.array([n1 + n2 for n1 in abundant_numbers for n2 in abundant_numbers])\n",
    "sums_of_2_abundant_numbers = sums_of_2_abundant_numbers[sums_of_2_abundant_numbers < UPPER_LIMIT]\n",
    "sums_of_2_abundant_numbers = np.unique(sums_of_2_abundant_numbers)\n",
    "\n",
    "print len(sums_of_2_abundant_numbers)"
   ]
  },
  {
   "cell_type": "markdown",
   "metadata": {},
   "source": [
    "And then we print the sum of all the numbers that can not be written as the sum of the abundant numbers:"
   ]
  },
  {
   "cell_type": "code",
   "execution_count": 5,
   "metadata": {},
   "outputs": [
    {
     "name": "stdout",
     "output_type": "stream",
     "text": [
      "4179871\n"
     ]
    }
   ],
   "source": [
    "print sum(n for n in xrange(UPPER_LIMIT) if n not in sums_of_2_abundant_numbers)"
   ]
  }
 ],
 "metadata": {
  "kernelspec": {
   "display_name": "Python 2",
   "language": "python",
   "name": "python2"
  },
  "language_info": {
   "codemirror_mode": {
    "name": "ipython",
    "version": 2
   },
   "file_extension": ".py",
   "mimetype": "text/x-python",
   "name": "python",
   "nbconvert_exporter": "python",
   "pygments_lexer": "ipython2",
   "version": "2.7.12"
  }
 },
 "nbformat": 4,
 "nbformat_minor": 2
}
