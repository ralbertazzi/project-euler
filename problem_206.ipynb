{
 "cells": [
  {
   "cell_type": "markdown",
   "metadata": {},
   "source": [
    "# Problem 206\n",
    "\n",
    "### Concealed Square\n",
    "\n",
    "Find the unique positive integer whose square has the form 1_2_3_4_5_6_7_8_9_0,\n",
    "where each - is a single digit."
   ]
  },
  {
   "cell_type": "markdown",
   "metadata": {},
   "source": [
    "### Solution\n",
    "\n",
    "First we can find the lower and upper bound of the integer that we need to find.\n",
    "Then we can consider that the least significant digits of the target integer have to be \"30\" or \"70\" since that they are the only one that can give a square with least significant digits \"9-0\""
   ]
  },
  {
   "cell_type": "code",
   "execution_count": 1,
   "metadata": {},
   "outputs": [
    {
     "name": "stdout",
     "output_type": "stream",
     "text": [
      "Total searches: 7578514\n"
     ]
    }
   ],
   "source": [
    "from math import sqrt, floor, ceil\n",
    "\n",
    "min_v = int(ceil(sqrt(1020304050607080900)))\n",
    "max_v = int(floor(sqrt(1929394959697989990)))\n",
    "\n",
    "min_v -= min_v % 100 + 100\n",
    "max_v -= max_v % 100\n",
    "\n",
    "print 'Total searches:', (max_v - min_v) * 2 / 100"
   ]
  },
  {
   "cell_type": "code",
   "execution_count": 2,
   "metadata": {},
   "outputs": [
    {
     "name": "stdout",
     "output_type": "stream",
     "text": [
      "1389019170 1929374254627488900\n"
     ]
    }
   ],
   "source": [
    "target = \"1_2_3_4_5_6_7_8_9_0\"\n",
    "\n",
    "try:\n",
    "    \n",
    "    for v in xrange(min_v, max_v + 1, 100):\n",
    "        for t in (30, 70):\n",
    "\n",
    "            value = v + t\n",
    "            square = str(value ** 2)\n",
    "\n",
    "            found = True\n",
    "\n",
    "            for i in xrange(2, 15, 2):\n",
    "                if square[i] != target[i]:\n",
    "                    found = False\n",
    "                    break\n",
    "\n",
    "            if found:\n",
    "                print value, square\n",
    "                raise ValueError\n",
    "                \n",
    "except ValueError:\n",
    "    pass"
   ]
  }
 ],
 "metadata": {
  "kernelspec": {
   "display_name": "Python 2",
   "language": "python",
   "name": "python2"
  },
  "language_info": {
   "codemirror_mode": {
    "name": "ipython",
    "version": 2
   },
   "file_extension": ".py",
   "mimetype": "text/x-python",
   "name": "python",
   "nbconvert_exporter": "python",
   "pygments_lexer": "ipython2",
   "version": "2.7.12"
  }
 },
 "nbformat": 4,
 "nbformat_minor": 2
}
