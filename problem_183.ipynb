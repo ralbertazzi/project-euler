{
 "cells": [
  {
   "cell_type": "markdown",
   "metadata": {},
   "source": [
    "# Problem 183\n",
    "\n",
    "### Maximum product of parts\n",
    "\n",
    "Let N be a positive integer and let N be split into k equal parts, r = N/k, so that N = r + r + ... + r.\n",
    "Let P be the product of these parts, P = r × r × ... × r = rk.\n",
    "\n",
    "For example, if 11 is split into five equal parts, 11 = 2.2 + 2.2 + 2.2 + 2.2 + 2.2, then P = 2.2^5 = 51.53632.\n",
    "\n",
    "Let M(N) = Pmax for a given value of N.\n",
    "\n",
    "It turns out that the maximum for N = 11 is found by splitting eleven into four equal parts which leads to Pmax = (11/4)^4; that is, M(11) = 14641/256 = 57.19140625, which is a terminating decimal.\n",
    "\n",
    "However, for N = 8 the maximum is achieved by splitting it into three equal parts, so M(8) = 512/27, which is a non-terminating decimal.\n",
    "\n",
    "Let D(N) = N if M(N) is a non-terminating decimal and D(N) = -N if M(N) is a terminating decimal.\n",
    "\n",
    "For example, ΣD(N) for 5 ≤ N ≤ 100 is 2438.\n",
    "\n",
    "Find ΣD(N) for 5 ≤ N ≤ 10000."
   ]
  },
  {
   "cell_type": "markdown",
   "metadata": {},
   "source": [
    "### Solution\n",
    "\n",
    "First we need to find, for each $N$, the value $k$ that allows us to obtain $M(N)$. We basically have to maximize the function:\n",
    "\n",
    "$$ f(k) = \\left(\\frac{N}{k} \\right)^k $$\n",
    "\n",
    "We can compute its derivative:\n",
    "\n",
    "$$ f'(k) = \\left(\\frac{N}{k} \\right)^k \\left(\\ln{\\frac{N}{k}} -1 \\right) $$\n",
    "\n",
    "And find where the derivative is 0; this is achieved for:\n",
    "\n",
    "$$  k = \\frac{N}{e} $$\n",
    "\n",
    "In our problem $k$ is not continuous, but an integer value; we can then find the integer $k$ by rounding the result to the closest integer."
   ]
  },
  {
   "cell_type": "code",
   "execution_count": 1,
   "metadata": {},
   "outputs": [],
   "source": [
    "import numpy as np"
   ]
  },
  {
   "cell_type": "code",
   "execution_count": 2,
   "metadata": {},
   "outputs": [],
   "source": [
    "N = 10000\n",
    "K = np.array([round(n / np.e) for n in xrange(5, N + 1)], dtype=np.int)"
   ]
  },
  {
   "cell_type": "markdown",
   "metadata": {},
   "source": [
    "We can the notice that $M(N)$ is a non-terminating decimal if and only $N / k_{max}$ is a non-terminating decimal.\n",
    "\n",
    "1. First attempt: using a function that tries to divide $N$ by $k$ and looks for cycles is very slow for big prime $k$. The entire loop takes 1'30\"\n",
    "2. Second attempt: every simplified fraction that contains factors that are not 2 neither 5 in the denominator are non-terminating fraction. We can then find the factors of all Ks and if *n* is not a multiple of the non-2 and non-5 factors of k then we have a non-terminating fraction. This solution is extremely fast"
   ]
  },
  {
   "cell_type": "code",
   "execution_count": 3,
   "metadata": {},
   "outputs": [],
   "source": [
    "from utils.primes import primes_sieve\n",
    "\n",
    "primes = primes_sieve(N)"
   ]
  },
  {
   "cell_type": "code",
   "execution_count": 4,
   "metadata": {},
   "outputs": [],
   "source": [
    "def factorization(k):\n",
    "    \n",
    "    factors = {}\n",
    "    r = k\n",
    "    \n",
    "    for p in primes:\n",
    "        \n",
    "        if p > k // 2:\n",
    "            yield k, 1\n",
    "            break\n",
    "          \n",
    "        power = 0\n",
    "        \n",
    "        while r % p == 0:\n",
    "            r /= p\n",
    "            power += 1\n",
    "            \n",
    "        if power > 0:\n",
    "            yield p, power\n",
    "            \n",
    "        if r == 1:\n",
    "            break  "
   ]
  },
  {
   "cell_type": "code",
   "execution_count": 5,
   "metadata": {},
   "outputs": [],
   "source": [
    "def terminates(n, k):\n",
    "    for f, p in factorization(k):\n",
    "        if f != 2 and f != 5:\n",
    "            if n % (f ** p) > 0:\n",
    "                return False\n",
    "            \n",
    "    return True"
   ]
  },
  {
   "cell_type": "code",
   "execution_count": 6,
   "metadata": {},
   "outputs": [
    {
     "data": {
      "text/plain": [
       "48861552"
      ]
     },
     "execution_count": 6,
     "metadata": {},
     "output_type": "execute_result"
    }
   ],
   "source": [
    "D = [-n if terminates(n, K[n-5]) else n for n in xrange(5, N + 1)]\n",
    "sum(D)"
   ]
  }
 ],
 "metadata": {
  "kernelspec": {
   "display_name": "Python 2",
   "language": "python",
   "name": "python2"
  },
  "language_info": {
   "codemirror_mode": {
    "name": "ipython",
    "version": 2
   },
   "file_extension": ".py",
   "mimetype": "text/x-python",
   "name": "python",
   "nbconvert_exporter": "python",
   "pygments_lexer": "ipython2",
   "version": "2.7.12"
  }
 },
 "nbformat": 4,
 "nbformat_minor": 2
}
