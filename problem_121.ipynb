{
 "cells": [
  {
   "cell_type": "markdown",
   "metadata": {},
   "source": [
    "# Problem 121\n",
    "\n",
    "### Disc Game Prize Fund\n",
    "\n",
    "A bag contains one red disc and one blue disc. In a game of chance a player takes a disc at random and its colour is noted. After each turn the disc is returned to the bag, an extra red disc is added, and another disc is taken at random.\n",
    "\n",
    "The player pays £1 to play and wins if they have taken more blue discs than red discs at the end of the game.\n",
    "\n",
    "If the game is played for four turns, the probability of a player winning is exactly 11/120, and so the maximum prize fund the banker should allocate for winning in this game would be £10 before they would expect to incur a loss. Note that any payout will be a whole number of pounds and also includes the original £1 paid to play the game, so in the example given the player actually wins £9.\n",
    "\n",
    "Find the maximum prize fund that should be allocated to a single game in which fifteen turns are played."
   ]
  },
  {
   "cell_type": "markdown",
   "metadata": {},
   "source": [
    "### Solution\n",
    "\n",
    "Instead of finding all possible combinations of blue and red discs, we work for probabilities in a recursive way.\n",
    "\n",
    "In each step $s$ (where we have $s$ red discs and 1 blue disc), where we already got $b$ blue discs, the probability of having a winning configuration is given by:\n",
    "\n",
    "$$ P_{s}(b) = \\frac{1}{s+1}P_{s+1}(b+1) + \\frac{s}{s+1}P_{s+1}(b) $$\n",
    "\n",
    "We then seek to find $P_{1}(0)$ and we can do that in a recursive way. We can stop iterating in two case:\n",
    "1. The number of blue discs found is equals to the minimum target number of blue discs (turns // 2 + 1): probability is 1\n",
    "2. The number of blue discs to be found is equals to the number of extractions that we still need to perform. In this case all extracted discs have to be blue and the probability is therefore given by:\n",
    "\n",
    "$$ \\frac{1}{s+1}\\times\\frac{1}{s+2}\\times ... \\times \\frac{1}{s_{max}+1}$$\n",
    "\n",
    "Once we found $P_{1}(0) = P$, we can tell that the average gain for the banker is:\n",
    "\n",
    "$$ (1-P) \\times 1 - P \\times prize  $$\n",
    "\n",
    "Since we want the expression to be positive, we find:\n",
    "\n",
    "$$ prize < \\frac{1-P}{P}$$"
   ]
  },
  {
   "cell_type": "code",
   "execution_count": 1,
   "metadata": {},
   "outputs": [],
   "source": [
    "from fractions import Fraction\n",
    "from utils.math import prod_of_list\n",
    "from math import floor"
   ]
  },
  {
   "cell_type": "code",
   "execution_count": 2,
   "metadata": {},
   "outputs": [],
   "source": [
    "turns = 15\n",
    "blue_target = turns // 2 + 1\n",
    "\n",
    "def rec_compute(blue_found=0, depth=0):\n",
    "    \n",
    "    if blue_found == blue_target:\n",
    "        return 1\n",
    "    \n",
    "    blue_to_be_found = blue_target - blue_found\n",
    "    if blue_to_be_found == turns - depth:\n",
    "        single_prob_den = prod_of_list([d + 2 for d in xrange(depth, turns)])\n",
    "        single_prob = Fraction(1, single_prob_den)\n",
    "        return single_prob\n",
    "    \n",
    "    discs = depth + 2\n",
    "    return Fraction(1, discs) * rec_compute(blue_found + 1, depth + 1) + Fraction(discs - 1, discs) * rec_compute(blue_found, depth + 1)\n",
    "\n",
    "win_prob = rec_compute()"
   ]
  },
  {
   "cell_type": "code",
   "execution_count": 3,
   "metadata": {},
   "outputs": [
    {
     "data": {
      "text/plain": [
       "2269"
      ]
     },
     "execution_count": 3,
     "metadata": {},
     "output_type": "execute_result"
    }
   ],
   "source": [
    "prize = int(floor(win_prob.denominator / float(win_prob.numerator)))\n",
    "prize"
   ]
  }
 ],
 "metadata": {
  "kernelspec": {
   "display_name": "Python 2",
   "language": "python",
   "name": "python2"
  },
  "language_info": {
   "codemirror_mode": {
    "name": "ipython",
    "version": 2
   },
   "file_extension": ".py",
   "mimetype": "text/x-python",
   "name": "python",
   "nbconvert_exporter": "python",
   "pygments_lexer": "ipython2",
   "version": "2.7.12"
  }
 },
 "nbformat": 4,
 "nbformat_minor": 2
}
