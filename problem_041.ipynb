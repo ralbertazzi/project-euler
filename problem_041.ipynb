{
 "cells": [
  {
   "cell_type": "markdown",
   "metadata": {},
   "source": [
    "# Problem 41\n",
    "\n",
    "### Pandigital prime\n",
    "\n",
    "We shall say that an n-digit number is pandigital if it makes use of all the digits 1 to n exactly once. For example, 2143 is a 4-digit pandigital and is also prime.\n",
    "\n",
    "What is the largest n-digit pandigital prime that exists?"
   ]
  },
  {
   "cell_type": "markdown",
   "metadata": {},
   "source": [
    "### Solution\n",
    "\n",
    "The proposed solution generates all the possibile n-digit pandigitals (from 3 to 9 digits) and finds the biggest n-digit pandigital number that is prime.\n",
    "The Miller-Rabin primality test is used to quickly remove a lot of composite numbers and save time when checking with trial division if a number is prime"
   ]
  },
  {
   "cell_type": "code",
   "execution_count": 1,
   "metadata": {},
   "outputs": [],
   "source": [
    "from utils.primes import miller_rabin_base_2, is_prime_trial_division\n",
    "from utils.math import number_from_list_of_digits"
   ]
  },
  {
   "cell_type": "code",
   "execution_count": 2,
   "metadata": {},
   "outputs": [
    {
     "data": {
      "text/plain": [
       "409110"
      ]
     },
     "execution_count": 2,
     "metadata": {},
     "output_type": "execute_result"
    }
   ],
   "source": [
    "def permutation(numbers, current_depth=1, used_chars=[]):\n",
    "    \n",
    "    for n in [n for n in xrange(1,numbers+1) if n not in used_chars]:\n",
    "        if current_depth == numbers:\n",
    "            yield [n]\n",
    "        else:\n",
    "            _used_chars = used_chars[::]  # make a copy of the used chars for the recursive call\n",
    "            _used_chars.append(n)\n",
    "            \n",
    "            for perm in permutation(numbers, current_depth + 1, _used_chars):\n",
    "                yield [n] + perm\n",
    " \n",
    "\n",
    "pandigitals = []\n",
    "for n in range(3, 10):    \n",
    "    pandigitals += list(number_from_list_of_digits(p) for p in permutation(n))\n",
    "len(pandigitals)"
   ]
  },
  {
   "cell_type": "code",
   "execution_count": 3,
   "metadata": {},
   "outputs": [
    {
     "name": "stdout",
     "output_type": "stream",
     "text": [
      "538\n"
     ]
    }
   ],
   "source": [
    "possible_primes = [n for n in pandigitals if miller_rabin_base_2(n)]\n",
    "possible_primes.sort()\n",
    "print len(possible_primes)"
   ]
  },
  {
   "cell_type": "code",
   "execution_count": 4,
   "metadata": {},
   "outputs": [
    {
     "name": "stdout",
     "output_type": "stream",
     "text": [
      "7652413\n"
     ]
    }
   ],
   "source": [
    "for possible_prime in possible_primes[::-1]:\n",
    "    if is_prime_trial_division(possible_prime):  # we found a real prime\n",
    "        print possible_prime\n",
    "        break"
   ]
  }
 ],
 "metadata": {
  "kernelspec": {
   "display_name": "Python 2",
   "language": "python",
   "name": "python2"
  },
  "language_info": {
   "codemirror_mode": {
    "name": "ipython",
    "version": 2
   },
   "file_extension": ".py",
   "mimetype": "text/x-python",
   "name": "python",
   "nbconvert_exporter": "python",
   "pygments_lexer": "ipython2",
   "version": "2.7.12"
  }
 },
 "nbformat": 4,
 "nbformat_minor": 2
}
